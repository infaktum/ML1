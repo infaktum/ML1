{
 "cells": [
  {
   "cell_type": "markdown",
   "id": "f12d1ea6-5773-47b7-914a-7a8077e03361",
   "metadata": {},
   "source": [
    "# Regression"
   ]
  },
  {
   "cell_type": "markdown",
   "id": "86420d8d-0733-4684-b394-d856ec62ec35",
   "metadata": {},
   "source": [
    "Ein __Regressionsverfahren__ in der KI (Künstlichen Intelligenz) bezeichnet eine Methode des __überwachten Lernens__ (_supervised learning_), bei der ein Modell auf Basis von Trainingsdaten eine _kontinuierliche_ Ausgabe vorhersagt. Das Ziel ist es, eine Funktion zu finden, die die Beziehung zwischen Eingangsvariablen und Zielvariablen (Target) beschreibt.\n",
    "\n",
    "Die Regression unterscheidet sich von der __Klassifizierung__ dadurch, dass es bei letzterer nur eine endliche Zahl von möglichen Ausgaben gibt (die Klassen). Ein Klassifizierer soll Eingabedaten genau einer dieser vorgegebenen Klassen zuordnen. Bei einer Regression sind dagegen alle (evtl. mehrdimensionalen) Werte zulässig."
   ]
  },
  {
   "cell_type": "markdown",
   "id": "9f70a419-6b0a-404b-aaff-470a31ab23e1",
   "metadata": {},
   "source": [
    "## Das Problem"
   ]
  },
  {
   "cell_type": "markdown",
   "id": "3519a8dd-aa3c-4305-bb90-3b83586a8c44",
   "metadata": {},
   "source": [
    "Es liegt eine Menge Daten __X__ mit dazugehörenden Werten __y__ vor. Wir nehmen nun an, dass es einen (einfachen) funktionalen Zusammenhang zwischen den Daten gibt. Das ist unser __Modell__. Unsere Aufgabe ist es nun, eine Funktion zu finden, die _am besten_ zu den vorgegebenen Daten passt. Diese Funktion kann etwa ein Polynom sein, aber auch eine ganz andere Form der Zuordnung."
   ]
  },
  {
   "cell_type": "markdown",
   "id": "26c86a27-f71f-4abc-bb15-0dcdca2aa166",
   "metadata": {},
   "source": [
    "## Mathematische Beschreibung"
   ]
  },
  {
   "cell_type": "markdown",
   "id": "4ea91633-e4b0-4337-ac9e-702642949fe6",
   "metadata": {},
   "source": [
    "Eine mathematische Beschreibung des Problem könnte so aussehen:\n",
    "\n",
    "Gegeben sind zwei Mengen von jeweils $k$ Elementen\n",
    "\n",
    "$$X = \\{x_1,x_2,\\cdots,x_k\\} \\,\\,\\, \\text{und} \\,\\,\\,  y = \\{y_1,y_2,\\cdots,y_k\\},$$\n",
    "\n",
    "wobei die Elemente $x_i$ von $X$ $M$-dimensionale Vektoren aus dem $\\mathbb{R}^M$ und die Elemente $y_i$ von $y$ $N$-dimensionale Vektoren aus dem $\\mathbb{R}^N$ sind.\n",
    "\n",
    "Gesucht ist eine stetige Funktion \n",
    "\n",
    "$$F: \\mathbb{R}^M \\rightarrow \\mathbb{R}^N,$$ so dass $$F(x_i) \\approx y_i$$ gilt. \n",
    "\n",
    "$F$ soll also einen vermuteten funktionalen Zusammenhang zwischen $X$ und $y$ \"möglichst gut approximieren\". Dies lässt sich noch genauer definieren:\n",
    "\n",
    "Ist $\\mathscr{L}$ eine Funktion, die die Güte der Approximation bestimmt (die sogenannte __Loss-Function__). so ist die Funktion $F$ gesucht, die $\\mathscr{L}$ unter allen anderen Funktionen minimiert; d.h. $\\mathscr{L}(F)$ ist minimal.\n",
    "\n"
   ]
  },
  {
   "cell_type": "markdown",
   "id": "02de9301-58c2-445d-8c25-c3fde4c0f5d6",
   "metadata": {},
   "source": [
    "## Computertechnische Beschreibung"
   ]
  },
  {
   "cell_type": "markdown",
   "id": "1048a154-5391-4561-860e-2702556b4a04",
   "metadata": {},
   "source": [
    "Die mathematische (und etwas abstrakte) Formulierung lässt sich Schritt für Schitt in eine Anweisung für die Entwicklung eines Computer-Programms übersetzen:\n",
    "\n",
    "Zu vorhandenen Datensätzen __X__ und __y__  mit gleich vielen Zeilen, wobei jede Zeile (die Eingabedaten) in  __X__ aus $M$ Daten (Features) besteht, und die entsprechende Zeile aus $y$ (den _Targets_) entspricht mit jeweils $N$ Daten.\n",
    "\n",
    "Wir sollen eine Methode `predict` entwickeln, deren Eingabe jeweils eine Zeile aus __X__ ist und deren Ausgabe _ungefähr_ gleich der entsprechenden Zeile aus __y__ sein soll:\n",
    "\n",
    "$$\\text{predict}(x_i) \\approx y_i$$ \n",
    "\n",
    "Um die Qualität von `predict`zu testen, gibt es eine Methode `score`, die `predict` sowie Testdaten __X_test__ und __y_test__ als Argumente besitzt. Wir stellen an `predict` die Anforderung, dass sie in `score` eingesetzt einen maximalen (oder sehr großen Wert) ergibt: \n",
    "\n",
    "$$\\text{score}(\\text{pedict,X,y}) = \\text{maximal}$$"
   ]
  },
  {
   "cell_type": "code",
   "execution_count": null,
   "id": "31c44c55-d750-4283-8134-ca8d4de61534",
   "metadata": {},
   "outputs": [],
   "source": []
  }
 ],
 "metadata": {
  "kernelspec": {
   "display_name": "Python 3 (ipykernel)",
   "language": "python",
   "name": "python3"
  },
  "language_info": {
   "codemirror_mode": {
    "name": "ipython",
    "version": 3
   },
   "file_extension": ".py",
   "mimetype": "text/x-python",
   "name": "python",
   "nbconvert_exporter": "python",
   "pygments_lexer": "ipython3",
   "version": "3.10.13"
  }
 },
 "nbformat": 4,
 "nbformat_minor": 5
}
