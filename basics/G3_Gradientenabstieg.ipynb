{
 "cells": [
  {
   "cell_type": "markdown",
   "id": "ebe92ece-971a-4c99-9e79-ca6b80576ba9",
   "metadata": {},
   "source": [
    "# Grundlagen 3: Das Gradientenabstiegs-Verfahren"
   ]
  },
  {
   "cell_type": "code",
   "execution_count": 1,
   "id": "86340e22-713d-4ea9-bdeb-a85d2cd44f6f",
   "metadata": {},
   "outputs": [],
   "source": [
    "import numpy as np\n",
    "import matplotlib.pyplot as plt\n",
    "\n",
    "from polynom import Polynom"
   ]
  },
  {
   "cell_type": "markdown",
   "id": "64fa0377-acb8-42a2-b0a2-f652014c29e4",
   "metadata": {},
   "source": [
    "Bei der linearen Regeression versuchen wir, die Verlustfunktion\n",
    "\n",
    "$$D(m,b) = \\sum_{k=1}^N (F(x_k) - y_k)^2 = \\sum_{k=1}^N (mx_k + b - y_k)^2$$\n",
    "\n",
    "durch Anpassung der beiden Parameter $m$ und $b$ zu minimieren. Das ist möglich, da es sich um eine quadratische Funktion handelt, deren Graph ein Paraboloid mit einem eindeutigen Minimum ist.\n",
    "\n",
    "Dieses Minimum konnten wir direkt bestimmen, in dem wir die gemeinsame Nullstelle der Gleichungen\n",
    "\n",
    "$$\\frac{\\partial D}{\\partial m} (m,b) = \\sum_{k=1}^N 2 x_k(mx_k + b - y_k) = 0 $$\n",
    "$$\\frac{\\partial D}{\\partial b} (m,b) = \\sum_{k=1}^N 2 (mx_k + b - y_k) = 0$$\n",
    "\n",
    "berechnet haben.\n",
    "\n",
    "Lässt sich dieses Verfahren auch auf andere Situationen anwenden? Wenn wesentlich mehr als zwei Parameter gibt - und in der KI sind Hunderte / Tausende / Millionen von Parametern die Regel - ist eine exakte Bestimmung eines Minimums zu aufwändig oder gar unmöglich. In diesem Fall bietet sich ein anderes Verfahren an, das vergleichsweise schnell zu einer Lösung führt, die aber in der Regel nicht optimal sein wird: das __Gradientenabstiegs-Verfahren__. Die Idee ist recht einfach, und wir wollen sie am Beispiel der linearen Regression demonstrieren.\n"
   ]
  },
  {
   "cell_type": "markdown",
   "id": "e123416d-a30c-4dc4-aec9-2c861f0b464f",
   "metadata": {},
   "source": [
    "### Der Gradientenabstieg\n",
    "\n",
    "Stellen wir uns vor, dass wir auf dem Paraboloid herumwandern. Nach links und rechts bleiben wir auf gleicher Höhe, aber es gibt auch Richtungen, in denen es auf- oder abwärts geht, und zwar unterschiedlich schnell. Folgen wir der Richtung des schnellestn Abstiegs, so gelangen wir in kürzester Zeit am Minimum.\n",
    "\n",
    "Wie finden wir diese Richtung? Dazu verwenden wir die Ausdrücke aus den Gleichungssystem und fassen sie zu einem Vektor zusammen:\n",
    "\n",
    "$$ \\text{grad} D = (\\frac{\\partial D}{\\partial m},\\frac{\\partial D}{\\partial b}) (m,b) = (\\sum_{k=1}^N 2 x_k(mx_k + b - y_k) , \\sum_{k=1}^N 2 (mx_k + b - y_k) )$$\n",
    "\n",
    "Dieser Vektor heißt der __Gradient__ von $D$, und er zeigt in _die Richtung des steilsten Anstiegs_. In diese Richtung wollen wir nicht laufen, denn wir wollen ja abwärts gehen. Wir aufen daher in die entgegengesetzte Richtung.\n",
    "\n",
    "Der Algorithmus sieht daher so aus:\n",
    "\n",
    "1. Wir beginnen an einem Punkt $m,b$ und berechnen  $-\\text{grad} D(m,b)$.\n",
    "2. Wir gehen ein kleines Stück in die Richtung,die durch $-\\text{grad} D(m,b)$ definiert ist. Die Länge dieses Stücks können wir mit einem Parameter $\\epsilon$ festlegen.\n",
    "3. Wir wiederholen Schritte 1. und 2., bis wir eine vorgegebene Abbruchbedingung erreicht haben. .B. können wir die Änderungsraten von $D$ überprüfen, oder wir geben eine maximale Anzahl von Iterationen vor.\n",
    "\n",
    "Das Verfahren ist nicht perfekt, aber erstaunlich effizient und einfacht zu implementieren:"
   ]
  },
  {
   "cell_type": "code",
   "execution_count": 2,
   "id": "8eabcf92-5394-494a-8aca-cae81b1ef030",
   "metadata": {},
   "outputs": [],
   "source": [
    "def koeff(x,y):\n",
    "    \"\"\"\n",
    "    Berechnung der Koeffizienten\n",
    "    \"\"\"\n",
    "    sum_x = np.sum(x)\n",
    "    sum_y = np.sum(y)\n",
    "    sum_xx = np.sum(x * x)\n",
    "    sum_xy = np.sum(x * y)\n",
    "    N = x.shape[0]\n",
    "    return sum_xx, sum_x, -sum_xy, sum_x, N, -sum_y\n",
    "\n",
    "def grad(k,a,b):\n",
    "    \"\"\"\n",
    "    Berechnung des Gradienten im Punkt a,b. Die Koeffizienten wurden bereits berechnet\n",
    "    \"\"\"\n",
    "    sum_x2, sum_x, sum_xy, sum_x, N, sum_y = k\n",
    "    \n",
    "    dD_da = 2 * (sum_x2 * a +  sum_x *b  + sum_xy)\n",
    "    dD_db = 2 * (sum_x * a + N * b + sum_y)\n",
    "    return dD_da, dD_db\n",
    "\n",
    "def grad_abstieg(x,y,a,b,epsilon=0.001,iterationen=1000):\n",
    "    k = koeff(x,y)\n",
    "    for _ in range(iterationen):\n",
    "        da,db = grad(k,a,b)\n",
    "        a -= epsilon * da\n",
    "        b -= epsilon * db\n",
    "    return a,b"
   ]
  },
  {
   "cell_type": "markdown",
   "id": "70e00e9f-fe2a-4cb5-b4d8-cedd77db0412",
   "metadata": {
    "tags": []
   },
   "source": [
    "### Unser Beispiel, mit Gradientenabstieg berechnet"
   ]
  },
  {
   "cell_type": "markdown",
   "id": "5959bfba-d79c-4f3b-be67-edd7ed73fa27",
   "metadata": {},
   "source": [
    "Bei der Linearen Regression hatten wir die Koeffizienten der Ausgleichgerade an einem Beispiel direkt berechnet und erhielten die Gerade $g(x)= 1,553 x + 4,158$ als exakte Lösung des Problems. Wir versuchen nun, dieselbe Aufgabe mit Hilfe des Gradientenabstiegsverfahrens zu lösen."
   ]
  },
  {
   "cell_type": "code",
   "execution_count": 3,
   "id": "74f0374f-3edc-4c39-a885-9a63754a3f4d",
   "metadata": {},
   "outputs": [
    {
     "data": {
      "image/png": "[encoded data removed]",
      "text/plain": [
       "<Figure size 640x480 with 1 Axes>"
      ]
     },
     "metadata": {},
     "output_type": "display_data"
    }
   ],
   "source": [
    "x,y = np.array([1,3,6]),np.array([5,10,13])\n",
    "\n",
    "m,b = grad_abstieg(x,y,0,0,epsilon=0.01,iterationen=1000)\n",
    "p = Polynom([b,m])\n",
    "\n",
    "plt.scatter(x,y)\n",
    "p.plot(plt,0,7)\n",
    "plt.show()\n"
   ]
  },
  {
   "cell_type": "markdown",
   "id": "3b618b0a-e671-48c1-a024-21e259bd988a",
   "metadata": {},
   "source": [
    "Wir erhalten dasselbe Ergebnis!"
   ]
  }
 ],
 "metadata": {
  "kernelspec": {
   "display_name": "Python 3 (ipykernel)",
   "language": "python",
   "name": "python3"
  },
  "language_info": {
   "codemirror_mode": {
    "name": "ipython",
    "version": 3
   },
   "file_extension": ".py",
   "mimetype": "text/x-python",
   "name": "python",
   "nbconvert_exporter": "python",
   "pygments_lexer": "ipython3",
   "version": "3.10.13"
  }
 },
 "nbformat": 4,
 "nbformat_minor": 5
}
