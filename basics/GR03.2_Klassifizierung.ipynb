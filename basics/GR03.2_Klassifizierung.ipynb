{
 "cells": [
  {
   "cell_type": "markdown",
   "id": "b1c2a5f7-253c-4d72-a95f-ecf7fd23a7fb",
   "metadata": {},
   "source": [
    "# Klassifizierung"
   ]
  },
  {
   "cell_type": "markdown",
   "id": "d0872b59-770a-4b5e-9690-0d47c555b8b0",
   "metadata": {},
   "source": [
    "Ein __Klassifizierungsverfahren__ in der KI (Künstlichen Intelligenz) bezeichnet eine Methode des __überwachten Lernens__ (_supervised learning_), bei der ein Modell auf Basis von Trainingsdaten Daten verschiedenen Klassen zuordnen kann. Die klassen bilden dabei eine endliche diskrete Menge.\n",
    "\n",
    "Die Klassifizierung unterscheidet sich von der __Regression__ dadurch, dass bei letzterer eine _kontinuierliche_ Funktion gesucht wird. "
   ]
  },
  {
   "cell_type": "code",
   "execution_count": null,
   "id": "0d6862e0-8a41-447f-bd1d-c3d05213da5c",
   "metadata": {},
   "outputs": [],
   "source": []
  },
  {
   "cell_type": "markdown",
   "id": "26c86a27-f71f-4abc-bb15-0dcdca2aa166",
   "metadata": {},
   "source": [
    "## Mathematische Beschreibung"
   ]
  },
  {
   "cell_type": "markdown",
   "id": "4ea91633-e4b0-4337-ac9e-702642949fe6",
   "metadata": {},
   "source": [
    "Eine mathematische Beschreibung des Problem könnte so aussehen:\n",
    "\n",
    "Gegeben sind zwei Mengen von jeweils $k$ Elementen\n",
    "\n",
    "$$X = \\{x_1,x_2,\\cdots,x_k\\} \\,\\,\\, \\text{und} \\,\\,\\,  y = \\{y_1,y_2,\\cdots,y_k\\},$$\n",
    "\n",
    "wobei die Elemente $x_i$ von $X$ $M$-dimensionale Vektoren aus dem $\\mathbb{R}^M$ und die Elemente $y_i$ von $y$ aus einer endlichen Menge von Klassen $\\{c_1, c_2, \\cdots, c_N\\}$ sind.\n",
    "\n",
    "Gesucht ist eine Abbildung\n",
    "\n",
    "$$C: \\mathbb{R}^M \\rightarrow \\{c_1, c_2, \\cdots, c_N\\},$$\n",
    "so dass $$C(x_i) = y_i$$ gilt. \n",
    "\n",
    "$C$ soll also jeden Datensatz aus der Menge der Eingabedaten einer einzelnen Klasse aus __y__ zuordnen.\n",
    "\n",
    "Beschränkt man sich auf die vorhandene Menge __X__, so ist dies natürlich immer möglich. Der _Klassifizierer__  $C$ soll aber auch für ihn neue Eingabedaten korrekte Ergebnisse liefern, oder zumindest in sovielen Fällen wir möglich.\n",
    "\n"
   ]
  },
  {
   "cell_type": "markdown",
   "id": "02de9301-58c2-445d-8c25-c3fde4c0f5d6",
   "metadata": {},
   "source": [
    "## Computertechnische Beschreibung"
   ]
  },
  {
   "cell_type": "markdown",
   "id": "1048a154-5391-4561-860e-2702556b4a04",
   "metadata": {},
   "source": [
    "Die mathematische (und etwas abstrakte) Formulierung lässt sich Schritt für Schitt in eine Anweisung für die Entwicklung eines Computer-Programms übersetzen:\n",
    "\n",
    "Zu vorhandenen Datensätzen __X__ und __y__  mit gleich vielen Zeilen, wobei jede Zeile (die Eingabedaten) in  __X__ aus $M$ Daten (Features) besteht, und die entsprechende Zeile aus $y$ (den _Targets_) entspricht einem Element der $N$ Klassen.\n",
    "\n",
    "Wir sollen eine Methode `predict` entwickeln, deren Eingabe jeweils eine Zeile aus __X__ ist und deren Ausgabe eine der $N$ Klassen ist:\n",
    "\n",
    "$$\\text{predict}(x_i) == y_i$$ \n",
    "\n",
    "Um die Qualität von `predict`zu testen, gibt es eine Methode `score`, die `predict` sowie Testdaten __X_test__ und __y_test__ als Argumente besitzt. Wir stellen an `predict` die Anforderung, dass sie in `score` eingesetzt einen maximalen (oder sehr großen Wert) ergibt: \n",
    "\n",
    "$$\\text{score}(\\text{pedict,X,y}) = \\text{maximal}$$"
   ]
  },
  {
   "cell_type": "code",
   "execution_count": null,
   "id": "1ce91b31-0ae1-40c6-b02e-7de239f00057",
   "metadata": {},
   "outputs": [],
   "source": []
  }
 ],
 "metadata": {
  "kernelspec": {
   "display_name": "Python 3 (ipykernel)",
   "language": "python",
   "name": "python3"
  },
  "language_info": {
   "codemirror_mode": {
    "name": "ipython",
    "version": 3
   },
   "file_extension": ".py",
   "mimetype": "text/x-python",
   "name": "python",
   "nbconvert_exporter": "python",
   "pygments_lexer": "ipython3",
   "version": "3.12.9"
  }
 },
 "nbformat": 4,
 "nbformat_minor": 5
}
