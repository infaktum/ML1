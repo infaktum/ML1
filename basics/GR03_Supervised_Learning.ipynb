{
 "cells": [
  {
   "cell_type": "markdown",
   "id": "e2ab4756-299e-49c0-8e78-e9904ae73056",
   "metadata": {},
   "source": [
    "# Supervised Learning (Überwachtes Lernen)"
   ]
  },
  {
   "cell_type": "markdown",
   "id": "f5485616-1f48-47bb-8fd8-b1cdaa16d547",
   "metadata": {},
   "source": [
    "Supervised Learning (überwachtes Lernen) in der Künstlichen Intelligenz (KI) ist ein maschinelles Lernverfahren, bei dem ein Modell anhand eines _gelabelten_ Datensatzes trainiert wird."
   ]
  },
  {
   "cell_type": "markdown",
   "id": "c0a7a345-877f-4d28-8692-fd9291558820",
   "metadata": {},
   "source": [
    "## Wie funktioniert Supervised Learning?"
   ]
  },
  {
   "cell_type": "markdown",
   "id": "38158c2f-708e-4ec4-a60b-346ddda02854",
   "metadata": {},
   "source": [
    "Grundlage des Supervised Learning ist das Vorhandensein eines gelabelten Datensatzes, d.h. die vorhandenen Daten sind bereits bewertet. Beispiel:\n",
    "\n",
    "* Fotodatenbank: Abbildungen von Tieren, wobei bei jedem Foto das abgebildete Tier bezeichnet ist\n",
    "* Immobilien: Tabellen von Daten über Immobilien mit Angaben zu Größe, Baujahr, Ausstattung. Hier ist der Preis das Label.\n",
    "\n",
    "Der Ablauf  beim Supervised Learning ist stets derselbe:"
   ]
  },
  {
   "cell_type": "markdown",
   "id": "028c44f3-69f7-484d-b8cc-92033a2a0e6e",
   "metadata": {},
   "source": [
    "### 1. Aufteilung der Daten\n",
    "\n",
    "Die Daten werden in zwei teile aufgeteilt\n",
    "\n",
    "* Trainingsdaten: Der größere teil der Daten wird zum Training des Modells verwendet\n",
    "* Testdaten: Ein kleinerer teil wird nach dem Training zur Überprüfung der Zuverlässigkeit des Modells verwendet"
   ]
  },
  {
   "cell_type": "markdown",
   "id": "95e7567e-bdcd-4dac-ad48-e0bc6f3ddcab",
   "metadata": {},
   "source": [
    "### 2. Training\n",
    "\n",
    "Das Modell wird mit Hilfe der Trainingsdaten trainiert. Dazu werden die Eingabedaten zusammen mit den Labels übergeben, und die Parameter des Modells entsprechend angepasst. Dazu können auch mehrere Durchläufe möglich sein, wobei die Daten auch immer wieder gemischt werden."
   ]
  },
  {
   "cell_type": "markdown",
   "id": "c42f3a69-e796-49e7-8a3f-2ed197eb6691",
   "metadata": {},
   "source": [
    "### 3. Validierung\n",
    "\n",
    "Das trainierte Modell wird nun mit Hilfe der Testdaten __validiert__, um seine Zuverlässigkeit zu prüfen. Die Treffergenauigkeit ergibt einen __Score__, der mit dem gewünschten Ergebnis (z.B. 99 % Genauigkeit) verglichen werden kann. Ggf. muss das Training fortgesetzt oder komplett neu durchgeführt werden, indem etwa _Hyperparameter_ angepasst werden. "
   ]
  },
  {
   "cell_type": "markdown",
   "id": "add6472c-b4ff-49b7-bb34-91fa885a9805",
   "metadata": {},
   "source": [
    "## Verfahren mit Supervised Learning\n",
    "\n",
    "Eine erste Einteilung wäre die folgende:"
   ]
  },
  {
   "cell_type": "markdown",
   "id": "284ed86c-e3db-4c2d-a35b-44431d5f1a46",
   "metadata": {},
   "source": [
    "### Regression\n",
    "\n",
    "Bei der Regression sagt das Modell __kontinuierliche Werte__ voraus. Beispiel sind etwa\n",
    "\n",
    "* Wettervorhersage (Wie hoch wird die Temperatur morgen sein?)\n",
    "* Immobilienbewertung (Wie viel kostet ein Haus basierend auf Größe und Lage?)"
   ]
  },
  {
   "cell_type": "markdown",
   "id": "28eebdb3-23ed-498d-ab50-4b512bc63938",
   "metadata": {},
   "source": [
    "### Klassifizierung\n",
    "\n",
    "Das Modell sagt __diskrete Werte__ voraus, d.h. es ordnet Eingaben bestimmten Kategorien zu.\n",
    "\n",
    "* Gesichtserkennung (Ist das Bild eine Katze oder ein Hund?)\n",
    "* Spam-Erkennung (Ist die E-Mail Spam oder nicht?)\n",
    "  "
   ]
  },
  {
   "cell_type": "markdown",
   "id": "6b810344-8063-498a-8692-5516a46874be",
   "metadata": {},
   "source": [
    "## Verfahren mit Supervised Learning\n",
    "\n",
    "* Lineare Regression\n",
    "* Logistische Regression\n",
    "* Decision Trees und Random Forests\n",
    "* Supprt Vector Machines (SVM)\n",
    "* k-Nearest Neighbour\n",
    "* Neuronale Netze\n",
    "  "
   ]
  },
  {
   "cell_type": "code",
   "execution_count": null,
   "id": "f047fb3f-a2b4-450b-bdcf-18bb145940e2",
   "metadata": {},
   "outputs": [],
   "source": []
  }
 ],
 "metadata": {
  "kernelspec": {
   "display_name": "Python 3 (ipykernel)",
   "language": "python",
   "name": "python3"
  },
  "language_info": {
   "codemirror_mode": {
    "name": "ipython",
    "version": 3
   },
   "file_extension": ".py",
   "mimetype": "text/x-python",
   "name": "python",
   "nbconvert_exporter": "python",
   "pygments_lexer": "ipython3",
   "version": "3.12.11"
  }
 },
 "nbformat": 4,
 "nbformat_minor": 5
}
