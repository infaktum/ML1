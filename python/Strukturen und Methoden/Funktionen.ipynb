{
 "cells": [
  {
   "cell_type": "markdown",
   "id": "1ed8ede3-1482-49b1-8175-a561b8d974be",
   "metadata": {},
   "source": [
    "# Python: Funktionen"
   ]
  },
  {
   "cell_type": "markdown",
   "id": "2d066f5e-503c-47a4-b1b5-4d98fb530897",
   "metadata": {},
   "source": [
    "### Funktions-Definitionen"
   ]
  },
  {
   "cell_type": "markdown",
   "id": "1a2ffa2e-f98a-45f7-b313-d18ffd1ed825",
   "metadata": {},
   "source": [
    "### Mehrfache Rückgabewerte"
   ]
  },
  {
   "cell_type": "markdown",
   "id": "9bcaada6-aa15-4f16-8d9b-24c864bbecd0",
   "metadata": {},
   "source": [
    "### Anonyme Funktionen - Lambdas"
   ]
  },
  {
   "cell_type": "code",
   "execution_count": null,
   "id": "e207a602-27b0-446f-9c31-e57d74f8ebe2",
   "metadata": {},
   "outputs": [],
   "source": []
  }
 ],
 "metadata": {
  "kernelspec": {
   "display_name": "Python 3 (ipykernel)",
   "language": "python",
   "name": "python3"
  },
  "language_info": {
   "codemirror_mode": {
    "name": "ipython",
    "version": 3
   },
   "file_extension": ".py",
   "mimetype": "text/x-python",
   "name": "python",
   "nbconvert_exporter": "python",
   "pygments_lexer": "ipython3",
   "version": "3.10.13"
  }
 },
 "nbformat": 4,
 "nbformat_minor": 5
}
