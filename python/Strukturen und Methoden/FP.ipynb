{
 "cells": [
  {
   "cell_type": "markdown",
   "id": "e36a2103-5a19-4967-9ff0-3943ad61bf5d",
   "metadata": {},
   "source": [
    "# Python: Funktionale Programmierung"
   ]
  },
  {
   "cell_type": "code",
   "execution_count": null,
   "id": "2ae38986-e04e-4bcc-b1fb-e07130a3af4f",
   "metadata": {},
   "outputs": [],
   "source": []
  },
  {
   "cell_type": "markdown",
   "id": "b9ed0596-936c-4faa-86a8-41a6164d3c96",
   "metadata": {},
   "source": [
    "# Lambdas"
   ]
  },
  {
   "cell_type": "code",
   "execution_count": null,
   "id": "c319b9cf-4971-4a76-a219-bee1ddea8178",
   "metadata": {},
   "outputs": [],
   "source": []
  }
 ],
 "metadata": {
  "kernelspec": {
   "display_name": "Python 3 (ipykernel)",
   "language": "python",
   "name": "python3"
  },
  "language_info": {
   "codemirror_mode": {
    "name": "ipython",
    "version": 3
   },
   "file_extension": ".py",
   "mimetype": "text/x-python",
   "name": "python",
   "nbconvert_exporter": "python",
   "pygments_lexer": "ipython3",
   "version": "3.10.13"
  }
 },
 "nbformat": 4,
 "nbformat_minor": 5
}
