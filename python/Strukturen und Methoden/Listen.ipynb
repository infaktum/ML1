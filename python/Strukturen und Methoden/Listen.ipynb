{
 "cells": [
  {
   "cell_type": "markdown",
   "id": "5bd85449-8dee-4f6c-bca7-96560cc6e79a",
   "metadata": {},
   "source": [
    "# Listen in Python"
   ]
  },
  {
   "cell_type": "markdown",
   "id": "e7dd3f57-555e-4e1d-b2ce-70911e85eb8b",
   "metadata": {},
   "source": [
    "### Definitionen von Listen"
   ]
  },
  {
   "cell_type": "markdown",
   "id": "df291616-bb0a-4848-af6c-fc0969543479",
   "metadata": {},
   "source": [
    "### List Comprehension"
   ]
  },
  {
   "cell_type": "code",
   "execution_count": null,
   "id": "89b8ce05-651c-4afb-85b9-e7379cdc156b",
   "metadata": {},
   "outputs": [],
   "source": []
  }
 ],
 "metadata": {
  "kernelspec": {
   "display_name": "Python 3 (ipykernel)",
   "language": "python",
   "name": "python3"
  },
  "language_info": {
   "codemirror_mode": {
    "name": "ipython",
    "version": 3
   },
   "file_extension": ".py",
   "mimetype": "text/x-python",
   "name": "python",
   "nbconvert_exporter": "python",
   "pygments_lexer": "ipython3",
   "version": "3.10.13"
  }
 },
 "nbformat": 4,
 "nbformat_minor": 5
}
