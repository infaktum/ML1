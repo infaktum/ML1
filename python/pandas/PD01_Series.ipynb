{
 "cells": [
  {
   "cell_type": "markdown",
   "id": "5b26d353-f29c-4090-8c73-f787a11338b4",
   "metadata": {},
   "source": [
    "# Pandas-Series\n",
    "\n",
    "Eine `Series`  in `Pandas` ist ein eindimensionales `Numpy`-Array, das um einen Index erweitert ist (_Wrapper_), über den auf den Wert zugegriffen werden kann. Der Index einer Series in Pandas ist standardmäßig eine Folge von Ganzzahlen (beginnend mit 0), kann aber auch aus Datumsangaben, Zeichenfolgen oder anderen Typen bestehen, was eine hohe Flexibilität in der Datenmanipulation und -analyse ermöglicht.\n",
    "\n",
    "Wie `Numpy`-Array sind die Daten homogen, d. h. dass alle Daten innerhalb einer Series  vom gleichen Datentyp (z.B. Integer, Float, String usw.) sein müssen. Damit sind die meisten Opertationen, die es auf Arrays in `Numpy` gibt, auch auf `Series` möglich, vor allem Slicing, aber auch Summen- oder Mittelwertbildungen\n",
    "\n",
    "Im Zusammenhang mit einem `DataFrame` repräsentiert eine `Series`eine einzelne Spalte oder auch eine Zeile (wobei diese dann transponiert wird.) Zusätzlich enthält eine `Series`noch weitere Metadaten, vor allem einen Namen (der im `DataFrame` dem Namen der Spalte entspricht)."
   ]
  },
  {
   "cell_type": "code",
   "execution_count": 2,
   "id": "815c7ba0-d991-4173-8422-ff0bb3a5848a",
   "metadata": {},
   "outputs": [],
   "source": [
    "import numpy as np\n",
    "import pandas as pd"
   ]
  },
  {
   "cell_type": "markdown",
   "id": "7633cfd7-90e2-4185-a482-987961ed04d6",
   "metadata": {},
   "source": [
    "## Erzeugung einer Series"
   ]
  },
  {
   "cell_type": "code",
   "execution_count": 60,
   "id": "fdb411fe-25be-41ee-8b78-8388db70e2e4",
   "metadata": {},
   "outputs": [
    {
     "name": "stdout",
     "output_type": "stream",
     "text": [
      "Miete           1150\n",
      "Strom            100\n",
      "Wasser            60\n",
      "Lebensmittel     380\n",
      "Name: Monatliche Kosten, dtype: int64\n",
      "\n",
      "Schmidt          6520.0\n",
      "Meier            3950.0\n",
      "von Schneider    5590.0\n",
      "Hansen              NaN\n",
      "Name: Monatliches Gehalt, dtype: float64\n",
      "\n",
      "2023-07-01    20\n",
      "2023-07-02    23\n",
      "2023-07-03    25\n",
      "2023-07-04    22\n",
      "2023-07-05    24\n",
      "2023-07-06    25\n",
      "2023-07-07    29\n",
      "2023-07-08    21\n",
      "2023-07-09    30\n",
      "2023-07-10    30\n",
      "Freq: D, Name: Höchsttemperatur, dtype: int64\n",
      "\n"
     ]
    }
   ],
   "source": [
    "kosten = pd.Series(data = [1150,100,60,380], index = ['Miete','Strom','Wasser','Lebensmittel'], name = 'Monatliche Kosten')\n",
    "gehalt = pd.Series(data = {'Schmidt': 6520,'Meier': 3950,'von Schneider': 5590,'Hansen': np.NaN},name = 'Monatliches Gehalt')\n",
    "juli = pd.date_range(\"2023-07-01\", periods=10, freq=\"d\")\n",
    "temperatur = pd.Series([20,23,25,22,24,25,29,21,30,30], juli, name ='Höchsttemperatur')\n",
    "\n",
    "for s in [kosten, gehalt, temperatur]:\n",
    "    print(f'{s}\\n')"
   ]
  },
  {
   "cell_type": "markdown",
   "id": "4fada994-ffc2-4e06-8510-3c23eef54e92",
   "metadata": {},
   "source": [
    "## Zugriff auf die Daten\n",
    "\n",
    "Wie beim `Numpy-Array ist der Zugriff auf einzelne Daten über die fortlaufende Numerierung möglich, ebenso Slicing und boolesche Abfragen. Zusätzlich gibt es aber die Möglichkeit, auch über den Index Werte abzufragen. Dabei können die Indexwerte auch als Attribute verwendet werden, wenn dies syntaktisch möglich ist (also keine Leer- oder Sonderzeichen enthalten sind)."
   ]
  },
  {
   "cell_type": "code",
   "execution_count": 51,
   "id": "2d61dcdc-3088-4705-ab4f-6ca2ab687183",
   "metadata": {},
   "outputs": [
    {
     "name": "stdout",
     "output_type": "stream",
     "text": [
      "kosten.Miete = 1150\n",
      "gehalt[\"von Schneider\"] = 5,590.00\n",
      "gehalt.loc[\"Schmidt\"] = 6,520.00\n",
      "Schmidt    6520.0\n",
      "Meier      3950.0\n",
      "Name: Monatliches Gehalt, dtype: float64\n"
     ]
    }
   ],
   "source": [
    "print(f'{kosten.Miete = }')\n",
    "print(f'{gehalt[\"von Schneider\"] = :,.2f}')\n",
    "print(f'{gehalt.loc[\"Schmidt\"] = :,.2f}')\n",
    "print(gehalt.iloc[:2])"
   ]
  },
  {
   "cell_type": "code",
   "execution_count": 39,
   "id": "a844d925-7c14-4145-95f8-7518a5a0e740",
   "metadata": {},
   "outputs": [
    {
     "name": "stdout",
     "output_type": "stream",
     "text": [
      "[1150  100   60  380]\n",
      "Index(['Miete', 'Strom', 'Wasser', 'Lebensmittel'], dtype='object')\n",
      "['Miete' 'Strom' 'Wasser' 'Lebensmittel']\n"
     ]
    }
   ],
   "source": [
    "print(kosten.values)\n",
    "print(kosten.index)\n",
    "print(kosten.index.values)"
   ]
  },
  {
   "cell_type": "markdown",
   "id": "0bf88231-7a3d-4cf0-9306-cca3c3ae5298",
   "metadata": {},
   "source": [
    "### Slicing und boolesche Auswahl"
   ]
  },
  {
   "cell_type": "code",
   "execution_count": 37,
   "id": "04ca3aa6-b771-4e00-b0b3-ac755f8166c8",
   "metadata": {},
   "outputs": [
    {
     "name": "stdout",
     "output_type": "stream",
     "text": [
      "2023-07-03    25\n",
      "2023-07-04    22\n",
      "2023-07-05    24\n",
      "Freq: D, Name: Höchsttemperatur, dtype: int64\n",
      "Miete           1150\n",
      "Lebensmittel     380\n",
      "Name: Monatliche Kosten, dtype: int64\n"
     ]
    }
   ],
   "source": [
    "print(f'{temperatur[\"2023-07-03\":\"2023-07-05\"]  }')\n",
    "print(f'{kosten[kosten > 300]}')"
   ]
  },
  {
   "cell_type": "markdown",
   "id": "c0dbeffe-1e07-4072-8d66-336650542a65",
   "metadata": {},
   "source": [
    "### Operationen"
   ]
  },
  {
   "cell_type": "code",
   "execution_count": 18,
   "id": "667de3f1-d64a-411c-a779-e5b546183ef2",
   "metadata": {},
   "outputs": [
    {
     "name": "stdout",
     "output_type": "stream",
     "text": [
      "Gesamtkosten: 1690\n",
      "Durchschnittsgehalt:  5353.33\n",
      "Höchsttemperatur: 30\n"
     ]
    }
   ],
   "source": [
    "print(f'Gesamtkosten: {kosten.sum()}')\n",
    "print(f'Durchschnittsgehalt: {gehalt.mean(): .2f}')\n",
    "print(f'Höchsttemperatur: {temperatur.max()}')"
   ]
  },
  {
   "cell_type": "markdown",
   "id": "f4c3999b-7512-487a-9360-291f8ce9ffc0",
   "metadata": {},
   "source": [
    "#### Gehaltserhöhung"
   ]
  },
  {
   "cell_type": "code",
   "execution_count": 66,
   "id": "fff9345c-bc14-442e-99e8-de636b0a7e39",
   "metadata": {},
   "outputs": [
    {
     "name": "stdout",
     "output_type": "stream",
     "text": [
      "Schmidt          6520.0\n",
      "Meier            3950.0\n",
      "von Schneider    5590.0\n",
      "Hansen              NaN\n",
      "Name: Monatliches Gehalt, dtype: float64\n",
      "Schmidt          7172.0\n",
      "Meier            4345.0\n",
      "von Schneider    6149.0\n",
      "Hansen              NaN\n",
      "Name: Neues monatliches Gehalt, dtype: float64\n",
      "Schmidt          13692.0\n",
      "Meier             8295.0\n",
      "von Schneider    11739.0\n",
      "Hansen               NaN\n",
      "Name: Gehalt für zwei Monate, dtype: float64\n"
     ]
    }
   ],
   "source": [
    "neues_gehalt = 1.1 * gehalt\n",
    "neues_gehalt.name = \"Neues monatliches Gehalt\"\n",
    "print(gehalt)\n",
    "print(neues_gehalt)\n",
    "gehalt2 = gehalt + neues_gehalt\n",
    "gehalt2.name = \"Gehalt für zwei Monate\"\n",
    "print(gehalt2)"
   ]
  },
  {
   "cell_type": "markdown",
   "id": "3a7bb9dd-5389-4d1d-b75b-bb45b0c0d156",
   "metadata": {},
   "source": [
    "## Fehlende Werte"
   ]
  },
  {
   "cell_type": "code",
   "execution_count": 42,
   "id": "30d6c202-ad7d-4607-b577-fa78354fe284",
   "metadata": {},
   "outputs": [
    {
     "name": "stdout",
     "output_type": "stream",
     "text": [
      "gehalt.Hansen = nan\n",
      "gehalt.hasnans =True\n"
     ]
    }
   ],
   "source": [
    "print(f'{gehalt.Hansen = }')\n",
    "print(f'{gehalt.hasnans =}')"
   ]
  },
  {
   "cell_type": "markdown",
   "id": "022f7d03-68ca-47a8-8aee-e7bee1a7cf7a",
   "metadata": {},
   "source": [
    "## Anzeige"
   ]
  },
  {
   "cell_type": "code",
   "execution_count": 55,
   "id": "bfb08bf2-4b54-43de-8281-4ddacf832b66",
   "metadata": {},
   "outputs": [
    {
     "data": {
      "text/plain": [
       "2023-07-01    20\n",
       "2023-07-02    23\n",
       "2023-07-03    25\n",
       "Freq: D, Name: Höchsttemperatur, dtype: int64"
      ]
     },
     "execution_count": 55,
     "metadata": {},
     "output_type": "execute_result"
    }
   ],
   "source": [
    "temperatur.head(3)"
   ]
  },
  {
   "cell_type": "code",
   "execution_count": 56,
   "id": "ff02c0d6-236e-42cb-b4a8-8adb7529b15e",
   "metadata": {},
   "outputs": [
    {
     "data": {
      "text/plain": [
       "2023-07-09    30\n",
       "2023-07-10    30\n",
       "Freq: D, Name: Höchsttemperatur, dtype: int64"
      ]
     },
     "execution_count": 56,
     "metadata": {},
     "output_type": "execute_result"
    }
   ],
   "source": [
    "temperatur.tail(2)"
   ]
  },
  {
   "cell_type": "code",
   "execution_count": 57,
   "id": "77db0c20-db09-45c7-8801-f452a2dbc2ec",
   "metadata": {},
   "outputs": [
    {
     "data": {
      "text/plain": [
       "2023-07-06    25\n",
       "2023-07-04    22\n",
       "2023-07-08    21\n",
       "Name: Höchsttemperatur, dtype: int64"
      ]
     },
     "execution_count": 57,
     "metadata": {},
     "output_type": "execute_result"
    }
   ],
   "source": [
    "temperatur.take([5,3,7])"
   ]
  },
  {
   "cell_type": "code",
   "execution_count": null,
   "id": "f6c8642f-5be3-4970-a271-c44583d59fbd",
   "metadata": {},
   "outputs": [],
   "source": []
  }
 ],
 "metadata": {
  "kernelspec": {
   "display_name": "Python 3 (ipykernel)",
   "language": "python",
   "name": "python3"
  },
  "language_info": {
   "codemirror_mode": {
    "name": "ipython",
    "version": 3
   },
   "file_extension": ".py",
   "mimetype": "text/x-python",
   "name": "python",
   "nbconvert_exporter": "python",
   "pygments_lexer": "ipython3",
   "version": "3.10.13"
  }
 },
 "nbformat": 4,
 "nbformat_minor": 5
}
