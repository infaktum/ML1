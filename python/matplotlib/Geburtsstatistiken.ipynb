{
 "cells": [
  {
   "cell_type": "markdown",
   "metadata": {},
   "source": [
    "# Geburtsnamen in Amerika"
   ]
  },
  {
   "cell_type": "markdown",
   "metadata": {},
   "source": [
    "## Statistik zu den Vornamen Neugeborener seit 1900 in den amerikanischen Bundesstaaten"
   ]
  },
  {
   "cell_type": "markdown",
   "metadata": {},
   "source": [
    "#### Matplotlib laden"
   ]
  },
  {
   "cell_type": "code",
   "execution_count": 1,
   "metadata": {},
   "outputs": [],
   "source": [
    "%matplotlib inline\n",
    "from math import sin \n",
    "import matplotlib.pyplot as plt"
   ]
  },
  {
   "cell_type": "code",
   "execution_count": 2,
   "metadata": {},
   "outputs": [
    {
     "data": {
      "image/png": "[encoded data removed]",
      "text/plain": [
       "<Figure size 432x288 with 1 Axes>"
      ]
     },
     "metadata": {
      "needs_background": "light"
     },
     "output_type": "display_data"
    }
   ],
   "source": [
    "name='Anna'\n",
    "gender='F'\n",
    "state='CA'\n",
    "xs=[]\n",
    "ys=[]\n",
    "\n",
    "with open(\"./names.csv\",'r') as file:\n",
    "    for line in file:\n",
    "        data = line.strip().split(',')\n",
    "        if data[1]==name and state==data[4] and gender == data[3]:\n",
    "            xs.append(int(data[2])) \n",
    "            ys.append(int(data[5]))\n",
    "          \n",
    "plt.plot(xs,ys)\n",
    "plt.show()"
   ]
  },
  {
   "cell_type": "markdown",
   "metadata": {},
   "source": [
    "#### Aufgabe"
   ]
  },
  {
   "cell_type": "markdown",
   "metadata": {},
   "source": [
    "Wie oft taucht der Name \"Max\" als männlicher Vorname in Kalifornien zwischen 1950 und 2000 auf?"
   ]
  },
  {
   "cell_type": "code",
   "execution_count": 3,
   "metadata": {},
   "outputs": [
    {
     "name": "stdout",
     "output_type": "stream",
     "text": [
      "6385\n"
     ]
    }
   ],
   "source": [
    "name='Max'\n",
    "gender='M'\n",
    "state='CA'\n",
    "\n",
    "anzahl = 0;\n",
    "\n",
    "with open(\"./names.csv\",'r') as file:\n",
    "    for line in file:\n",
    "        data = line.strip().split(',')\n",
    "        if data[1]==name and state==data[4] and gender == data[3]:\n",
    "            year = int(data[2])\n",
    "            if year >= 1950 and year <= 2000:\n",
    "                anzahl = anzahl + int(data[5])\n",
    "                \n",
    "print(anzahl)\n",
    "        "
   ]
  },
  {
   "cell_type": "markdown",
   "metadata": {},
   "source": [
    "#### Aufgabe"
   ]
  },
  {
   "cell_type": "markdown",
   "metadata": {},
   "source": [
    "Welcher Name wurde insgesamt in den gesamten USA am häufigsten vergeben?"
   ]
  },
  {
   "cell_type": "code",
   "execution_count": 4,
   "metadata": {},
   "outputs": [
    {
     "name": "stdout",
     "output_type": "stream",
     "text": [
      "James -> 4957166\n"
     ]
    }
   ],
   "source": [
    "anzahl = 0;\n",
    "dict = {}\n",
    "\n",
    "with open(\"./names.csv\",'r') as file:    \n",
    "    file.readline()\n",
    "    for line in file:\n",
    "        data = line.strip().split(',')\n",
    "        name = data[1]\n",
    "        anzahl = int(data[5])\n",
    "\n",
    "        if name in dict:\n",
    "            dict[name] = dict[name] + anzahl\n",
    "        else:\n",
    "            dict[name] = anzahl\n",
    "\n",
    "max_name = \"\"\n",
    "max_anzahl = 0\n",
    "\n",
    "for name,anzahl in dict.items():\n",
    "    if anzahl > max_anzahl:\n",
    "        max_name = name\n",
    "        max_anzahl = anzahl\n",
    "        \n",
    "print(max_name + \" -> \" + str(max_anzahl))"
   ]
  },
  {
   "cell_type": "code",
   "execution_count": null,
   "metadata": {},
   "outputs": [],
   "source": []
  }
 ],
 "metadata": {
  "kernelspec": {
   "display_name": "Python 3 (ipykernel)",
   "language": "python",
   "name": "python3"
  },
  "language_info": {
   "codemirror_mode": {
    "name": "ipython",
    "version": 3
   },
   "file_extension": ".py",
   "mimetype": "text/x-python",
   "name": "python",
   "nbconvert_exporter": "python",
   "pygments_lexer": "ipython3",
   "version": "3.11.6"
  }
 },
 "nbformat": 4,
 "nbformat_minor": 4
}
