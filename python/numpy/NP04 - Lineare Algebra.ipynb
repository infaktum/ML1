{
 "cells": [
  {
   "cell_type": "markdown",
   "id": "19edbb98-78f5-4858-b550-4ef9ee5b026f",
   "metadata": {},
   "source": [
    "# NumPy 04 - Lineare Algebra"
   ]
  },
  {
   "cell_type": "code",
   "execution_count": 1,
   "id": "72d2f4f0-5fb1-4a03-b88f-7758f3dafd84",
   "metadata": {
    "tags": []
   },
   "outputs": [],
   "source": [
    "import numpy as np"
   ]
  },
  {
   "cell_type": "code",
   "execution_count": null,
   "id": "05c6119f-d661-4d19-928a-a0bfbe5d20ce",
   "metadata": {},
   "outputs": [],
   "source": []
  }
 ],
 "metadata": {
  "kernelspec": {
   "display_name": "Python 3 (ipykernel)",
   "language": "python",
   "name": "python3"
  },
  "language_info": {
   "codemirror_mode": {
    "name": "ipython",
    "version": 3
   },
   "file_extension": ".py",
   "mimetype": "text/x-python",
   "name": "python",
   "nbconvert_exporter": "python",
   "pygments_lexer": "ipython3",
   "version": "3.10.13"
  }
 },
 "nbformat": 4,
 "nbformat_minor": 5
}
