{
 "cells": [
  {
   "cell_type": "markdown",
   "id": "107754b8-bb1d-4c27-8521-673212ef148e",
   "metadata": {
    "tags": []
   },
   "source": [
    "# NumPy 01 - Arrays"
   ]
  },
  {
   "cell_type": "code",
   "execution_count": 1,
   "id": "34b1e2e9-23ca-416a-b801-a9e5423b6751",
   "metadata": {
    "tags": []
   },
   "outputs": [],
   "source": [
    "import numpy as np"
   ]
  },
  {
   "cell_type": "markdown",
   "id": "d73099fe-e6da-4ce7-9bf0-24e341ad6115",
   "metadata": {},
   "source": [
    "Die grundlegende Struktur in NumPy ist das mehrdimensionale __Array__, das Werte desselben numerischen Datentyps zusammenfasst. Die Dimensionen des Arrays werden __Axes__ (Achsen) genannt. Durch diese Form der Speicherung sind extrem schnelle mathematische Operationen auf allen Elementen des Arrays möglich (durch entsprechende unterliegende in C implementierte Funktionen), im Gegensatz zu den Listen von Python, deren Elemente alle von einem unterschiedlichen Typ sein können.\n",
    "\n",
    "Die zugehörige Klasse heißt __np.ndarray__ (n-dimensional array). Sie kann einfach aus einem normalen Python-Array erzeugt werden."
   ]
  },
  {
   "cell_type": "markdown",
   "id": "0edbf1a6-eeca-42ba-b94c-408656d43fdb",
   "metadata": {},
   "source": [
    "### Grundlegende Funktionen"
   ]
  },
  {
   "cell_type": "code",
   "execution_count": 2,
   "id": "ecca2b33-35d0-4158-9dd7-eebfed13aeb8",
   "metadata": {
    "tags": []
   },
   "outputs": [
    {
     "name": "stdout",
     "output_type": "stream",
     "text": [
      "ndarray:\n",
      "[[11 12]\n",
      " [21 22]\n",
      " [31 33]]\n",
      "ndarray.dim: \t2 \t(Anzahl der Achsen/Dimensionen)\n",
      "ndarray.size: \t6 \t(Anzahl der Elemente)\n",
      "ndarray.shape: \t(3, 2) \t(Form des Arrays)\n",
      "ndarray.dtype: \tint32 \t(Datentyp)\n"
     ]
    }
   ],
   "source": [
    "ex1 = np.array([[11,12],[21,22],[31,33]])\n",
    "print('ndarray:')\n",
    "print(ex1)\n",
    "print(f'ndarray.dim: \\t{ex1.ndim} \\t(Anzahl der Achsen/Dimensionen)')\n",
    "print(f'ndarray.size: \\t{ex1.size} \\t(Anzahl der Elemente)')\n",
    "print(f'ndarray.shape: \\t{ex1.shape} \\t(Form des Arrays)')\n",
    "print(f'ndarray.dtype: \\t{ex1.dtype} \\t(Datentyp)')\n"
   ]
  },
  {
   "cell_type": "markdown",
   "id": "0fa70e42-fbf0-4198-ad08-f3a5cf97ba5c",
   "metadata": {},
   "source": [
    "### Arrays erzeugen"
   ]
  },
  {
   "cell_type": "markdown",
   "id": "f9660191-5427-452a-b801-e181a2e0cea7",
   "metadata": {},
   "source": [
    "#### Aus Python-Arrays"
   ]
  },
  {
   "cell_type": "code",
   "execution_count": 3,
   "id": "e0b6fac0-b0ea-40f1-b351-29446ebae7b3",
   "metadata": {
    "tags": []
   },
   "outputs": [
    {
     "name": "stdout",
     "output_type": "stream",
     "text": [
      "[ 1.  2.  3.  4.  5.  6.  7.  8.  9. 10. 11. 12.]\n"
     ]
    }
   ],
   "source": [
    "ex2 = np.array([1,2,3,4,5,6,7,8,9,10,11,12],dtype= float)\n",
    "print(ex2)"
   ]
  },
  {
   "cell_type": "code",
   "execution_count": 4,
   "id": "311571ff-9cbb-4d76-8e8c-548b7214cbbe",
   "metadata": {
    "tags": []
   },
   "outputs": [
    {
     "name": "stdout",
     "output_type": "stream",
     "text": [
      "ndarray.reshape\n",
      "[[ 1.  2.  3.  4.]\n",
      " [ 5.  6.  7.  8.]\n",
      " [ 9. 10. 11. 12.]]\n"
     ]
    }
   ],
   "source": [
    "print(\"ndarray.reshape\")\n",
    "print(ex2.reshape(3,4))"
   ]
  },
  {
   "cell_type": "markdown",
   "id": "d2e772a2-4f78-4a98-a7bf-f370780f62f4",
   "metadata": {},
   "source": [
    "#### Vordefinierte Arrays"
   ]
  },
  {
   "cell_type": "code",
   "execution_count": 5,
   "id": "8ee9cd04-41f0-47bc-a963-1554d9730303",
   "metadata": {
    "tags": []
   },
   "outputs": [
    {
     "name": "stdout",
     "output_type": "stream",
     "text": [
      "(np.zeros((2,3),dtype=int)\n",
      "[[0 0 0]\n",
      " [0 0 0]]\n",
      "np.ones((2,3),dtype=int)\n",
      "[[1 1 1]\n",
      " [1 1 1]]\n",
      "np.empty((2,3),dtype=int)\n",
      "[[1 1 1]\n",
      " [1 1 1]]\n"
     ]
    }
   ],
   "source": [
    "print(\"(np.zeros((2,3),dtype=int)\")\n",
    "print(np.zeros((2,3),dtype=int))\n",
    "print(\"np.ones((2,3),dtype=int)\")\n",
    "print(np.ones((2,3),dtype=int))\n",
    "print(\"np.empty((2,3),dtype=int)\")\n",
    "print(np.empty((2,3),dtype=int))"
   ]
  },
  {
   "cell_type": "markdown",
   "id": "f6595fcf-6bc3-4407-b5f0-dc30678209b8",
   "metadata": {
    "tags": []
   },
   "source": [
    "#### Arrays aus Wertbereichen"
   ]
  },
  {
   "cell_type": "markdown",
   "id": "746e3200-38e0-415f-80d8-057456594bdf",
   "metadata": {},
   "source": [
    "Mit __np.arange(start,stop,step)__ wird ein eindimensionales Array mit gegebenen Grenzen und gegebener Schrittweite erzeugt."
   ]
  },
  {
   "cell_type": "code",
   "execution_count": 6,
   "id": "7494e28c-f165-4b67-92b6-fbe59b12e649",
   "metadata": {
    "tags": []
   },
   "outputs": [
    {
     "name": "stdout",
     "output_type": "stream",
     "text": [
      "np.arange(3) -> [0 1 2]\n",
      "np.arange(1,3) -> [1 2]\n",
      "np.arange(1,10,2) -> [1 3 5 7 9]\n",
      "np.arange(10,1,-2) -> [10  8  6  4  2]\n",
      "np.arange(1,2,0.1) -> [1.  1.1 1.2 1.3 1.4 1.5 1.6 1.7 1.8 1.9]\n"
     ]
    }
   ],
   "source": [
    "\n",
    "print(f'np.arange(3) -> {np.arange(3)}')\n",
    "print(f'np.arange(1,3) -> {np.arange(1,3)}')\n",
    "print(f'np.arange(1,10,2) -> {np.arange(1,10,2)}')\n",
    "print(f'np.arange(10,1,-2) -> {np.arange(10,1,-2)}')\n",
    "print(f'np.arange(1,2,0.1) -> {np.arange(1,2,.1)}')"
   ]
  },
  {
   "cell_type": "markdown",
   "id": "72c335a5-5702-4c2e-aefc-64f5f836dcfd",
   "metadata": {},
   "source": [
    "Mit __np.linspace(start,stop,samples)__ wird ein eindimensionales Array mit gegebenen Grenzen und gegebener Anzahl von Elementen erzeugt."
   ]
  },
  {
   "cell_type": "code",
   "execution_count": 7,
   "id": "4c27fbb2-6712-4ebc-8171-6677bdca40a7",
   "metadata": {
    "tags": []
   },
   "outputs": [
    {
     "name": "stdout",
     "output_type": "stream",
     "text": [
      "np.linspace(1,10,3) -> [ 1.   5.5 10. ]\n",
      "np.linspace(1,2,6) -> [1.  1.2 1.4 1.6 1.8 2. ]\n"
     ]
    }
   ],
   "source": [
    "print(f'np.linspace(1,10,3) -> {np.linspace(1,10,3)}')\n",
    "print(f'np.linspace(1,2,6) -> {np.linspace(1,2,6)}')"
   ]
  },
  {
   "cell_type": "markdown",
   "id": "4e300e94-1248-4b92-a7b2-976d7916f52f",
   "metadata": {},
   "source": [
    "Mit __np.random.random((_shape_))__ kann ein Array aus Zufallszahlen erzeugt werden."
   ]
  },
  {
   "cell_type": "code",
   "execution_count": 8,
   "id": "8652f317-867a-42de-8f65-6b09824266a1",
   "metadata": {
    "tags": []
   },
   "outputs": [
    {
     "name": "stdout",
     "output_type": "stream",
     "text": [
      "np.random.random((2,3)) ->\n",
      "[[0.52189798 0.03333745 0.49519502]\n",
      " [0.32288181 0.82684547 0.36944895]]\n",
      "[8. 4. 2.]\n"
     ]
    }
   ],
   "source": [
    "print('np.random.random((2,3)) ->') \n",
    "print(np.random.random((2,3)))\n",
    "print(np.floor(10*np.random.random(3)))"
   ]
  },
  {
   "cell_type": "code",
   "execution_count": 9,
   "id": "5d2f4eea-025f-401f-94d5-63377a66d49c",
   "metadata": {
    "tags": []
   },
   "outputs": [
    {
     "name": "stdout",
     "output_type": "stream",
     "text": [
      "[[ 0  1  2  3]\n",
      " [10 11 12 13]\n",
      " [20 21 22 23]\n",
      " [30 31 32 33]\n",
      " [40 41 42 43]]\n"
     ]
    }
   ],
   "source": [
    "def f(x,y):\n",
    "    return 10*x+y\n",
    "\n",
    "print(np.fromfunction(f,(5,4),dtype=int))"
   ]
  },
  {
   "cell_type": "markdown",
   "id": "34433ec7-986e-4512-85bd-224acd51f25f",
   "metadata": {},
   "source": [
    "#### Funktionen auf Arrays\n",
    "\n",
    "Eingebaute Funktionen wie __sum__ und __max__ lassen sich auf Arrays anwenden, als würde über eine Liste iteriert. Es kann auch über einzelne Achsen gearbeitet werden."
   ]
  },
  {
   "cell_type": "code",
   "execution_count": 10,
   "id": "417e0979-ab1e-4de5-aa63-fc414cf5aa39",
   "metadata": {
    "tags": []
   },
   "outputs": [
    {
     "name": "stdout",
     "output_type": "stream",
     "text": [
      "Array a\n",
      "[[ 1  2  3  4]\n",
      " [ 5  6  7  8]\n",
      " [ 9 10 11 12]]\n",
      "a.sum() -> 78\n",
      "a.prod() -> 479001600\n",
      "a.min() -> 1\n",
      "a.max() -> 12\n",
      "a.sum(axis=0) -> [15 18 21 24]\n"
     ]
    }
   ],
   "source": [
    "a = np.arange(1,13)\n",
    "a = a.reshape(3,4)\n",
    "print('Array a')\n",
    "print(a)\n",
    "\n",
    "print(f'a.sum() -> {a.sum()}')\n",
    "print(f'a.prod() -> {a.prod()}')\n",
    "print(f'a.min() -> {a.min()}')\n",
    "print(f'a.max() -> {a.max()}')\n",
    "print(f'a.sum(axis=0) -> {a.sum(axis=0)}')"
   ]
  },
  {
   "cell_type": "markdown",
   "id": "b7353362-e0b6-4ee8-9e9a-acca9acfc197",
   "metadata": {
    "tags": []
   },
   "source": [
    "#### Universelle Funktionen\n",
    "Viele Funktioen in Numpy sind __ufunc__, d.h. _universal functions_, die sowohl auf einzelne Werte als auch auf Arrays angewandt werden können. Auf Arrays wirken sie elementweise und ergeben wieder ein Array."
   ]
  },
  {
   "cell_type": "code",
   "execution_count": 11,
   "id": "7a71a9a5-0fd5-4494-a5a7-0491538fe34a",
   "metadata": {
    "tags": []
   },
   "outputs": [
    {
     "name": "stdout",
     "output_type": "stream",
     "text": [
      "Array b: {b}\n",
      "b * 2 -> [2 4 6 8]\n",
      "b - 1 -> [0 1 2 3]\n",
      "b * b -> [ 1  4  9 16]\n",
      "b ** 2 -> [ 1  4  9 16]\n",
      "np.exp(b) -> [ 2.71828183  7.3890561  20.08553692 54.59815003]\n",
      "np.cos(b) -> [ 0.54030231 -0.41614684 -0.9899925  -0.65364362]\n"
     ]
    }
   ],
   "source": [
    "b = np.arange(1,5)\n",
    "print('Array b: {b}')\n",
    "\n",
    "print(f'b * 2 -> {b * 2}')\n",
    "print(f'b - 1 -> {b - 1}')\n",
    "print(f'b * b -> {b * b}')\n",
    "print(f'b ** 2 -> {b ** 2}')\n",
    "print(f'np.exp(b) -> {np.exp(b)}')\n",
    "print(f'np.cos(b) -> {np.cos(b)}')\n"
   ]
  },
  {
   "cell_type": "code",
   "execution_count": null,
   "id": "75748477-b6ea-4ab6-af99-31e92f82eb9f",
   "metadata": {},
   "outputs": [],
   "source": []
  }
 ],
 "metadata": {
  "kernelspec": {
   "display_name": "Python 3 (ipykernel)",
   "language": "python",
   "name": "python3"
  },
  "language_info": {
   "codemirror_mode": {
    "name": "ipython",
    "version": 3
   },
   "file_extension": ".py",
   "mimetype": "text/x-python",
   "name": "python",
   "nbconvert_exporter": "python",
   "pygments_lexer": "ipython3",
   "version": "3.10.13"
  }
 },
 "nbformat": 4,
 "nbformat_minor": 5
}
