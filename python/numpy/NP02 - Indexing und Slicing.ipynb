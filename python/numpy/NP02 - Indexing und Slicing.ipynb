{
 "cells": [
  {
   "cell_type": "markdown",
   "id": "19edbb98-78f5-4858-b550-4ef9ee5b026f",
   "metadata": {},
   "source": [
    "# NumPy 02 - Indexing und Slicing"
   ]
  },
  {
   "cell_type": "code",
   "execution_count": 1,
   "id": "72d2f4f0-5fb1-4a03-b88f-7758f3dafd84",
   "metadata": {
    "tags": []
   },
   "outputs": [],
   "source": [
    "import numpy as np"
   ]
  },
  {
   "cell_type": "code",
   "execution_count": 2,
   "id": "5c7e137d-85a5-49be-af6a-095f68c19c54",
   "metadata": {
    "tags": []
   },
   "outputs": [
    {
     "name": "stdout",
     "output_type": "stream",
     "text": [
      "a = [ 1  2  3  4  5  6  7  8  9 10]\n",
      "b = [[11 12 13 14]\n",
      " [12 22 23 24]\n",
      " [31 32 33 34]]\n"
     ]
    }
   ],
   "source": [
    "a = np.arange(1,11)\n",
    "b = np.array([[11,12,13,14],[12,22,23,24],[31,32,33,34]])\n",
    "print(f'a = {a}')\n",
    "print(f'b = {b}')"
   ]
  },
  {
   "cell_type": "markdown",
   "id": "2be8d415-8471-4346-a2d3-bfe2dad1ad63",
   "metadata": {
    "tags": []
   },
   "source": [
    "### Indexing"
   ]
  },
  {
   "cell_type": "code",
   "execution_count": 3,
   "id": "8607901f-52ec-45c4-940d-8bb5c0cd00dd",
   "metadata": {
    "tags": []
   },
   "outputs": [
    {
     "name": "stdout",
     "output_type": "stream",
     "text": [
      "a[0] -> 1\n",
      "a[1] -> 2\n"
     ]
    }
   ],
   "source": [
    "print(f'a[0] -> {a[0]}')\n",
    "print(f'a[1] -> {a[1]}')\n"
   ]
  },
  {
   "cell_type": "markdown",
   "id": "453a1e1f-7ea8-44de-82d5-f375830e180f",
   "metadata": {},
   "source": [
    "### Slicing"
   ]
  },
  {
   "cell_type": "code",
   "execution_count": 4,
   "id": "684a19e4-f7f0-4387-b517-0606ac3b30a6",
   "metadata": {
    "tags": []
   },
   "outputs": [
    {
     "name": "stdout",
     "output_type": "stream",
     "text": [
      "a[1:3] -> [2 3]\n",
      "a[4:] -> [ 5  6  7  8  9 10]\n",
      "a[:4] -> [1 2 3 4]\n",
      "a[-2] -> 9\n",
      "a[0::2] -> [1 3 5 7 9]\n",
      "a[-1::-2] -> [10  8  6  4  2]\n"
     ]
    }
   ],
   "source": [
    "print(f'a[1:3] -> {a[1:3]}')\n",
    "print(f'a[4:] -> {a[4:]}')\n",
    "print(f'a[:4] -> {a[:4]}')\n",
    "print(f'a[-2] -> {a[-2]}')\n",
    "print(f'a[0::2] -> {a[0::2]}')\n",
    "print(f'a[-1::-2] -> {a[-1::-2]}')"
   ]
  },
  {
   "cell_type": "code",
   "execution_count": null,
   "id": "05c6119f-d661-4d19-928a-a0bfbe5d20ce",
   "metadata": {},
   "outputs": [],
   "source": []
  }
 ],
 "metadata": {
  "kernelspec": {
   "display_name": "Python 3 (ipykernel)",
   "language": "python",
   "name": "python3"
  },
  "language_info": {
   "codemirror_mode": {
    "name": "ipython",
    "version": 3
   },
   "file_extension": ".py",
   "mimetype": "text/x-python",
   "name": "python",
   "nbconvert_exporter": "python",
   "pygments_lexer": "ipython3",
   "version": "3.10.13"
  }
 },
 "nbformat": 4,
 "nbformat_minor": 5
}
