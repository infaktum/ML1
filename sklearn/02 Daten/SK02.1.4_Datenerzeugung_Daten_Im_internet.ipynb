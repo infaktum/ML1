{
 "cells": [
  {
   "cell_type": "markdown",
   "id": "a7bad97f-0dd2-49be-916a-dc19d05b005a",
   "metadata": {},
   "source": [
    "# Datenerzeugung - Daten aus Internet-Repositories"
   ]
  },
  {
   "cell_type": "markdown",
   "id": "879fa8af-01f6-4d84-bf88-7386d548c970",
   "metadata": {},
   "source": []
  },
  {
   "cell_type": "markdown",
   "id": "aa9d12a5-9c08-4cc8-90d8-106cb920fc73",
   "metadata": {},
   "source": [
    "## Quellen\n",
    "\n",
    "https://openml.org/"
   ]
  },
  {
   "cell_type": "code",
   "execution_count": null,
   "id": "e288795f-a504-4d7e-baeb-88fb2b2c6302",
   "metadata": {},
   "outputs": [],
   "source": []
  }
 ],
 "metadata": {
  "kernelspec": {
   "display_name": "Python 3 (ipykernel)",
   "language": "python",
   "name": "python3"
  },
  "language_info": {
   "codemirror_mode": {
    "name": "ipython",
    "version": 3
   },
   "file_extension": ".py",
   "mimetype": "text/x-python",
   "name": "python",
   "nbconvert_exporter": "python",
   "pygments_lexer": "ipython3",
   "version": "3.10.13"
  }
 },
 "nbformat": 4,
 "nbformat_minor": 5
}
