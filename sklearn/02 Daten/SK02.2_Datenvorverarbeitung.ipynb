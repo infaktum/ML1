{
 "cells": [
  {
   "cell_type": "markdown",
   "id": "ec961a80-f0c1-4ded-b893-f66053528a89",
   "metadata": {},
   "source": [
    "# Vorverarbeitung der Daten"
   ]
  },
  {
   "cell_type": "markdown",
   "id": "1bb60de9-a6e5-4582-a0f1-e439c50fc2fe",
   "metadata": {},
   "source": []
  }
 ],
 "metadata": {
  "kernelspec": {
   "display_name": "Python 3 (ipykernel)",
   "language": "python",
   "name": "python3"
  },
  "language_info": {
   "codemirror_mode": {
    "name": "ipython",
    "version": 3
   },
   "file_extension": ".py",
   "mimetype": "text/x-python",
   "name": "python",
   "nbconvert_exporter": "python",
   "pygments_lexer": "ipython3",
   "version": "3.10.13"
  }
 },
 "nbformat": 4,
 "nbformat_minor": 5
}
