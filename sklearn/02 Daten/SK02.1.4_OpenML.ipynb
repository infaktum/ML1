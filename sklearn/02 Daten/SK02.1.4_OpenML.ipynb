{
 "cells": [
  {
   "cell_type": "markdown",
   "id": "a7bad97f-0dd2-49be-916a-dc19d05b005a",
   "metadata": {},
   "source": [
    "# Datenerzeugung - Daten aus Internet-Repositories"
   ]
  },
  {
   "cell_type": "markdown",
   "id": "1d2efd62-9222-42fc-b834-fe6a6b0c5be9",
   "metadata": {},
   "source": [
    "## OpenML"
   ]
  },
  {
   "attachments": {},
   "cell_type": "markdown",
   "id": "b57cfef9-12b9-4d11-82d0-d73e8789e361",
   "metadata": {},
   "source": [
    "**OpenML.org** ist eine Plattform, die Datensätze, Aufgaben und Experimente für maschinelles Lernen bereitstellt. Sie ermöglicht den Austausch und die Wiederverwendung von Daten und Ergebnissen zwischen Forschenden und Entwicklern. Die Website bietet eine große Sammlung von Datensätzen, die direkt für maschinelles Lernen genutzt werden können.\n",
    "\n",
    "Das Laden von Daten von OpenML wird von scikit-learn mit der Funktion fetch_openml unterstützt. Damit können Datensätze direkt aus dem Internet geladen und als Pandas DataFrame oder NumPy Arrays verwendet werden."
   ]
  },
  {
   "cell_type": "code",
   "execution_count": 1,
   "id": "e6cb7eaf-22e6-4f54-bfd7-5955921c7e65",
   "metadata": {},
   "outputs": [],
   "source": [
    "from sklearn.datasets import fetch_openml"
   ]
  },
  {
   "cell_type": "markdown",
   "id": "d7f67ad2-1949-4c53-b0b4-c9f896e5948b",
   "metadata": {},
   "source": [
    "### Iris-DB"
   ]
  },
  {
   "cell_type": "code",
   "execution_count": 10,
   "id": "240413cc-6118-4a72-b0b4-d0b6f56d8e05",
   "metadata": {},
   "outputs": [
    {
     "name": "stdout",
     "output_type": "stream",
     "text": [
      "**Author**: R.A. Fisher  \n",
      "**Source**: [UCI](https://archive.ics.uci.edu/ml/datasets/Iris) - 1936 - Donated by Michael Marshall  \n",
      "**Please cite**:   \n",
      "\n",
      "**Iris Plants Database**  \n",
      "This is perhaps the best known database to be found in the pattern recognition literature.  Fisher's paper is a classic in the field and is referenced frequently to this day.  (See Duda & Hart, for example.)  The data set contains 3 classes of 50 instances each, where each class refers to a type of iris plant.  One class is     linearly separable from the other 2; the latter are NOT linearly separable from each other.\n",
      "\n",
      "Predicted attribute: class of iris plant.  \n",
      "This is an exceedingly simple domain.  \n",
      " \n",
      "### Attribute Information:\n",
      "    1. sepal length in cm\n",
      "    2. sepal width in cm\n",
      "    3. petal length in cm\n",
      "    4. petal width in cm\n",
      "    5. class: \n",
      "       -- Iris Setosa\n",
      "       -- Iris Versicolour\n",
      "       -- Iris Virginica\n",
      "\n",
      "Downloaded from openml.org.\n",
      "   sepallength  sepalwidth  petallength  petalwidth\n",
      "0          5.1         3.5          1.4         0.2\n",
      "1          4.9         3.0          1.4         0.2\n",
      "2          4.7         3.2          1.3         0.2\n",
      "3          4.6         3.1          1.5         0.2\n",
      "4          5.0         3.6          1.4         0.2\n",
      "0    Iris-setosa\n",
      "1    Iris-setosa\n",
      "2    Iris-setosa\n",
      "3    Iris-setosa\n",
      "4    Iris-setosa\n",
      "Name: class, dtype: category\n",
      "Categories (3, object): ['Iris-setosa', 'Iris-versicolor', 'Iris-virginica']\n"
     ]
    }
   ],
   "source": [
    "iris = fetch_openml(name='iris', version=1, as_frame=True)\n",
    "\n",
    "print(iris.DESCR)\n",
    "print(iris.data.head())\n",
    "print(iris.target.head())"
   ]
  },
  {
   "cell_type": "markdown",
   "id": "fda93d78-81c9-407d-b276-4bca3c80e2f0",
   "metadata": {},
   "source": [
    "### MNIST"
   ]
  },
  {
   "cell_type": "code",
   "execution_count": 11,
   "id": "7509d7e7-79fc-4303-82f1-3ed90ecfbcb8",
   "metadata": {},
   "outputs": [
    {
     "name": "stdout",
     "output_type": "stream",
     "text": [
      "**Author**: Yann LeCun, Corinna Cortes, Christopher J.C. Burges  \n",
      "**Source**: [MNIST Website](http://yann.lecun.com/exdb/mnist/) - Date unknown  \n",
      "**Please cite**:  \n",
      "\n",
      "The MNIST database of handwritten digits with 784 features, raw data available at: http://yann.lecun.com/exdb/mnist/. It can be split in a training set of the first 60,000 examples, and a test set of 10,000 examples  \n",
      "\n",
      "It is a subset of a larger set available from NIST. The digits have been size-normalized and centered in a fixed-size image. It is a good database for people who want to try learning techniques and pattern recognition methods on real-world data while spending minimal efforts on preprocessing and formatting. The original black and white (bilevel) images from NIST were size normalized to fit in a 20x20 pixel box while preserving their aspect ratio. The resulting images contain grey levels as a result of the anti-aliasing technique used by the normalization algorithm. the images were centered in a 28x28 image by computing the center of mass of the pixels, and translating the image so as to position this point at the center of the 28x28 field.  \n",
      "\n",
      "With some classification methods (particularly template-based methods, such as SVM and K-nearest neighbors), the error rate improves when the digits are centered by bounding box rather than center of mass. If you do this kind of pre-processing, you should report it in your publications. The MNIST database was constructed from NIST's NIST originally designated SD-3 as their training set and SD-1 as their test set. However, SD-3 is much cleaner and easier to recognize than SD-1. The reason for this can be found on the fact that SD-3 was collected among Census Bureau employees, while SD-1 was collected among high-school students. Drawing sensible conclusions from learning experiments requires that the result be independent of the choice of training set and test among the complete set of samples. Therefore it was necessary to build a new database by mixing NIST's datasets.  \n",
      "\n",
      "The MNIST training set is composed of 30,000 patterns from SD-3 and 30,000 patterns from SD-1. Our test set was composed of 5,000 patterns from SD-3 and 5,000 patterns from SD-1. The 60,000 pattern training set contained examples from approximately 250 writers. We made sure that the sets of writers of the training set and test set were disjoint. SD-1 contains 58,527 digit images written by 500 different writers. In contrast to SD-3, where blocks of data from each writer appeared in sequence, the data in SD-1 is scrambled. Writer identities for SD-1 is available and we used this information to unscramble the writers. We then split SD-1 in two: characters written by the first 250 writers went into our new training set. The remaining 250 writers were placed in our test set. Thus we had two sets with nearly 30,000 examples each. The new training set was completed with enough examples from SD-3, starting at pattern # 0, to make a full set of 60,000 training patterns. Similarly, the new test set was completed with SD-3 examples starting at pattern # 35,000 to make a full set with 60,000 test patterns. Only a subset of 10,000 test images (5,000 from SD-1 and 5,000 from SD-3) is available on this site. The full 60,000 sample training set is available.\n",
      "\n",
      "Downloaded from openml.org.\n",
      "(70000, 784)\n",
      "0    5\n",
      "1    0\n",
      "2    4\n",
      "3    1\n",
      "4    9\n",
      "Name: class, dtype: category\n",
      "Categories (10, object): ['0', '1', '2', '3', ..., '6', '7', '8', '9']\n"
     ]
    }
   ],
   "source": [
    "mnist = fetch_openml(name='mnist_784', version=1)\n",
    "\n",
    "print(mnist.DESCR)\n",
    "print(mnist.data.shape)\n",
    "print(mnist.target[:5])"
   ]
  },
  {
   "cell_type": "markdown",
   "id": "43faaac5-0967-40f1-8e64-6db4e53fe8c7",
   "metadata": {},
   "source": [
    "### credit-g (Kreditwürdigkeit)"
   ]
  },
  {
   "cell_type": "code",
   "execution_count": 12,
   "id": "9ac42db5-9d44-409a-ae68-ad8ae3926547",
   "metadata": {},
   "outputs": [
    {
     "name": "stdout",
     "output_type": "stream",
     "text": [
      "**Author**: Dr. Hans Hofmann  \n",
      "**Source**: [UCI](https://archive.ics.uci.edu/ml/datasets/statlog+(german+credit+data)) - 1994    \n",
      "**Please cite**: [UCI](https://archive.ics.uci.edu/ml/citation_policy.html)\n",
      "\n",
      "**German Credit dataset**  \n",
      "This dataset classifies people described by a set of attributes as good or bad credit risks.\n",
      "\n",
      "This dataset comes with a cost matrix: \n",
      "``` \n",
      "Good  Bad (predicted)  \n",
      "Good   0    1   (actual)  \n",
      "Bad    5    0  \n",
      "```\n",
      "\n",
      "It is worse to class a customer as good when they are bad (5), than it is to class a customer as bad when they are good (1).  \n",
      "\n",
      "### Attribute description  \n",
      "\n",
      "1. Status of existing checking account, in Deutsche Mark.  \n",
      "2. Duration in months  \n",
      "3. Credit history (credits taken, paid back duly, delays, critical accounts)  \n",
      "4. Purpose of the credit (car, television,...)  \n",
      "5. Credit amount  \n",
      "6. Status of savings account/bonds, in Deutsche Mark.  \n",
      "7. Present employment, in number of years.  \n",
      "8. Installment rate in percentage of disposable income  \n",
      "9. Personal status (married, single,...) and sex  \n",
      "10. Other debtors / guarantors  \n",
      "11. Present residence since X years  \n",
      "12. Property (e.g. real estate)  \n",
      "13. Age in years  \n",
      "14. Other installment plans (banks, stores)  \n",
      "15. Housing (rent, own,...)  \n",
      "16. Number of existing credits at this bank  \n",
      "17. Job  \n",
      "18. Number of people being liable to provide maintenance for  \n",
      "19. Telephone (yes,no)  \n",
      "20. Foreign worker (yes,no)\n",
      "\n",
      "Downloaded from openml.org.\n",
      "  checking_status  duration                  credit_history  \\\n",
      "0              <0         6  critical/other existing credit   \n",
      "1        0<=X<200        48                   existing paid   \n",
      "2     no checking        12  critical/other existing credit   \n",
      "3              <0        42                   existing paid   \n",
      "4              <0        24              delayed previously   \n",
      "\n",
      "               purpose  credit_amount    savings_status employment  \\\n",
      "0             radio/tv           1169  no known savings        >=7   \n",
      "1             radio/tv           5951              <100     1<=X<4   \n",
      "2            education           2096              <100     4<=X<7   \n",
      "3  furniture/equipment           7882              <100     4<=X<7   \n",
      "4              new car           4870              <100     1<=X<4   \n",
      "\n",
      "   installment_commitment     personal_status other_parties  residence_since  \\\n",
      "0                       4         male single          none                4   \n",
      "1                       2  female div/dep/mar          none                2   \n",
      "2                       2         male single          none                3   \n",
      "3                       2         male single     guarantor                4   \n",
      "4                       3         male single          none                4   \n",
      "\n",
      "  property_magnitude  age other_payment_plans   housing  existing_credits  \\\n",
      "0        real estate   67                none       own                 2   \n",
      "1        real estate   22                none       own                 1   \n",
      "2        real estate   49                none       own                 1   \n",
      "3     life insurance   45                none  for free                 1   \n",
      "4  no known property   53                none  for free                 2   \n",
      "\n",
      "                  job  num_dependents own_telephone foreign_worker  \n",
      "0             skilled               1           yes            yes  \n",
      "1             skilled               1          none            yes  \n",
      "2  unskilled resident               2          none            yes  \n",
      "3             skilled               2          none            yes  \n",
      "4             skilled               2          none            yes  \n",
      "class\n",
      "good    700\n",
      "bad     300\n",
      "Name: count, dtype: int64\n"
     ]
    }
   ],
   "source": [
    "from sklearn.datasets import fetch_openml\n",
    "\n",
    "credit = fetch_openml(name='credit-g', version=1, as_frame=True)\n",
    "\n",
    "print(credit.DESCR)\n",
    "print(credit.data.head())\n",
    "print(credit.target.value_counts())\n"
   ]
  },
  {
   "cell_type": "markdown",
   "id": "aa9d12a5-9c08-4cc8-90d8-106cb920fc73",
   "metadata": {},
   "source": [
    "## Links\n",
    "\n",
    "https://openml.org/"
   ]
  }
 ],
 "metadata": {
  "kernelspec": {
   "display_name": "Python 3 (ipykernel)",
   "language": "python",
   "name": "python3"
  },
  "language_info": {
   "codemirror_mode": {
    "name": "ipython",
    "version": 3
   },
   "file_extension": ".py",
   "mimetype": "text/x-python",
   "name": "python",
   "nbconvert_exporter": "python",
   "pygments_lexer": "ipython3",
   "version": "3.12.11"
  }
 },
 "nbformat": 4,
 "nbformat_minor": 5
}
