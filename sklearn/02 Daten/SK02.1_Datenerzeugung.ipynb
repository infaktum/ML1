{
 "cells": [
  {
   "cell_type": "markdown",
   "id": "ec961a80-f0c1-4ded-b893-f66053528a89",
   "metadata": {},
   "source": [
    "# Erstellung von Daten für Entwicklung und Tests"
   ]
  },
  {
   "cell_type": "markdown",
   "id": "3c9f904a-440c-412b-b265-2e7d69320fed",
   "metadata": {},
   "source": [
    "## DataSets"
   ]
  },
  {
   "cell_type": "markdown",
   "id": "7acfd8cb-04f2-4a1d-a8d4-bdc1a4305ebe",
   "metadata": {},
   "source": [
    "Im Paket `sklearn.datasets` gibt es zahlreiche Methoden zur Erstellung von Daten, die zu Lehrzwecken, aber auch zur Entwicklung und für Tests verwendet werden können. Die Methoden sind in drei Gruppen zusammengefasst:\n",
    "\n",
    "1. __make__: Mit den `make_*`-Methoden werden Datensätze zufällig erzeugt. Dies kann in großem Umfang durch Parameter gesteuert werden (Anzahl der Datensätze und Features, etc.).\n",
    "2. __load__: Mit den `load_*`-Methoden werden kleinere Datensätze geladen, die zusammen mit `Scikit-learn` installiert wurden. Die Datensätze wurden oft in Veröffentlichungen als Beispieldaten verwendet (etwa der __Iris__-Datensatz) und lassen sich sehr gut zu Lernzwecken verwenden.\n",
    "3. __fetch__: Mit den `fetch_*`-Methoden werden große Datensätze aus dem Internet geladen und in einem lokalen Repository abgelegt. Der Download ist jeweils recht umfangreich; dafür stehen dann schon Daten für eine \"ernsthafte\" Arbeit zur Verfügung."
   ]
  },
  {
   "cell_type": "markdown",
   "id": "207c8566-9fb0-4135-941e-c9f3b926b77e",
   "metadata": {},
   "source": []
  }
 ],
 "metadata": {
  "kernelspec": {
   "display_name": "Python 3 (ipykernel)",
   "language": "python",
   "name": "python3"
  },
  "language_info": {
   "codemirror_mode": {
    "name": "ipython",
    "version": 3
   },
   "file_extension": ".py",
   "mimetype": "text/x-python",
   "name": "python",
   "nbconvert_exporter": "python",
   "pygments_lexer": "ipython3",
   "version": "3.12.11"
  }
 },
 "nbformat": 4,
 "nbformat_minor": 5
}
