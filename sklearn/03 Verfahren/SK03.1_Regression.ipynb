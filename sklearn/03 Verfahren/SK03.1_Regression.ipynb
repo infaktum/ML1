{
 "cells": [
  {
   "cell_type": "markdown",
   "id": "f12d1ea6-5773-47b7-914a-7a8077e03361",
   "metadata": {},
   "source": [
    "# Regression"
   ]
  },
  {
   "cell_type": "markdown",
   "id": "dde22db4-a803-468f-8cc2-917a8b97af8a",
   "metadata": {},
   "source": [
    "Ein Regressionsverfahren in der KI (Künstlichen Intelligenz) bezeichnet eine Methode des überwachten Lernens, bei der ein Modell auf Basis von Trainingsdaten eine kontinuierliche (numerische) Ausgabe vorhersagt. Das Ziel ist es, eine Funktion zu finden, die die Beziehung zwischen Eingangsvariablen (Features) und einer Zielvariablen (Target) beschreibt."
   ]
  },
  {
   "cell_type": "markdown",
   "id": "9f70a419-6b0a-404b-aaff-470a31ab23e1",
   "metadata": {},
   "source": [
    "## Das Problem"
   ]
  },
  {
   "cell_type": "markdown",
   "id": "3519a8dd-aa3c-4305-bb90-3b83586a8c44",
   "metadata": {},
   "source": [
    "Angenommen, es liegen eine Menge Daten __X__ mit dazugehörenden Werten __y__ vor. Wir nehmen nun an, dass es einen (einfachen) funktionalen Zusammenhang zwischen den Daten gibt. Der Typ der Funktion ist unser __Modell__. Unsere Aufgabe ist es nun, unter diesen  Funktionen die ein zu finden zu finden, die _am besten_ zu den vorgegebenen Daten passt. Dazu werden die __Paramter__ der Funktion so angepasst, dass eine __Fehlerfunktion__ einen minimalen Wert annimmt."
   ]
  },
  {
   "cell_type": "markdown",
   "id": "26c86a27-f71f-4abc-bb15-0dcdca2aa166",
   "metadata": {},
   "source": [
    "## Mathematische Beschreibung"
   ]
  },
  {
   "cell_type": "markdown",
   "id": "48758bcc-f5d6-4231-9214-80b6a3120625",
   "metadata": {},
   "source": [
    "Die Regression ist ein Verfahren im maschinellen Lernen, das darauf abzielt, eine Funktion $f$ zu finden, die den Zusammenhang zwischen Eingabedaten $X$ und einer kontinuierlichen Zielvariable $y$ beschreibt. Mathematisch wird angenommen, dass die Daten durch ein Modell der Form\n",
    "$$ y = f(X) + \\varepsilon $$\n",
    "erzeugt werden, wobei $\\varepsilon$ ein Fehlerterm ist.\n",
    "Beim einfachsten Fall, der __linearen Regression__, wird $f(X)$ als lineare Funktion modelliert:\n",
    "$$y = \\beta_0 + \\beta_1 x_1 + \\beta_2 x_2 + \\ldots + \\beta_p x_p + \\varepsilon $$\n",
    "Hierbei sind $\\beta_0, \\beta_1, \\ldots, \\beta_p $ die zu bestimmenden Regressionskoeffizienten und $x_1, \\ldots, x_p $ die Merkmale.\n",
    "Das Ziel der Regression ist es, die Koeffizienten so zu bestimmen, dass die Vorhersagefehler (z. B. die Summe der quadrierten Abweichungen zwischen den tatsächlichen und den vorhergesagten Werten) minimiert werden:\n",
    "$$\\min_{\\beta} \\sum_{i=1}^n (y_i - f(X_i))^2$$\n",
    "Die Regression kann auch nichtlineare Zusammenhänge modellieren, z. B. durch polynomiale oder andere Funktionen. Sie wird verwendet, um Werte vorherzusagen, Trends zu analysieren und Zusammenhänge zwischen Variablen zu erkennen.\n",
    "\n"
   ]
  },
  {
   "cell_type": "code",
   "execution_count": null,
   "id": "d6584d59-f640-4ec4-ab4f-13bf15b799e4",
   "metadata": {},
   "outputs": [],
   "source": []
  }
 ],
 "metadata": {
  "kernelspec": {
   "display_name": "Python 3 (ipykernel)",
   "language": "python",
   "name": "python3"
  },
  "language_info": {
   "codemirror_mode": {
    "name": "ipython",
    "version": 3
   },
   "file_extension": ".py",
   "mimetype": "text/x-python",
   "name": "python",
   "nbconvert_exporter": "python",
   "pygments_lexer": "ipython3",
   "version": "3.12.11"
  }
 },
 "nbformat": 4,
 "nbformat_minor": 5
}
