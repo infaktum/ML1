{
 "cells": [
  {
   "cell_type": "markdown",
   "id": "5ef61e04-ce06-401a-8950-9ce1f5b75315",
   "metadata": {},
   "source": [
    "# Deep Learning"
   ]
  },
  {
   "cell_type": "markdown",
   "id": "99be3b9c-17a4-4da3-9542-6d707222e7be",
   "metadata": {},
   "source": [
    "Deep Learning ist ein Teilbereich des maschinellen Lernens (ML), der sich auf künstliche neuronale Netze mit vielen Schichten („deep neural networks“) stützt.\n",
    "Die Idee: Inspiriert vom menschlichen Gehirn werden viele Schichten aus Neuronen (mathematischen Funktionen) miteinander verbunden, um komplexe Muster in Daten automatisch zu erkennen.\n",
    "\n",
    "Im Gegensatz zu klassischen ML-Methoden erfordert Deep Learning oft weniger manuelle Feature-Engineering, da die Modelle relevante Merkmale selbst aus den Rohdaten extrahieren."
   ]
  },
  {
   "cell_type": "markdown",
   "id": "87c49b1d-8042-4d92-a150-b7100b1ae3ec",
   "metadata": {},
   "source": [
    "## Typische Anwendungsgebiete"
   ]
  },
  {
   "cell_type": "markdown",
   "id": "1a27d363-1e0f-42b9-bca2-db60e61775dd",
   "metadata": {},
   "source": [
    "* Computer Vision\n",
    "* Bilderkennung, Objekterkennung, medizinische Bildanalyse, autonomes Fahren.\n",
    "* Natürliche Sprachverarbeitung (NLP)\n",
    "* Maschinelle Übersetzung, Chatbots, Textgenerierung, Sprachassistenten.\n",
    "* Spracherkennung & -verarbeitung\n",
    "* Sprachsteuerung (z. B. Siri, Alexa), Untertitelung, Echtzeitübersetzung.\n",
    "* Empfehlungssysteme\n",
    "* Personalisierte Vorschläge bei Netflix, YouTube oder Amazon.\n",
    "* Zeitreihenanalyse\n",
    "* Finanzmarktvorhersagen, Predictive Maintenance, Wetterprognosen.\n",
    "* Generative Modelle: Bild-/Video-Generierung (GANs, Diffusion Models), Musik- und Textgenerierung."
   ]
  },
  {
   "cell_type": "markdown",
   "id": "c63d5f6c-d8da-4d17-baeb-22988df95415",
   "metadata": {},
   "source": [
    "## Zentrale Prinzipien"
   ]
  },
  {
   "cell_type": "markdown",
   "id": "045da440-a7c3-484a-9e96-e32b123d073f",
   "metadata": {},
   "source": [
    "## Neuronale Netze"
   ]
  },
  {
   "cell_type": "markdown",
   "id": "1dbe6644-773e-4652-b589-60feaf13b9d8",
   "metadata": {},
   "source": [
    "Im Zentrum des Deppe Learning sethen die **Neuronalen Netze** in ihrer einfachsten Form durch ein **Multi-Layer Perceptron** realisiert\n",
    "\n",
    "### Funnktionsweise\n",
    "\n",
    "Ein neuronales Netzwerk ist ein mathematisches Modell, das sich an der Funktionsweise des menschlichen Gehirns orientiert und dazu dient, Muster in Daten zu erkennen und Vorhersagen zu treffen. Es besteht aus vielen einzelnen Knoten, die man künstliche Neuronen nennt, und diese sind in Schichten organisiert. Die erste Schicht nimmt Eingabedaten entgegen, zum Beispiel die Pixelwerte eines Bildes oder die numerischen Merkmale einer Tabelle. Jedes Neuron dieser Schicht leitet die Informationen mit einem bestimmten Gewicht an die Neuronen der nächsten Schicht weiter. Diese Gewichte bestimmen, wie stark ein bestimmter Eingangswert das Ergebnis beeinflusst. Bevor die Signale weitergegeben werden, wird meist eine sogenannte Aktivierungsfunktion angewendet, die die Ausgaben auf einen bestimmten Wertebereich begrenzt und dafür sorgt, dass das Netzwerk auch komplexe, nichtlineare Zusammenhänge erfassen kann.\n",
    "\n",
    "Die mittleren Schichten, auch _versteckte Schichten_ genannt, sind das Herzstück des Netzwerks. Sie kombinieren die Eingaben immer wieder neu und verdichten die Informationen so, dass Muster, Strukturen und Zusammenhänge sichtbar werden, die auf den ersten Blick verborgen sind. Schließlich gelangt die verarbeitete Information zur Ausgabeschicht, die das Ergebnis des gesamten Netzwerks liefert. Das kann eine Klassenzuordnung sein, etwa die Entscheidung, ob ein Bild eine Katze oder einen Hund zeigt, oder eine kontinuierliche Vorhersage, zum Beispiel die Schätzung eines Aktienkurses.\n",
    "\n",
    "Damit ein neuronales Netzwerk diese Aufgabe zuverlässig erfüllen kann, muss es trainiert werden. Beim Training vergleicht man die vom Netzwerk ausgegebene Antwort mit der richtigen Lösung, die man bereits kennt. Die Abweichung zwischen beiden Werten wird als Fehler bezeichnet. Mithilfe eines mathematischen Verfahrens - der **Backpropagation** -  wird dieser Fehler Schicht für Schicht zurückgerechnet, um die Gewichte so anzupassen, dass das Netzwerk bei zukünftigen Eingaben näher an die richtige Antwort kommt. Dieser Vorgang wiederholt sich über viele tausend oder sogar Millionen von Beispielen, bis das Netzwerk die zugrunde liegenden Muster in den Daten erlernt hat.\n",
    "\n",
    "Am Ende entsteht ein System, das aus den abstrakten Zahlen der Eingabe durch eine Vielzahl von Rechenschritten ein sinnvolles Ergebnis generieren kann, ohne dass jeder Schritt explizit vom Menschen programmiert werden musste. Die Stärke neuronaler Netzwerke liegt genau darin, dass sie selbständig Strukturen erkennen, die für uns schwer greifbar sind, und dass sie auf neue, bisher unbekannte Daten generalisieren können, solange diese den Mustern der Trainingsdaten ähneln."
   ]
  },
  {
   "cell_type": "code",
   "execution_count": null,
   "id": "5683ddc5-7a0c-435a-b36f-68dfad0ac2e3",
   "metadata": {},
   "outputs": [],
   "source": []
  }
 ],
 "metadata": {
  "kernelspec": {
   "display_name": "Python 3 (ipykernel)",
   "language": "python",
   "name": "python3"
  },
  "language_info": {
   "codemirror_mode": {
    "name": "ipython",
    "version": 3
   },
   "file_extension": ".py",
   "mimetype": "text/x-python",
   "name": "python",
   "nbconvert_exporter": "python",
   "pygments_lexer": "ipython3",
   "version": "3.12.11"
  }
 },
 "nbformat": 4,
 "nbformat_minor": 5
}
