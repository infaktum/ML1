{
 "cells": [
  {
   "cell_type": "markdown",
   "id": "a7bad97f-0dd2-49be-916a-dc19d05b005a",
   "metadata": {},
   "source": [
    "# Verfahren des Maschinellen Lernens"
   ]
  },
  {
   "cell_type": "markdown",
   "id": "3774da91-2382-4df0-ab38-40d7672635f5",
   "metadata": {},
   "source": [
    "Maschinelles Lernen (ML)\n",
    "➡️ Systeme lernen Muster aus Daten statt durch feste Regeln.\n",
    "\n",
    "1. Überwachtes Lernen\n",
    "\n",
    "Lineare Regression → Vorhersage kontinuierlicher Werte.\n",
    "\n",
    "Logistische Regression → Klassifikation in Kategorien.\n",
    "\n",
    "Support Vector Machines (SVM) → Trennung von Daten durch optimale Hyper-Ebenen.\n",
    "\n",
    "k-Nearest Neighbor (kNN) → Klassifikation anhand nächster Nachbarn.\n",
    "\n",
    "Multilayer Perceptron (MLP) → neuronales Netz für Klassifikation & Regression.\n",
    "\n",
    "2. Unüberwachtes Lernen\n",
    "\n",
    "k-Means Clustering → gruppiert Daten nach Ähnlichkeiten.\n",
    "\n",
    "Hierarchisches Clustering → baut eine Cluster-Hierarchie auf.\n",
    "\n",
    "Principal Component Analysis (PCA) → reduziert Dimensionen.\n",
    "\n",
    "Autoencoder → komprimieren und rekonstruieren Daten.\n",
    "\n",
    "DBSCAN (Density-Based Spatial Clustering of Applications with Noise) → erkennt Cluster beliebiger Form und filtert Ausreißer.\n",
    "\n",
    "3. Bestärkendes Lernen (Reinforcement Learning)\n",
    "\n",
    "Q-Learning → Wertetabelle für optimale Aktionen.\n",
    "\n",
    "Deep Q-Networks (DQN) → Q-Learning mit neuronalen Netzen.\n",
    "\n",
    "Policy Gradient Methoden → optimieren direkt die Aktionspolitik."
   ]
  },
  {
   "cell_type": "code",
   "execution_count": null,
   "id": "ed258000-2c44-4237-b24e-ebb5bc1875e3",
   "metadata": {},
   "outputs": [],
   "source": []
  }
 ],
 "metadata": {
  "kernelspec": {
   "display_name": "Python 3 (ipykernel)",
   "language": "python",
   "name": "python3"
  },
  "language_info": {
   "codemirror_mode": {
    "name": "ipython",
    "version": 3
   },
   "file_extension": ".py",
   "mimetype": "text/x-python",
   "name": "python",
   "nbconvert_exporter": "python",
   "pygments_lexer": "ipython3",
   "version": "3.12.11"
  }
 },
 "nbformat": 4,
 "nbformat_minor": 5
}
