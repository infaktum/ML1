{
 "cells": [
  {
   "cell_type": "markdown",
   "id": "a7bad97f-0dd2-49be-916a-dc19d05b005a",
   "metadata": {},
   "source": [
    "# Verfahren des Maschinellen Lernens"
   ]
  },
  {
   "cell_type": "markdown",
   "id": "e1baa4ab-ce6f-4db1-9d8c-6d81c7fcef93",
   "metadata": {},
   "source": [
    "Ein kleine Übersicht über die bekanntesten Verfahren des Maschinenlernens, aufgeteilt in verschiedene Gruppen:"
   ]
  },
  {
   "cell_type": "markdown",
   "id": "3774da91-2382-4df0-ab38-40d7672635f5",
   "metadata": {},
   "source": [
    "## Überwachtes Lernen - Supervised Learning\n",
    "\n",
    "Beim überwachten Lernen liegen die Daten paarweise vor, die Eingabedaten zusammen mit erwarteten Ausgabedaten. Man spricht auch von _gelabelten Daten_. Bestes Beispiel: Bilddaten mit entsprechenden Begiffen.\n",
    "\n",
    "Das Modell wird anhand eines Trainingsdatensatzes mit bekannten Eingabe- und Ausgabewerten (Labels) trainiert wird. Ziel ist es, eine Funktion zu finden, die neue, unbekannte Eingabedaten möglichst korrekt vorhersagen kann. Typische Aufgaben sind Klassifikation (z.B. Bilder in Kategorien einteilen) und Regression (z.B. Vorhersage von Zahlenwerten). Das Modell lernt aus Beispielen und wird anschließend mit Testdaten auf seine Genauigkeit überprüft.\n",
    "\n",
    "### Lineare Regression\n",
    "\n",
    "Stellet einen funktionalen Zusammenhang kontinuierlicher Werte her. Dadurch können Ausgabewerte für neue Eingabewerte vorhergesagt werden.\n",
    "\n",
    "\n",
    "###  Logistische Regression\n",
    "\n",
    "Hier werden die Daten in Katgorien aufgeteilt.\n",
    "\n",
    "### Support Vector Machines (SVM)\n",
    "\n",
    "Daten werden durch Bestimmung _optimaler (Hyper-)Ebenen_ getrennt und so klassifiziert.\n",
    "\n",
    "### k-Nearest Neighbor (kNN)\n",
    "\n",
    "Klassifikation anhand nächster Nachbarn.\n",
    "\n",
    "### Entscheidungsbäume und Random Forests\n",
    "\n",
    "Modellieren Entscheidungen durch Regeln in Baumstruktur.\n",
    "\n",
    "### Multilayer Perceptron (MLP)\n",
    "\n",
    "Neuronales Netz für Klassifikation & Regression. Das schlagkräftigste Verfahren des Maschinenlernens.\n",
    "\n",
    "\n",
    "\n",
    "## Unüberwachtes Lernen (Unsupervised Learning)\n",
    "\n",
    "Beim unüberwachten Lernen werden die Modelle mit Daten ohne bekannte Ausgabewerte (Labels) arbeiten. Ziel ist es, Muster, Strukturen oder Gruppen in den Daten zu erkennen, ohne dass vorher festgelegt ist, was gefunden werden soll. Typische Aufgaben sind das Clustering (z.B. k-means, bei dem ähnliche Datenpunkte zu Gruppen zusammengefasst werden) und die Dimensionsreduktion (z.B. Hauptkomponentenanalyse). Das Modell entdeckt selbstständig Zusammenhänge und Strukturen in den Eingabedaten.\n",
    "\n",
    "### k-Means Clustering\n",
    "\n",
    "gruppiert Daten nach Ähnlichkeiten.\n",
    "\n",
    "### Hierarchisches Clustering\n",
    "\n",
    "baut eine Cluster-Hierarchie auf.\n",
    "\n",
    "\n",
    "### DBSCAN (Density-Based Spatial Clustering of Applications with Noise)\n",
    "\n",
    "erkennt Cluster beliebiger Form und filtert Ausreißer.\n",
    "\n",
    "\n",
    "### Principal Component Analysis (PCA)\n",
    "\n",
    "Dimensionsreduktion durch eine Transformation und Projektion auf berechnete Hauptachsen.\n",
    "\n",
    "### Autoencoder\n",
    "\n",
    "komprimieren und rekonstruieren Daten.\n",
    "\n",
    "\n",
    "## Bestärkendes Lernen (Reinforcement Learning)\n",
    "\n",
    "Beim verstärkenden Lernen (Reinforcement Learning) wird ein _Agent_ durch Interaktion mit einer Umgebung lernt, optimale Entscheidungen zu treffen. Der Agent führt Aktionen aus und erhält dafür Belohnungen oder Strafen. Ziel ist es, eine Strategie (Policy) zu entwickeln, die langfristig die höchste Belohnung erzielt. Typische Anwendungen sind Spiele, Robotik und autonome Systeme. Das Lernen erfolgt meist durch Trial-and-Error und die Anpassung der Strategie basierend auf den erhaltenen Rückmeldungen.\n",
    "\n",
    "### Q-Learning\n",
    "Wertetabelle für optimale Aktionen.\n",
    "\n",
    "### Deep Q-Networks (DQN)\n",
    "\n",
    "Q-Learning mit neuronalen Netzen.\n",
    "\n",
    "### Policy Gradient Methoden\n",
    "\n",
    "optimieren direkt die Aktionspolitik."
   ]
  }
 ],
 "metadata": {
  "kernelspec": {
   "display_name": "Python 3 (ipykernel)",
   "language": "python",
   "name": "python3"
  },
  "language_info": {
   "codemirror_mode": {
    "name": "ipython",
    "version": 3
   },
   "file_extension": ".py",
   "mimetype": "text/x-python",
   "name": "python",
   "nbconvert_exporter": "python",
   "pygments_lexer": "ipython3",
   "version": "3.12.11"
  }
 },
 "nbformat": 4,
 "nbformat_minor": 5
}
