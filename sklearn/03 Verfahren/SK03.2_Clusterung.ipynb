{
 "cells": [
  {
   "cell_type": "markdown",
   "id": "36c5fd8b-dd5d-419a-9c96-fa94dfd556de",
   "metadata": {},
   "source": [
    "# Clusterung"
   ]
  },
  {
   "cell_type": "markdown",
   "id": "cade9f1a-a21c-4c55-beae-f95f1244b338",
   "metadata": {},
   "source": [
    "Clusterung ist ein grundlegendes Verfahren im Bereich der Künstlichen Intelligenz (KI) und des maschinellen Lernens, das zur Gruppierung von Datenpunkten verwendet wird. Ziel der Clusterung ist es, Objekte so zu gruppieren, dass die Mitglieder eines Clusters sich möglichst ähnlich sind, während die Unterschiede zwischen den einzelnen Clustern möglichst groß sind. Clusterung gehört zu den sogenannten _unüberwachten Lernverfahren_, da keine vorab bekannten Labels oder Zielwerte benötigt werden."
   ]
  },
  {
   "cell_type": "markdown",
   "id": "12b31df0-88cb-4498-902a-2d73b9970587",
   "metadata": {},
   "source": [
    "## Wann verwendet man Clusterung?"
   ]
  },
  {
   "cell_type": "markdown",
   "id": "4a24ad90-a3af-478d-9771-10ce7af937a0",
   "metadata": {},
   "source": [
    "Clusterung wird eingesetzt, wenn man in großen, unstrukturierten Datensätzen Muster oder Strukturen erkennen möchte. Typische Anwendungsfälle sind die Kundensegmentierung im Marketing, die Bildsegmentierung in der Computer Vision oder die Anomalieerkennung in der IT-Sicherheit."
   ]
  },
  {
   "cell_type": "markdown",
   "id": "c018c7af-eb37-4f21-a92b-8af82acb2dcb",
   "metadata": {},
   "source": [
    "## Grundlagen der Clusterung"
   ]
  },
  {
   "cell_type": "markdown",
   "id": "aafa67c3-28c5-42f4-9b04-bcf46ac66c58",
   "metadata": {},
   "source": [
    "Die Basis der Clusterung ist die Definition einer Ähnlichkeits- oder Distanzfunktion, mit der die Nähe zwischen Datenpunkten gemessen wird. Häufig werden dafür metrische Distanzen wie die euklidische oder Manhattan-Distanz verwendet. Das Ziel ist, die Datenpunkte so zu gruppieren, dass die intra-cluster-Distanzen (Abstände innerhalb eines Clusters) möglichst klein und die inter-cluster-Distanzen (Abstände zwischen Clustern) möglichst groß sind."
   ]
  },
  {
   "cell_type": "markdown",
   "id": "772a62a3-9184-4a9c-971a-47d1b2688ebf",
   "metadata": {},
   "source": [
    "## Verfahren der Clusterung"
   ]
  },
  {
   "cell_type": "markdown",
   "id": "7865f85a-d8d8-423f-b493-8b6ed2314291",
   "metadata": {},
   "source": [
    "Es gibt verschiedene Ansätze und Algorithmen zur Clusterung, darunter:"
   ]
  },
  {
   "cell_type": "markdown",
   "id": "75cc9e41-717b-4691-ab35-56de7b32fb51",
   "metadata": {},
   "source": [
    "### K-Means: "
   ]
  },
  {
   "cell_type": "markdown",
   "id": "baca2582-ecf5-47f0-9fba-aff4fd90bf4e",
   "metadata": {},
   "source": [
    "Ein zentroidbasierter Algorithmus, der die Daten in eine vorgegebene Anzahl von Clustern aufteilt. Die Zentren der Cluster werden iterativ angepasst, bis eine optimale Gruppierung erreicht ist."
   ]
  },
  {
   "cell_type": "markdown",
   "id": "39755b93-bbca-406d-b358-12d5f538e2a8",
   "metadata": {},
   "source": [
    "### Hierarchische Clusterung: "
   ]
  },
  {
   "cell_type": "markdown",
   "id": "f02d2c5c-01af-4946-a03d-6f098e3e3fb5",
   "metadata": {},
   "source": [
    "Erstellt eine Baumstruktur (Dendrogramm) der Daten, indem entweder sukzessive Cluster zusammengeführt (agglomerativ) oder aufgeteilt (divisiv) werden."
   ]
  },
  {
   "cell_type": "markdown",
   "id": "00cc008a-f2f1-481a-b49b-df4d28b3dddb",
   "metadata": {},
   "source": [
    "### DBSCAN (Density-Based Spatial Clustering of Applications with Noise)"
   ]
  },
  {
   "cell_type": "markdown",
   "id": "701747fa-d7f6-4352-b602-193da4719d59",
   "metadata": {},
   "source": [
    "Ein dichtebasierter Algorithmus, der Cluster als dicht besiedelte Regionen im Datenraum erkennt und Ausreißer als Rauschen klassifiziert.\n",
    "Gaussian Mixture Models (GMM): Modelliert die Daten als Mischung mehrerer normalverteilter Komponenten und verwendet Wahrscheinlichkeiten zur Zuordnung der Datenpunkte zu Clustern."
   ]
  },
  {
   "cell_type": "markdown",
   "id": "17b0f944-103a-4b0e-90b4-07f0e51c1a85",
   "metadata": {},
   "source": [
    "Jedes Verfahren hat spezifische Vor- und Nachteile und eignet sich für unterschiedliche Datentypen und Problemstellungen. Die Wahl des passenden Algorithmus hängt von den Eigenschaften der Daten und dem Ziel der Analyse ab. Clusterung ist ein mächtiges Werkzeug, um verborgene Strukturen in Daten zu entdecken und neue Erkenntnisse zu gewinnen."
   ]
  },
  {
   "cell_type": "code",
   "execution_count": null,
   "id": "00074537-11b0-4fc3-8c44-3166eb57fb6f",
   "metadata": {},
   "outputs": [],
   "source": []
  }
 ],
 "metadata": {
  "kernelspec": {
   "display_name": "Python 3 (ipykernel)",
   "language": "python",
   "name": "python3"
  },
  "language_info": {
   "codemirror_mode": {
    "name": "ipython",
    "version": 3
   },
   "file_extension": ".py",
   "mimetype": "text/x-python",
   "name": "python",
   "nbconvert_exporter": "python",
   "pygments_lexer": "ipython3",
   "version": "3.12.11"
  }
 },
 "nbformat": 4,
 "nbformat_minor": 5
}
