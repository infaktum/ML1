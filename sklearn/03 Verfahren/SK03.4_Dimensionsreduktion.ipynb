{
 "cells": [
  {
   "cell_type": "markdown",
   "id": "63e78f01-0f2f-4e60-8254-1afd44766134",
   "metadata": {},
   "source": [
    "# Dimensionsreduktion"
   ]
  },
  {
   "cell_type": "markdown",
   "id": "5cd64d4f-c3d5-47fd-b41f-7fd9f0231994",
   "metadata": {},
   "source": [
    "Dimensionsreduktion ist ein zentrales Verfahren in der Künstlichen Intelligenz (KI) und im maschinellen Lernen, das darauf abzielt, die Anzahl der Merkmale (Dimensionen) in Datensätzen zu verringern. Dies ist besonders bei sehr hochdimensionalen Daten wichtig, wie sie etwa in der Genomik, Bildverarbeitung oder Textanalyse vorkommen.\n",
    "    "
   ]
  },
  {
   "cell_type": "markdown",
   "id": "2eeae079-16b4-4bc4-8cf3-46ea820b0f1c",
   "metadata": {},
   "source": [
    "## Wann verwendet man Dimensionsreduktion?"
   ]
  },
  {
   "cell_type": "markdown",
   "id": "bd7f9bee-7c0c-4bbe-9e1c-518f4012d788",
   "metadata": {},
   "source": [
    "Dimensionsreduktion wird eingesetzt, wenn Datensätze viele Merkmale enthalten, was zu Problemen wie dem Fluch der Dimensionalität führen kann. Zu viele Dimensionen erschweren die Visualisierung, erhöhen den Rechenaufwand und können die Leistung von Algorithmen verschlechtern. Durch die Reduktion auf die wichtigsten Merkmale werden Daten übersichtlicher, Modelle robuster und die Gefahr von Overfitting sinkt."
   ]
  },
  {
   "cell_type": "markdown",
   "id": "079fcbea-94f0-494d-a5d1-24b288136e16",
   "metadata": {},
   "source": [
    "## Grundlagen der Dimensionsreduktion"
   ]
  },
  {
   "cell_type": "markdown",
   "id": "a53c40df-5589-4903-935f-c3c3d78eca46",
   "metadata": {},
   "source": [
    "Das Ziel ist, die wesentlichen Informationen der Daten zu erhalten, während unwichtige oder redundante Merkmale entfernt werden. Dabei unterscheidet man zwischen Feature Selection (Auswahl relevanter Merkmale) und Feature Extraction (Erzeugung neuer, kompakter Merkmale). Die Ähnlichkeit und Struktur der Daten soll möglichst erhalten bleiben.\n",
    "Verfahren der Dimensionsreduktion"
   ]
  },
  {
   "cell_type": "markdown",
   "id": "d4498690-d71c-4281-a38c-7305fed89730",
   "metadata": {},
   "source": [
    "## Einige Standardverfahren"
   ]
  },
  {
   "cell_type": "markdown",
   "id": "91d4f2ac-dd52-49c2-872c-f7f846f71096",
   "metadata": {},
   "source": [
    "### Hauptkomponentenanalyse (PCA) "
   ]
  },
  {
   "cell_type": "markdown",
   "id": "6bda13a3-fa3b-4358-b7fe-246aaad249d1",
   "metadata": {},
   "source": [
    "Ein lineares Verfahren, das die Daten auf neue Achsen projiziert, sodass die Varianz maximal erhalten bleibt. Die ersten Hauptkomponenten enthalten die meiste Information."
   ]
  },
  {
   "cell_type": "markdown",
   "id": "0f75a2a1-ed4a-4ee1-bac3-37d2fd1b45c1",
   "metadata": {},
   "source": [
    "### Lineare Diskriminanzanalyse (LDA)"
   ]
  },
  {
   "cell_type": "markdown",
   "id": "0b4579dc-1865-4939-a496-bb7844513ccc",
   "metadata": {},
   "source": [
    "Nutzt die Klasseninformation, um die Trennung zwischen Gruppen zu maximieren. Besonders für Klassifikationsaufgaben geeignet."
   ]
  },
  {
   "cell_type": "markdown",
   "id": "d08c0fe2-863b-48bc-92fe-23b49080751c",
   "metadata": {},
   "source": [
    "### t-SNE (t-Distributed Stochastic Neighbor Embedding)"
   ]
  },
  {
   "cell_type": "markdown",
   "id": "acbd44fd-1fa2-4b36-baec-7a4a63133997",
   "metadata": {},
   "source": [
    "Ein nichtlineares Verfahren zur Visualisierung hochdimensionaler Daten in zwei oder drei Dimensionen, wobei lokale Strukturen erhalten bleiben."
   ]
  },
  {
   "cell_type": "markdown",
   "id": "88991351-5ab1-4314-908d-13af9b8e730e",
   "metadata": {},
   "source": [
    "### Autoencoder"
   ]
  },
  {
   "cell_type": "markdown",
   "id": "a4d02897-311d-452c-8fca-a4ba1c9a66b9",
   "metadata": {},
   "source": [
    "Neuronale Netze, die die Daten komprimieren und wieder rekonstruieren, wobei der komprimierte Teil als reduzierte Darstellung dient.\n",
    "Feature Selection Methoden: Statistische Tests, Regularisierung (z.B. Lasso), oder baumbasierte Verfahren wie Random Forests, die unwichtige Merkmale aussortieren."
   ]
  },
  {
   "cell_type": "markdown",
   "id": "87953548-d367-47da-a90d-8741dabfca86",
   "metadata": {},
   "source": [
    "Die Wahl des Verfahrens hängt von den Daten, dem Ziel und den Anforderungen an Interpretierbarkeit und Rechenaufwand ab. Dimensionsreduktion ist ein unverzichtbares Werkzeug, um komplexe Daten handhabbar und analysierbar zu machen."
   ]
  }
 ],
 "metadata": {
  "kernelspec": {
   "display_name": "Python 3 (ipykernel)",
   "language": "python",
   "name": "python3"
  },
  "language_info": {
   "codemirror_mode": {
    "name": "ipython",
    "version": 3
   },
   "file_extension": ".py",
   "mimetype": "text/x-python",
   "name": "python",
   "nbconvert_exporter": "python",
   "pygments_lexer": "ipython3",
   "version": "3.12.11"
  }
 },
 "nbformat": 4,
 "nbformat_minor": 5
}
