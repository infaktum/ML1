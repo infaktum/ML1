{
 "cells": [
  {
   "cell_type": "markdown",
   "id": "4829b632-7f4c-4bb4-ae73-a1de94712b58",
   "metadata": {},
   "source": [
    "# Was ist Scikit-learn?"
   ]
  },
  {
   "cell_type": "markdown",
   "id": "4760c9e2-f9a0-4a50-9cc9-455d3afc24b8",
   "metadata": {},
   "source": [
    "![Logo](./sklearn.png)\n",
    "\n",
    "`Scikit-learn` (https://scikit-learn.org/) ist eine der bekanntesten und am weitesten verbreiteten Bibliotheken für maschinelles Lernen in Python. Sie bietet eine Vielzahl von Werkzeugen für überwachtes und unüberwachtes Lernen sowie verschiedene Hilfsfunktionen zur Datenverarbeitung und Modellbewertung. Die Bibliothek basiert auf anderen leistungsstarken Python-Paketen wie `NumPy`, `SciPy` und `Matplotlib` und ermöglicht eine einfache und effiziente Implementierung von Algorithmen für maschinelles Lernen.\n",
    "\n",
    "`Scikit-learn` wird häufig in der wissenschaftlichen Forschung, in der Industrie und in der Ausbildung verwendet, um verschiedene Probleme des maschinellen Lernens wie Klassifikation, Regression, Clustering und Dimensionsreduktion zu lösen.\n",
    "\n",
    "`Scikit-learn` ist besonders beliebt, weil es:\n",
    "\n",
    "* Benutzerfreundlich ist (klare API, gut dokumentiert)\n",
    "* Effizient ist (optimiert für große Datenmengen)\n",
    "* Umfangreich ist (viele Algorithmen und Werkzeuge enthalten)\n",
    "* Kompatibel mit anderen Bibliotheken wie `Pandas`, `NumPy` und `TensorFlow` ist\n",
    "* Open Source und kostenlos nutzbar ist\n",
    "\n",
    "`Scikit-learn` wird aktiv weiterentwickelt, um moderne ML-Methoden, bessere Parallelverarbeitung und verbesserte Performance zu integrieren.\n",
    "\n",
    "`Scikit-learn` eignet sich hervorragend für Einsteiger und Experten im Bereich des maschinellen Lernens und ist eine unverzichtbare Bibliothek in der Data-Science-Welt."
   ]
  },
  {
   "cell_type": "markdown",
   "id": "39a4fea4-1d95-4b95-8c8d-b0332a937ccf",
   "metadata": {},
   "source": [
    "## Was wird unterstützt?\n",
    "\n",
    "`Scikit-learn` unterstützt sowohl bei Vorverarbeitung der Daten als auch bei ihrer eigentlichen Untersuchung durch die verschiedenen KI-Verfahren. Zudem existieren Mechanismen zur Automatisierung (_Pipelines_)."
   ]
  },
  {
   "cell_type": "markdown",
   "id": "531a34d7-caf0-45f2-a93d-c418f4547d46",
   "metadata": {},
   "source": [
    "### Vorverarbeitung der Daten (incl. Erstellung)\n",
    "\n",
    "* __Erzeugung von Zufallsdaten__\n",
    "* __Laden von Datensätzen__\n",
    "* __Vorverarbeitung der Daten__ (_Preprocessing_)"
   ]
  },
  {
   "cell_type": "markdown",
   "id": "1c84ea1d-2c6f-46a9-89d4-e133d4a71a3d",
   "metadata": {},
   "source": [
    "### Verarbeitung der Daten (KI-Verfahren)\n",
    "\n",
    "* __Klassifizierung__ (_Classification_)\n",
    "* __Regression__ (_Regression_)\n",
    "* __Clusterung__ (_Clustering_)\n",
    "* __Dimensions-Reduzierung__ (_Dimensionality Reduction_)\n",
    "* __Wahl des Modells__ (_Model Selection_)\n"
   ]
  },
  {
   "cell_type": "markdown",
   "id": "26505380-4b0e-490d-8463-bcfd6ccd2877",
   "metadata": {},
   "source": [
    "### Klassifizierung\n",
    " \n",
    "* k-Nearest Neighbors\n",
    "* Gradient Boost\n",
    "* Random Forest\n",
    "* Entscheidungsbäume\n",
    "* Support Vector Machines\n",
    "* Naive Bayes"
   ]
  },
  {
   "cell_type": "markdown",
   "id": "38e8cdff-1d06-48db-bf0e-1044abadca3d",
   "metadata": {},
   "source": [
    "### Regression\n",
    "\n",
    "* Nearest Neighbors\n",
    "* Gradient Boost\n",
    "* Random Forest"
   ]
  },
  {
   "cell_type": "markdown",
   "id": "20919f04-c82c-4a99-aae0-76d7cb348453",
   "metadata": {},
   "source": [
    "### Clusterung\n",
    "* k-Means\n",
    "* DBSCAN"
   ]
  },
  {
   "cell_type": "markdown",
   "id": "6475e472-02fe-4de3-9319-61952d84043e",
   "metadata": {},
   "source": [
    "### Dimensions-Reduktion\n",
    "* PCA (Principal Component Analysis)\n",
    "* Feature Selection"
   ]
  },
  {
   "cell_type": "markdown",
   "id": "a63150f9-5edf-44a9-ba2b-a8b9d611dddd",
   "metadata": {},
   "source": [
    "### Wahl des Modells"
   ]
  },
  {
   "cell_type": "markdown",
   "id": "7b49d95e-6c27-4e49-91af-9d3f7e48932e",
   "metadata": {},
   "source": [
    "### Vorverarbeitung der Daten"
   ]
  },
  {
   "cell_type": "markdown",
   "id": "43146fc2-ca90-49b6-9e78-2318152fe83b",
   "metadata": {},
   "source": [
    "## Geschichte und Entwicklung von Scikit-learn\n",
    "\n",
    "`Scikit-learn` wurde ursprünglich als Teil des __Google Summer of Code 2007__ von David Cournapeau entwickelt. Später wurde es von einem Team um __INRIA__ (_Institut national de recherche en sciences et technologies du numérique_) weiterentwickelt und offiziell veröffentlicht.\n",
    "\n",
    "### Wichtige Meilensteine:\n",
    "\n",
    "* 2007: Start des Projekts durch David Cournapeau\n",
    "* 2010: Erste offizielle Version unter INRIA veröffentlicht\n",
    "* Seit 2013: Kontinuierliche Entwicklung durch eine große Open-Source-Community\n",
    "* Heute: Eine der meistgenutzten ML-Bibliotheken mit Tausenden von Beiträgen aus Wissenschaft und Industrie\n",
    "\n"
   ]
  },
  {
   "cell_type": "code",
   "execution_count": null,
   "id": "e842851a-f3fd-4805-b80a-9a79e09bca2d",
   "metadata": {},
   "outputs": [],
   "source": []
  }
 ],
 "metadata": {
  "kernelspec": {
   "display_name": "Python 3 (ipykernel)",
   "language": "python",
   "name": "python3"
  },
  "language_info": {
   "codemirror_mode": {
    "name": "ipython",
    "version": 3
   },
   "file_extension": ".py",
   "mimetype": "text/x-python",
   "name": "python",
   "nbconvert_exporter": "python",
   "pygments_lexer": "ipython3",
   "version": "3.11.9"
  }
 },
 "nbformat": 4,
 "nbformat_minor": 5
}
