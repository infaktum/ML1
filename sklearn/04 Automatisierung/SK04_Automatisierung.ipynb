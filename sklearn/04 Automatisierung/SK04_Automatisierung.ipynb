{
 "cells": [
  {
   "cell_type": "markdown",
   "id": "a7bad97f-0dd2-49be-916a-dc19d05b005a",
   "metadata": {},
   "source": [
    "# Scikit-learn Data"
   ]
  },
  {
   "cell_type": "code",
   "execution_count": 3,
   "id": "10b5ec77-af18-4dad-92e9-6c98805da8a4",
   "metadata": {},
   "outputs": [
    {
     "name": "stdout",
     "output_type": "stream",
     "text": [
      "C:\\Users\\Admin\\Documents\\Projects\\python\\ki\\scikit_learn_data\n"
     ]
    }
   ],
   "source": [
    "import os\n",
    "from sklearn.datasets import get_data_home\n",
    "\n",
    "print(get_data_home())"
   ]
  },
  {
   "cell_type": "code",
   "execution_count": null,
   "id": "ed258000-2c44-4237-b24e-ebb5bc1875e3",
   "metadata": {},
   "outputs": [],
   "source": []
  }
 ],
 "metadata": {
  "kernelspec": {
   "display_name": "Python 3 (ipykernel)",
   "language": "python",
   "name": "python3"
  },
  "language_info": {
   "codemirror_mode": {
    "name": "ipython",
    "version": 3
   },
   "file_extension": ".py",
   "mimetype": "text/x-python",
   "name": "python",
   "nbconvert_exporter": "python",
   "pygments_lexer": "ipython3",
   "version": "3.10.13"
  }
 },
 "nbformat": 4,
 "nbformat_minor": 5
}
