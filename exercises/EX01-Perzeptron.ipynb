{
 "cells": [
  {
   "cell_type": "markdown",
   "id": "7acc3271-55af-4a04-ae76-19d9bec7ed92",
   "metadata": {},
   "source": [
    "# EX-01 Perzeptron"
   ]
  },
  {
   "cell_type": "markdown",
   "id": "60b763aa-a6bb-497c-bffc-5dbddbee49cc",
   "metadata": {},
   "source": [
    "Wir wollen ein einfaches Perzeptron entwickeln, das aus zwei binären Eingangssignalen ein vorgegebenes Ausgangssignal erzeugt. Dabei soll das Perzeptron durch wiederholtes Training seine Gewichte mit der Hebbschen Lernregel selbst trainieren.\n",
    "\n",
    "\n"
   ]
  },
  {
   "cell_type": "code",
   "execution_count": 1,
   "id": "8a94a77e-5c19-4736-955d-b951e36a322e",
   "metadata": {},
   "outputs": [],
   "source": [
    "import numpy as np"
   ]
  },
  {
   "cell_type": "markdown",
   "id": "fffc2480-1498-4606-9d57-07f60fa22b61",
   "metadata": {},
   "source": [
    "### 1. Initialisierung\n",
    "\n",
    "Im ersten Schritt erzeugen wir die Struktur des Perzeptron mit einer Funktion namens init(N), wobei __N__ die Anzahl der Eingangsneuronen ist. Die Struktur bestehht aus den beiden Gewichten $W = w_1, w_2$ und dem Bias $b$. "
   ]
  },
  {
   "cell_type": "code",
   "execution_count": 7,
   "id": "1d7f2f59-0d4f-4f5c-a900-7a84abd6fdd7",
   "metadata": {},
   "outputs": [],
   "source": [
    "def init(N):\n",
    "    return np.zeros(N) , 0"
   ]
  },
  {
   "cell_type": "code",
   "execution_count": 9,
   "id": "7b71cf8e-8b4f-4abc-97ac-ba4a5f1410fb",
   "metadata": {},
   "outputs": [],
   "source": [
    "p = init(2)"
   ]
  },
  {
   "cell_type": "markdown",
   "id": "8c9ceeea-b70e-44a8-80bf-e71f4b51a111",
   "metadata": {},
   "source": [
    "### 2. Die Aktivierungs-Funktion\n",
    "\n",
    "Der Output eines Neurons wird berechnet, in dem zum Skalarprodukt (Punktprodukt) der Gewichte mit dem Eingabevektor der Bias addiert wird. Ist das Ergebnis größer als 0, so ist der Output gleich 1:"
   ]
  },
  {
   "cell_type": "code",
   "execution_count": 10,
   "id": "6b727f2a-ea43-42d3-a580-13e617e96f2a",
   "metadata": {},
   "outputs": [],
   "source": [
    "def output(p, x):\n",
    "    w, b = p\n",
    "    return int(np.dot(w,x) + b > 0)"
   ]
  },
  {
   "cell_type": "markdown",
   "id": "45687036-ad20-45da-ac61-886e9b144ddd",
   "metadata": {},
   "source": [
    "Die möglichen Eingabevektoren sind:"
   ]
  },
  {
   "cell_type": "code",
   "execution_count": 11,
   "id": "613f7b21-353e-46ce-a25e-7e48eb07c7da",
   "metadata": {},
   "outputs": [],
   "source": [
    "X = np.array([[0,0],[0,1],[1,0],[1,1]])"
   ]
  },
  {
   "cell_type": "markdown",
   "id": "608e8971-3d67-496e-94c6-90c010441d5a",
   "metadata": {},
   "source": [
    "### 3. Die Lern-Funktion (Hebbsche Regel)\n",
    "\n",
    "$$\n",
    "\\begin{equation}\n",
    "\\begin{split}\n",
    "w_{1,2} &\\rightarrow w_{1,2} + \\alpha (y - o) x_{1,2}\\\\\n",
    "b &\\rightarrow b + \\alpha (y -o )\n",
    "\\end{split}\n",
    "\\end{equation}\n",
    "$$"
   ]
  },
  {
   "cell_type": "code",
   "execution_count": 14,
   "id": "dd3c0bb6-f878-453d-929e-7c57ab79370a",
   "metadata": {},
   "outputs": [],
   "source": [
    "def train(p, X, Y, alpha = 0.1, steps=10):\n",
    "    w, b = p\n",
    "    for _ in range(steps):\n",
    "        for x, y in zip(X,Y):\n",
    "            o =  output(p,x)\n",
    "            w = w + alpha * (y - o) * x\n",
    "            b = b + alpha * (y - o)\n",
    "            p = w, b\n",
    "    return p"
   ]
  },
  {
   "cell_type": "markdown",
   "id": "00f3c121-628a-4d31-b85c-2c58dbb739fc",
   "metadata": {},
   "source": [
    "Einige mögliche Ausgabe-Vektoren:"
   ]
  },
  {
   "cell_type": "code",
   "execution_count": 15,
   "id": "0c151e93-adfe-4f14-ad22-0e828cf70bdc",
   "metadata": {},
   "outputs": [],
   "source": [
    "Y1 = np.array([0,0,0,1]) # AND\n",
    "Y2 = np.array([0,1,1,1]) # OR\n",
    "Y3 = np.array([1,1,0,0])\n",
    "Y4 = np.array([0,1,0,1])"
   ]
  },
  {
   "cell_type": "code",
   "execution_count": 16,
   "id": "fc6eaedf-3102-414d-bc09-de3e88b5e0e3",
   "metadata": {},
   "outputs": [
    {
     "name": "stdout",
     "output_type": "stream",
     "text": [
      "Eingabe: [0 0],  0 | 0\n",
      "Eingabe: [0 1],  1 | 1\n",
      "Eingabe: [1 0],  0 | 0\n",
      "Eingabe: [1 1],  1 | 1\n"
     ]
    }
   ],
   "source": [
    "Y = Y4\n",
    "p = init(2)\n",
    "p = train(p,X,Y)\n",
    "\n",
    "for x, y in zip(X, Y):\n",
    "    print(f'Eingabe: {x},  {y} | {output(p,x)}')"
   ]
  },
  {
   "cell_type": "code",
   "execution_count": 17,
   "id": "4c3eefee-2308-4bde-a9b3-3021e1a680c9",
   "metadata": {},
   "outputs": [
    {
     "name": "stdout",
     "output_type": "stream",
     "text": [
      "(array([0. , 0.2]), 0.0)\n"
     ]
    }
   ],
   "source": [
    "print (p)"
   ]
  },
  {
   "cell_type": "code",
   "execution_count": null,
   "id": "24d48fcd-d651-473a-a932-7f9678dd3a47",
   "metadata": {},
   "outputs": [],
   "source": []
  }
 ],
 "metadata": {
  "kernelspec": {
   "display_name": "Python 3 (ipykernel)",
   "language": "python",
   "name": "python3"
  },
  "language_info": {
   "codemirror_mode": {
    "name": "ipython",
    "version": 3
   },
   "file_extension": ".py",
   "mimetype": "text/x-python",
   "name": "python",
   "nbconvert_exporter": "python",
   "pygments_lexer": "ipython3",
   "version": "3.10.13"
  }
 },
 "nbformat": 4,
 "nbformat_minor": 5
}
