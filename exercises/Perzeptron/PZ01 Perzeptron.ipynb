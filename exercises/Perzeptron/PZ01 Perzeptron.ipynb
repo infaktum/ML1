{
 "cells": [
  {
   "cell_type": "markdown",
   "id": "f9a821f9-cbb5-4786-8e7c-39b8a2dca2e4",
   "metadata": {},
   "source": [
    "# Übung 01 - Programmierung eines Perzeptrons"
   ]
  },
  {
   "cell_type": "code",
   "execution_count": 1,
   "id": "a6748894-bea1-48b8-9539-1b2a1bda4757",
   "metadata": {},
   "outputs": [],
   "source": [
    "import numpy as np"
   ]
  },
  {
   "cell_type": "markdown",
   "id": "5654450f-fe68-4a5d-ada9-bb28d01163aa",
   "metadata": {},
   "source": [
    "Ist $o$ der Output des Perzeptrons, so lässt sich dies vereinfachen zu\n",
    "\n",
    "$$\n",
    "\\begin{equation}\n",
    "\\begin{split}\n",
    "w_{1,2} &\\rightarrow w_{1,2} + \\alpha (y - o) x_{1,2}\\\\\n",
    "b &\\rightarrow b + \\alpha (y -o )\n",
    "\\end{split}\n",
    "\\end{equation}\n",
    "$$\n",
    "da $y - o =0\\;\\; \\text{oder} \\pm 1$ ist."
   ]
  },
  {
   "cell_type": "code",
   "execution_count": 16,
   "id": "009d2f43-f431-4b6f-b681-551f7c302697",
   "metadata": {},
   "outputs": [
    {
     "name": "stdout",
     "output_type": "stream",
     "text": [
      "[0 0] 1\n",
      "[0 1] 1\n",
      "[1 0] 0\n",
      "[1 1] 0\n"
     ]
    }
   ],
   "source": [
    "X = np.array( [[0,0],[0,1],[1,0],[1,1]])\n",
    "Y1 = np.array([0,1,1,1])\n",
    "Y2 = np.array([0,0,0,1])\n",
    "Y3 = np.array([0,0,1,1])\n",
    "Y4 = np.array([1,1,0,0])\n",
    "\n",
    "def init():\n",
    "    return np.zeros(2), 0\n",
    "    \n",
    "def output(p, v):\n",
    "    w, b = p\n",
    "    return int(np.dot(w, v) + b > 0)\n",
    "   \n",
    "def train(p,X,Y,alpha=0.01, max_iter=10):\n",
    "    w, b = p\n",
    "    for _ in range(max_iter):\n",
    "        for x,y in zip(X,Y):\n",
    "            o = output(p, x)\n",
    "            w += alpha * (y - o) * x\n",
    "            b += alpha * (y - o)\n",
    "            p = w, b\n",
    "    return p     \n",
    "\n",
    "p = init()\n",
    "p = train(p,X,Y4)\n",
    "\n",
    "for x in X:\n",
    "    print(x,output(p,x))\n",
    "    "
   ]
  },
  {
   "cell_type": "code",
   "execution_count": 17,
   "id": "f2e9155e-e5ef-47af-a23b-02f95a96f59a",
   "metadata": {},
   "outputs": [
    {
     "name": "stdout",
     "output_type": "stream",
     "text": [
      "(array([-0.01,  0.  ]), 0.01)\n"
     ]
    }
   ],
   "source": [
    "print(p)"
   ]
  },
  {
   "cell_type": "code",
   "execution_count": null,
   "id": "5d18c130-50b9-4d5b-918a-f1948d1325ed",
   "metadata": {},
   "outputs": [],
   "source": []
  }
 ],
 "metadata": {
  "kernelspec": {
   "display_name": "Python 3 (ipykernel)",
   "language": "python",
   "name": "python3"
  },
  "language_info": {
   "codemirror_mode": {
    "name": "ipython",
    "version": 3
   },
   "file_extension": ".py",
   "mimetype": "text/x-python",
   "name": "python",
   "nbconvert_exporter": "python",
   "pygments_lexer": "ipython3",
   "version": "3.10.13"
  }
 },
 "nbformat": 4,
 "nbformat_minor": 5
}
