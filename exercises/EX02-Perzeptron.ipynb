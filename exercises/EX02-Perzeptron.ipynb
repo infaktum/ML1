{
 "cells": [
  {
   "cell_type": "markdown",
   "id": "3fa00f63-6d9e-4118-a2c4-837eb83760ad",
   "metadata": {},
   "source": [
    "# EX-02: Das Perzeptron als Objekt"
   ]
  },
  {
   "cell_type": "code",
   "execution_count": 2,
   "id": "ed61da6f-13f5-49ac-b366-2ce20f069c54",
   "metadata": {},
   "outputs": [],
   "source": [
    "def mpn(w1,w2,s):\n",
    "    return lambda x1,x2: w1 * x1 + w2*x2 > s"
   ]
  },
  {
   "cell_type": "code",
   "execution_count": 3,
   "id": "186cbd01-be04-4b8c-b5d3-c6d9a1f95e4b",
   "metadata": {},
   "outputs": [],
   "source": [
    "act =  mpn(1,1,0.5)"
   ]
  },
  {
   "cell_type": "code",
   "execution_count": 5,
   "id": "83bcbeb5-aa41-42e3-99cc-d669e278b94e",
   "metadata": {},
   "outputs": [
    {
     "data": {
      "text/plain": [
       "False"
      ]
     },
     "execution_count": 5,
     "metadata": {},
     "output_type": "execute_result"
    }
   ],
   "source": [
    "act(0,0)"
   ]
  },
  {
   "cell_type": "code",
   "execution_count": 67,
   "id": "afde48dd-4615-40d8-8e57-c8f4fabc19fd",
   "metadata": {},
   "outputs": [
    {
     "name": "stdout",
     "output_type": "stream",
     "text": [
      "w1: 0.2, w2 = 0.1, b = -0.2\n",
      "0 0 False\n",
      "0 1 False\n",
      "1 0 False\n",
      "1 1 True\n"
     ]
    }
   ],
   "source": [
    "class Perceptron:\n",
    "    def __init__(self):\n",
    "        self.w1 = self.w2 = self.b = 0\n",
    "\n",
    "    def activation(self, x1,x2):\n",
    "        return self.w1 * x1 + self.w2 * x2 + self.b > 0\n",
    "\n",
    "    def learn(self,X,y,eta,epochs):\n",
    "        for _ in range(epochs):\n",
    "            for x, t in zip(X,y):\n",
    "                self.hebb(x,t,eta)\n",
    "\n",
    "    def hebb(self, x, t, eta):\n",
    "        x1,x2 = x\n",
    "        d = t - self.activation(x1,x2)\n",
    "        self.w1 += eta * d * x1\n",
    "        self.w2 += eta * d * x2\n",
    "        self.b += d * eta\n",
    "\n",
    "    def __str__(self):\n",
    "        return \"w1: {0}, w2 = {1}, b = {2}\".format(self.w1 ,self.w2 ,self.b)        \n",
    "\n",
    "\n",
    "\n",
    "X = [[x,y] for x in [0,1] for y in [0,1]]\n",
    "y = [0,0,0,1]\n",
    "\n",
    "p = Perceptron()\n",
    "p.learn(X,y,0.1,20)\n",
    "print(p)\n",
    "\n",
    "for x in X:\n",
    "    x1,x2 = x\n",
    "    print (x1,x2, p.activation(x1,x2))\n"
   ]
  },
  {
   "cell_type": "code",
   "execution_count": 63,
   "id": "97dcbc7f-8791-4eb6-b854-ad8a1f9962b8",
   "metadata": {},
   "outputs": [
    {
     "name": "stdout",
     "output_type": "stream",
     "text": [
      "w1: 0, w2 = 0, b = 0\n"
     ]
    }
   ],
   "source": []
  },
  {
   "cell_type": "code",
   "execution_count": 24,
   "id": "2a7a57c7-096e-4032-b3b6-8508af164785",
   "metadata": {},
   "outputs": [],
   "source": []
  },
  {
   "cell_type": "code",
   "execution_count": 60,
   "id": "2370468f-d27e-4d68-a2d3-3561bebf0648",
   "metadata": {},
   "outputs": [
    {
     "name": "stdout",
     "output_type": "stream",
     "text": [
      "w1: 8.000000000000004, w2 = 7.900000000000005, b = 13.799999999999981\n"
     ]
    }
   ],
   "source": []
  },
  {
   "cell_type": "code",
   "execution_count": 64,
   "id": "fbf89793-400d-4e98-bcb7-a9742a334440",
   "metadata": {},
   "outputs": [
    {
     "name": "stdout",
     "output_type": "stream",
     "text": [
      "0 0 False\n",
      "0 1 False\n",
      "1 0 False\n",
      "1 1 False\n"
     ]
    }
   ],
   "source": []
  },
  {
   "cell_type": "code",
   "execution_count": null,
   "id": "cfa2eebe-6cb5-445e-b9b2-ed2d6f4919dc",
   "metadata": {},
   "outputs": [],
   "source": []
  }
 ],
 "metadata": {
  "kernelspec": {
   "display_name": "Python 3 (ipykernel)",
   "language": "python",
   "name": "python3"
  },
  "language_info": {
   "codemirror_mode": {
    "name": "ipython",
    "version": 3
   },
   "file_extension": ".py",
   "mimetype": "text/x-python",
   "name": "python",
   "nbconvert_exporter": "python",
   "pygments_lexer": "ipython3",
   "version": "3.10.13"
  }
 },
 "nbformat": 4,
 "nbformat_minor": 5
}
