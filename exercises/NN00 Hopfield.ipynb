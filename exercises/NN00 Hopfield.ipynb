{
 "cells": [
  {
   "cell_type": "markdown",
   "id": "bba70334-51e0-479f-89de-4584f160465c",
   "metadata": {},
   "source": [
    "# Hopfield-Netze"
   ]
  },
  {
   "cell_type": "code",
   "execution_count": 1,
   "id": "97fe50d5-7fcf-4b58-9abf-d9c72b93d1a4",
   "metadata": {},
   "outputs": [
    {
     "name": "stdout",
     "output_type": "stream",
     "text": [
      "Original Pattern 1: [ 1 -1  1 -1  1 -1  1 -1]\n",
      "Noisy Pattern 1: [-1 -1  1 -1  1  1  1 -1]\n",
      "Recalled Pattern 1: [ 1. -1.  1. -1.  1. -1.  1. -1.]\n",
      "\n",
      "Original Pattern 2: [-1  1 -1  1 -1  1 -1  1]\n",
      "Noisy Pattern 2: [ 1  1  1  1 -1  1 -1  1]\n",
      "Recalled Pattern 2: [-1.  1. -1.  1. -1.  1. -1.  1.]\n",
      "\n",
      "Original Pattern 3: [ 1  1 -1 -1  1  1 -1 -1]\n",
      "Noisy Pattern 3: [ 1 -1 -1 -1  1  1  1 -1]\n",
      "Recalled Pattern 3: [ 1. -1.  1. -1.  1. -1.  1. -1.]\n",
      "\n"
     ]
    }
   ],
   "source": [
    "import numpy as np\n",
    "\n",
    "class HopfieldNetwork:\n",
    "    def __init__(self, num_neurons):\n",
    "        self.num_neurons = num_neurons\n",
    "        self.weights = np.zeros((num_neurons, num_neurons))\n",
    "\n",
    "    def train(self, patterns):\n",
    "        for pattern in patterns:\n",
    "            self.weights += np.outer(pattern, pattern)\n",
    "        np.fill_diagonal(self.weights, 0)\n",
    "        self.weights /= len(patterns)\n",
    "\n",
    "    def recall(self, pattern, steps=5):\n",
    "        for _ in range(steps):\n",
    "            pattern = np.sign(self.weights @ pattern)\n",
    "        return pattern\n",
    "\n",
    "def create_patterns():\n",
    "    patterns = np.array([\n",
    "        [1, -1, 1, -1, 1, -1, 1, -1],\n",
    "        [-1, 1, -1, 1, -1, 1, -1, 1],\n",
    "        [1, 1, -1, -1, 1, 1, -1, -1]\n",
    "    ])\n",
    "    return patterns\n",
    "\n",
    "def add_noise(pattern, noise_level=0.1):\n",
    "    noisy_pattern = pattern.copy()\n",
    "    num_noisy_bits = int(noise_level * len(pattern))\n",
    "    flip_indices = np.random.choice(len(pattern), num_noisy_bits, replace=False)\n",
    "    noisy_pattern[flip_indices] *= -1\n",
    "    return noisy_pattern\n",
    "\n",
    "if __name__ == \"__main__\":\n",
    "    patterns = create_patterns()\n",
    "    hopfield_net = HopfieldNetwork(num_neurons=patterns.shape[1])\n",
    "    hopfield_net.train(patterns)\n",
    "\n",
    "    for i, pattern in enumerate(patterns):\n",
    "        noisy_pattern = add_noise(pattern, noise_level=0.3)\n",
    "        recalled_pattern = hopfield_net.recall(noisy_pattern)\n",
    "        print(f\"Original Pattern {i+1}: {pattern}\")\n",
    "        print(f\"Noisy Pattern {i+1}: {noisy_pattern}\")\n",
    "        print(f\"Recalled Pattern {i+1}: {recalled_pattern}\")\n",
    "        print()"
   ]
  },
  {
   "cell_type": "code",
   "execution_count": 2,
   "id": "e4d02261-9824-4f6b-b69d-9f23b5add36a",
   "metadata": {},
   "outputs": [
    {
     "data": {
      "image/png": "[encoded data removed]",
      "text/plain": [
       "<Figure size 1000x300 with 3 Axes>"
      ]
     },
     "metadata": {},
     "output_type": "display_data"
    },
    {
     "data": {
      "image/png": "[encoded data removed]",
      "text/plain": [
       "<Figure size 1000x300 with 3 Axes>"
      ]
     },
     "metadata": {},
     "output_type": "display_data"
    },
    {
     "data": {
      "image/png": "[encoded data removed]",
      "text/plain": [
       "<Figure size 1000x300 with 3 Axes>"
      ]
     },
     "metadata": {},
     "output_type": "display_data"
    }
   ],
   "source": [
    "import numpy as np\n",
    "import matplotlib.pyplot as plt\n",
    "\n",
    "class HopfieldNetwork2D:\n",
    "    def __init__(self, shape):\n",
    "        self.shape = shape\n",
    "        self.num_neurons = shape[0] * shape[1]\n",
    "        self.weights = np.zeros((self.num_neurons, self.num_neurons))\n",
    "\n",
    "    def train(self, patterns):\n",
    "        for pattern in patterns:\n",
    "            flat_pattern = pattern.flatten()\n",
    "            self.weights += np.outer(flat_pattern, flat_pattern)\n",
    "        np.fill_diagonal(self.weights, 0)\n",
    "        self.weights /= len(patterns)\n",
    "\n",
    "    def recall(self, pattern, steps=5):\n",
    "        flat_pattern = pattern.flatten()\n",
    "        for _ in range(steps):\n",
    "            flat_pattern = np.sign(self.weights @ flat_pattern)\n",
    "        return flat_pattern.reshape(self.shape)\n",
    "\n",
    "def create_patterns():\n",
    "    patterns = [\n",
    "        np.array([[1, -1, 1], [-1, 1, -1], [1, -1, 1]]),\n",
    "        np.array([[-1, 1, -1], [1, -1, 1], [-1, 1, -1]]),\n",
    "        np.array([[1, 1, -1], [-1, -1, 1], [1, 1, -1]])\n",
    "    ]\n",
    "    return patterns\n",
    "\n",
    "def add_noise(pattern, noise_level=0.1):\n",
    "    noisy_pattern = pattern.copy()\n",
    "    num_noisy_bits = int(noise_level * pattern.size)\n",
    "    flip_indices = np.random.choice(pattern.size, num_noisy_bits, replace=False)\n",
    "    noisy_pattern.flat[flip_indices] *= -1\n",
    "    return noisy_pattern\n",
    "\n",
    "def plot_patterns(patterns, title):\n",
    "    fig, axes = plt.subplots(1, len(patterns), figsize=(10, 3))\n",
    "    for ax, pattern in zip(axes, patterns):\n",
    "        ax.imshow(pattern, cmap='gray')\n",
    "        ax.axis('off')\n",
    "    plt.suptitle(title)\n",
    "    plt.show()\n",
    "\n",
    "if __name__ == \"__main__\":\n",
    "    patterns = create_patterns()\n",
    "    hopfield_net = HopfieldNetwork2D(shape=patterns[0].shape)\n",
    "    hopfield_net.train(patterns)\n",
    "\n",
    "    for i, pattern in enumerate(patterns):\n",
    "        noisy_pattern = add_noise(pattern, noise_level=0.3)\n",
    "        recalled_pattern = hopfield_net.recall(noisy_pattern)\n",
    "        plot_patterns([pattern, noisy_pattern, recalled_pattern], f\"Pattern {i+1}\")"
   ]
  },
  {
   "cell_type": "code",
   "execution_count": null,
   "id": "4e0e4825-2604-425b-a3e5-7c37dcf46976",
   "metadata": {},
   "outputs": [],
   "source": []
  }
 ],
 "metadata": {
  "kernelspec": {
   "display_name": "Python 3 (ipykernel)",
   "language": "python",
   "name": "python3"
  },
  "language_info": {
   "codemirror_mode": {
    "name": "ipython",
    "version": 3
   },
   "file_extension": ".py",
   "mimetype": "text/x-python",
   "name": "python",
   "nbconvert_exporter": "python",
   "pygments_lexer": "ipython3",
   "version": "3.10.13"
  }
 },
 "nbformat": 4,
 "nbformat_minor": 5
}
