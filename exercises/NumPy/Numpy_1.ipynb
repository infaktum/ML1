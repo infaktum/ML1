{
 "cells": [
  {
   "cell_type": "markdown",
   "id": "91420d36-eb95-42fe-8487-32584ef3eca9",
   "metadata": {},
   "source": [
    "# Einführung NumPy I"
   ]
  },
  {
   "cell_type": "code",
   "execution_count": 1,
   "id": "dc2b9fe3-54b3-44df-9249-661902f0aceb",
   "metadata": {},
   "outputs": [],
   "source": [
    "import numpy as np"
   ]
  },
  {
   "cell_type": "markdown",
   "id": "58a4dbdf-1805-4c46-89a3-6777bb3286fa",
   "metadata": {},
   "source": [
    "## Erzeugung von NumPy-Arrays"
   ]
  },
  {
   "cell_type": "markdown",
   "id": "a701f7fa-da90-4670-ac75-9be03d024a64",
   "metadata": {},
   "source": [
    "### Konvertierung aus Python-Strukturen"
   ]
  },
  {
   "cell_type": "code",
   "execution_count": 4,
   "id": "82106b53-6174-401f-947e-70d194e89669",
   "metadata": {},
   "outputs": [
    {
     "name": "stdout",
     "output_type": "stream",
     "text": [
      "[1 2 3 4 5] <class 'numpy.ndarray'>\n"
     ]
    }
   ],
   "source": [
    "arr1 = np.array([1,2,3,4,5])\n",
    "print(arr1, type(arr1))"
   ]
  },
  {
   "cell_type": "code",
   "execution_count": 8,
   "id": "80a28b5b-2c46-4c39-b313-cd8ae64630e1",
   "metadata": {},
   "outputs": [
    {
     "name": "stdout",
     "output_type": "stream",
     "text": [
      "[1. 3. 5. 7. 9.]\n"
     ]
    }
   ],
   "source": [
    "arr2 = np.array(range(1,10,2), dtype = float)\n",
    "print(arr2)"
   ]
  },
  {
   "cell_type": "markdown",
   "id": "2cade8d0-ed89-4a99-bbc0-e65e9cc31f14",
   "metadata": {},
   "source": [
    "### Erzeugung mit Funktionen aus NumPy"
   ]
  },
  {
   "cell_type": "markdown",
   "id": "f4445cac-8669-496d-a8a3-0d215ee7592b",
   "metadata": {},
   "source": [
    "### Low-Level-Funktion zur Erzeugung von NumPy-Arrays"
   ]
  },
  {
   "cell_type": "code",
   "execution_count": 4,
   "id": "4217e19b-12ac-42a6-8b7c-276d01069643",
   "metadata": {},
   "outputs": [
    {
     "name": "stdout",
     "output_type": "stream",
     "text": [
      "[[9.34577196e-307 1.69119873e-306]\n",
      " [9.34598246e-307 1.24611673e-306]\n",
      " [1.60218491e-306 1.11262266e-307]]\n"
     ]
    }
   ],
   "source": [
    "arr = np.ndarray(shape=(3,2), dtype=float, order='F')\n",
    "print(arr)"
   ]
  },
  {
   "cell_type": "markdown",
   "id": "f81810ca-98b6-4c8d-94f7-bd6756d2911c",
   "metadata": {},
   "source": [
    "### Bessere Komfort-Funktionen"
   ]
  },
  {
   "cell_type": "code",
   "execution_count": 5,
   "id": "9ca172cd-87d9-4b0c-986d-4452272af7dd",
   "metadata": {},
   "outputs": [
    {
     "name": "stdout",
     "output_type": "stream",
     "text": [
      "[0 0 0 0 0 0 0 0 0 0] [1. 1. 1. 1. 1. 1. 1. 1. 1. 1.]\n"
     ]
    }
   ],
   "source": [
    "zeros = np.zeros(10,dtype = int)\n",
    "ones = np.ones(10)\n",
    "\n",
    "print(zeros, ones)"
   ]
  },
  {
   "cell_type": "code",
   "execution_count": 26,
   "id": "e1dba9c6-1ebf-4742-869b-9001691562b6",
   "metadata": {},
   "outputs": [
    {
     "name": "stdout",
     "output_type": "stream",
     "text": [
      "[ 1.   2.8  4.6  6.4  8.2 10. ]\n"
     ]
    }
   ],
   "source": [
    "arr4 = np.linspace(1,10,6)\n",
    "print(arr4)"
   ]
  },
  {
   "cell_type": "code",
   "execution_count": 6,
   "id": "97e083bd-297a-4609-90ca-e93c4ad52bea",
   "metadata": {},
   "outputs": [
    {
     "name": "stdout",
     "output_type": "stream",
     "text": [
      "[2. 2. 2. 2. 2. 2. 2. 2. 2. 2.]\n"
     ]
    }
   ],
   "source": [
    "twos = 2 * np.ones(10)\n",
    "print(twos)"
   ]
  },
  {
   "cell_type": "code",
   "execution_count": 7,
   "id": "e27d6c1a-c416-450f-a57b-7bb37fcaab71",
   "metadata": {},
   "outputs": [
    {
     "name": "stdout",
     "output_type": "stream",
     "text": [
      "[6.23042070e-307 4.67296746e-307 1.69121096e-306 1.29061074e-306\n",
      " 1.10033512e+200]\n"
     ]
    }
   ],
   "source": [
    "empty = np.empty(5)\n",
    "print(empty)"
   ]
  },
  {
   "cell_type": "markdown",
   "id": "0888b7df-8465-4c08-a2cb-9ab564fa00f1",
   "metadata": {},
   "source": [
    "#### Mehrdimensionale Arrays (z.B. Matrizen)"
   ]
  },
  {
   "cell_type": "code",
   "execution_count": 29,
   "id": "1c73f186-9fa9-4301-9918-d5b905c252a0",
   "metadata": {},
   "outputs": [
    {
     "name": "stdout",
     "output_type": "stream",
     "text": [
      "[[ 1  2  3  4  5]\n",
      " [ 6  7  8  9 10]]\n"
     ]
    }
   ],
   "source": [
    "mat1 = np.arange(1,11).reshape(2,5)\n",
    "print(mat1)"
   ]
  },
  {
   "cell_type": "code",
   "execution_count": 21,
   "id": "00e2f404-5937-4c8e-906d-160033c042ef",
   "metadata": {},
   "outputs": [
    {
     "name": "stdout",
     "output_type": "stream",
     "text": [
      "[[0.19373059 0.10452415 0.41993446 0.6514726 ]\n",
      " [0.24862336 0.09821639 0.66149572 0.51281828]\n",
      " [0.20181163 0.12880779 0.76390987 0.61057195]]\n"
     ]
    }
   ],
   "source": [
    "mat1  = np.random.rand(3,4)\n",
    "print(mat1)"
   ]
  },
  {
   "cell_type": "code",
   "execution_count": null,
   "id": "a8fb06c1-64bd-4c8c-8d53-9cf7544cc2bb",
   "metadata": {},
   "outputs": [],
   "source": [
    "mat2  = np.random.rand(3,4)\n",
    "print(mat2)"
   ]
  },
  {
   "cell_type": "code",
   "execution_count": 37,
   "id": "30ae6a6f-8385-4d35-8abb-1ed139887847",
   "metadata": {},
   "outputs": [
    {
     "name": "stdout",
     "output_type": "stream",
     "text": [
      "[[6 1 7 7]\n",
      " [1 5 1 6]\n",
      " [4 9 2 7]]\n"
     ]
    }
   ],
   "source": [
    "mat3  = np.random.randint(1,10,(3,4))\n",
    "print(mat3)"
   ]
  },
  {
   "cell_type": "code",
   "execution_count": 30,
   "id": "f6e3ae04-f461-460c-a343-570df1bd393c",
   "metadata": {},
   "outputs": [
    {
     "name": "stdout",
     "output_type": "stream",
     "text": [
      "[[1. 0. 0. 0.]\n",
      " [0. 1. 0. 0.]\n",
      " [0. 0. 1. 0.]\n",
      " [0. 0. 0. 1.]]\n"
     ]
    }
   ],
   "source": [
    "id = np.eye(4)\n",
    "print(id)"
   ]
  },
  {
   "cell_type": "code",
   "execution_count": 32,
   "id": "1b114fd9-31e4-4aad-abde-0b1d3f95113d",
   "metadata": {},
   "outputs": [
    {
     "name": "stdout",
     "output_type": "stream",
     "text": [
      "[[ 5  0  0]\n",
      " [ 0  2  0]\n",
      " [ 0  0 -1]]\n"
     ]
    }
   ],
   "source": [
    "diag = np.diag([5,2,-1])\n",
    "print(diag)"
   ]
  },
  {
   "cell_type": "code",
   "execution_count": null,
   "id": "ec971a08-bb86-46a5-9f74-4fd3a37c2ec3",
   "metadata": {},
   "outputs": [],
   "source": []
  }
 ],
 "metadata": {
  "kernelspec": {
   "display_name": "Python 3 (ipykernel)",
   "language": "python",
   "name": "python3"
  },
  "language_info": {
   "codemirror_mode": {
    "name": "ipython",
    "version": 3
   },
   "file_extension": ".py",
   "mimetype": "text/x-python",
   "name": "python",
   "nbconvert_exporter": "python",
   "pygments_lexer": "ipython3",
   "version": "3.11.10"
  }
 },
 "nbformat": 4,
 "nbformat_minor": 5
}
