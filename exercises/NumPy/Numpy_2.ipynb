{
 "cells": [
  {
   "cell_type": "markdown",
   "id": "91420d36-eb95-42fe-8487-32584ef3eca9",
   "metadata": {},
   "source": [
    "# Einführung NumPy II"
   ]
  },
  {
   "cell_type": "code",
   "execution_count": 1,
   "id": "dc2b9fe3-54b3-44df-9249-661902f0aceb",
   "metadata": {},
   "outputs": [],
   "source": [
    "import numpy as np\n",
    "np.set_printoptions(precision=1,suppress=True)"
   ]
  },
  {
   "cell_type": "markdown",
   "id": "58a4dbdf-1805-4c46-89a3-6777bb3286fa",
   "metadata": {},
   "source": [
    "## Rechnen mit NumPy-Arrays"
   ]
  },
  {
   "cell_type": "markdown",
   "id": "166ee170-db99-4224-9b81-2401cd699a43",
   "metadata": {},
   "source": [
    "### Arrays als Vektoren\n",
    "\n",
    "NumPy ermöglicht Rechenoperationen auf Zahlen und Arrays. Tatsächlich lassen sich die Grundrechenarten auch auf Arrays anwenden, wenn sie verschiedene Dimension haben (wobei wir einfache Zahlen als Arrays der Dimension 0 betrachten), wenn es nur irgendwie \"passt\". Dies wird __Broadcasting__ genannt. Dabei wird der jeweilige Operand (+, -, *, /) komponentenweise angewandt:"
   ]
  },
  {
   "cell_type": "code",
   "execution_count": 22,
   "id": "f4ff44cd-ffac-4ab4-a1e4-2030b590b4c2",
   "metadata": {},
   "outputs": [
    {
     "name": "stdout",
     "output_type": "stream",
     "text": [
      "1 + [1 2 3] = [2 3 4]\n",
      "1 + [[1 2 3]\n",
      " [4 5 6]] = [[2 3 4]\n",
      " [5 6 7]]\n",
      "[1 2 3] + [1 2 3] = [2 4 6]\n",
      "[1 2 3] + [[1 2 3]\n",
      " [4 5 6]] = [[2 4 6]\n",
      " [5 7 9]]\n",
      "[[1 2 3]\n",
      " [4 5 6]] + [[1 2 3]\n",
      " [4 5 6]] = [[ 2  4  6]\n",
      " [ 8 10 12]]\n"
     ]
    }
   ],
   "source": [
    "x = 1\n",
    "a = np.array([1,2,3])\n",
    "m = np.array([[1,2,3],[4,5,6]])\n",
    "\n",
    "print(f'{x} + {a} = {x + a}')\n",
    "print(f'{x} + {m} = {x + m}')\n",
    "print(f'{a} + {a} = {a + a}')\n",
    "print(f'{a} + {m} = {a + m}')\n",
    "print(f'{m} + {m} = {m + m}')"
   ]
  },
  {
   "cell_type": "markdown",
   "id": "ba629b1b-52c2-4e68-b422-63681b13afb3",
   "metadata": {},
   "source": [
    "## Rechnen mit Vektoren und Matrizen"
   ]
  },
  {
   "cell_type": "markdown",
   "id": "268d0ab2-6daf-47c7-8b60-1ab9894e607f",
   "metadata": {},
   "source": [
    "Dadurch sind alle Rechenoperationen möglich, die für mathematische __Skalare__, __Vektoren__, __Matrizen__ oder allgemein __Tensoren__ definiert sind. Dies sind die Objekte, mit denen sich in der Mathematik die __Lineare Algebra__ beschäftigt."
   ]
  },
  {
   "cell_type": "markdown",
   "id": "937848cb-044e-4e89-a9df-1b96bb64f8c7",
   "metadata": {},
   "source": [
    "#### Summen von Vektoren\n",
    "\n",
    "Vektoren werden komponentenweise addiert:"
   ]
  },
  {
   "cell_type": "code",
   "execution_count": 2,
   "id": "82106b53-6174-401f-947e-70d194e89669",
   "metadata": {},
   "outputs": [
    {
     "name": "stdout",
     "output_type": "stream",
     "text": [
      "[ 3  0 -1] + [1 0 4] = [4 0 3]\n",
      "[ 3  0 -1] - [1 0 4] = [ 2  0 -5]\n"
     ]
    }
   ],
   "source": [
    "v1 = np.array([3,0,-1])\n",
    "v2 = np.array([1,0,4])\n",
    "print(f'{v1} + {v2} = {v1+v2}')\n",
    "print(f'{v1} - {v2} = {v1-v2}')"
   ]
  },
  {
   "cell_type": "markdown",
   "id": "ad744cde-7ad4-4c2c-82aa-8a25176aed2d",
   "metadata": {},
   "source": [
    "Stimmt die Anzahl der Komponenten nicht überein, gibt es einen Fehler beim _Broadcasting_:"
   ]
  },
  {
   "cell_type": "code",
   "execution_count": 10,
   "id": "472a2402-abe4-489c-bd04-03cb37d05220",
   "metadata": {},
   "outputs": [
    {
     "ename": "ValueError",
     "evalue": "operands could not be broadcast together with shapes (3,) (4,) ",
     "output_type": "error",
     "traceback": [
      "\u001b[1;31m---------------------------------------------------------------------------\u001b[0m",
      "\u001b[1;31mValueError\u001b[0m                                Traceback (most recent call last)",
      "Cell \u001b[1;32mIn[10], line 2\u001b[0m\n\u001b[0;32m      1\u001b[0m v3 \u001b[38;5;241m=\u001b[39m np\u001b[38;5;241m.\u001b[39marange(\u001b[38;5;241m4\u001b[39m)\n\u001b[1;32m----> 2\u001b[0m \u001b[38;5;28mprint\u001b[39m(\u001b[43mv1\u001b[49m\u001b[43m \u001b[49m\u001b[38;5;241;43m+\u001b[39;49m\u001b[43m \u001b[49m\u001b[43mv3\u001b[49m)\n",
      "\u001b[1;31mValueError\u001b[0m: operands could not be broadcast together with shapes (3,) (4,) "
     ]
    }
   ],
   "source": [
    "v3 = np.arange(4)\n",
    "print(v1 + v3)"
   ]
  },
  {
   "cell_type": "markdown",
   "id": "5f98e232-600e-4162-b98b-48a4134c5777",
   "metadata": {},
   "source": [
    "Mathematisch unsinnig, aber möglich ist folgende Addition:"
   ]
  },
  {
   "cell_type": "code",
   "execution_count": 23,
   "id": "d9579a92-250d-4776-a5d1-c6dde38c0954",
   "metadata": {},
   "outputs": [
    {
     "name": "stdout",
     "output_type": "stream",
     "text": [
      "[[ 3  1  1]\n",
      " [ 6  4  4]\n",
      " [ 9  7  7]\n",
      " [12 10 10]]\n"
     ]
    }
   ],
   "source": [
    "m = np.arange(12).reshape(4,3)\n",
    "print(v1+m)"
   ]
  },
  {
   "cell_type": "markdown",
   "id": "62a2467d-3466-4be8-ae82-743482007060",
   "metadata": {},
   "source": [
    "#### Produkte mit Zahlen (_Skalaren_)\n",
    "\n",
    "Arrays beliebiger Dimension können komponentenweise mit Zahlen multipliziert werden:"
   ]
  },
  {
   "cell_type": "code",
   "execution_count": 24,
   "id": "9ca172cd-87d9-4b0c-986d-4452272af7dd",
   "metadata": {},
   "outputs": [
    {
     "name": "stdout",
     "output_type": "stream",
     "text": [
      "[ 0  5 10 15 20 25]\n",
      "[0 0 0 0 0 0]\n",
      "[ 0 -1 -2 -3 -4 -5]\n",
      "[[ 0  5 10]\n",
      " [15 20 25]]\n"
     ]
    }
   ],
   "source": [
    "v = np.arange(6)\n",
    "m = v.reshape(2,3)\n",
    "print (5 * v)\n",
    "print(0 * v)\n",
    "print(-v)\n",
    "print(5*m)"
   ]
  },
  {
   "cell_type": "markdown",
   "id": "043e695f-855f-477c-baba-dd0bdf9886fb",
   "metadata": {},
   "source": [
    "### Multiplikation von Matrizen mit Vektoren und Matrizen\n",
    "\n",
    "Bei den mathematisch interessanten Multiplikationen zwischen Vektoren und Matrizen ist die komponentenweise Operation unsinnig. "
   ]
  },
  {
   "cell_type": "code",
   "execution_count": 25,
   "id": "019c505d-d893-438b-9811-3235be8a7ca1",
   "metadata": {},
   "outputs": [],
   "source": [
    "v1 = np.array([3,0,-1])\n",
    "v2 = np.array([1,0,4])\n",
    "m1 = np.array([[1,2,3],[1,2,3]])\n",
    "m2 = np.array([[1,2],[3,4],[5,6]])"
   ]
  },
  {
   "cell_type": "code",
   "execution_count": 26,
   "id": "d6f71962-66c5-4ea7-b952-a032de210b0a",
   "metadata": {},
   "outputs": [
    {
     "name": "stdout",
     "output_type": "stream",
     "text": [
      "Mathematisch unsinnig: [ 3  0 -1] * [1 0 4] =  [ 3  0 -4]\n",
      "Mathematisch unsinnig: [[1 2 3]\n",
      " [1 2 3]] * [1 0 4] =  [[ 1  0 12]\n",
      " [ 1  0 12]]\n"
     ]
    }
   ],
   "source": [
    "print(f'Mathematisch unsinnig: {v1} * {v2} =  {v1 * v2}')\n",
    "print(f'Mathematisch unsinnig: {m1} * {v2} =  {m1 * v2}')"
   ]
  },
  {
   "cell_type": "markdown",
   "id": "66f5c813-9048-4d6c-9f68-77c9468bd352",
   "metadata": {},
   "source": [
    "In der Mathematik macht zwischen Vektoren nur das __Skalarprodukt__ einen Sinn, bei dem zuerst komponentenweise multipliziert wird und dann alle Komponenten addiert werden. Daraus ensteht eine einfache Zahl, eben ein Skalar. Die Schreibweise ist dabei $v_1 \\cdot v_2$ mit einem Punkt zwischen den Variablen, weswegen das Skalarprodukt auch __Punkt-Produkt__ (_dot product_) genannt wird:"
   ]
  },
  {
   "cell_type": "code",
   "execution_count": 30,
   "id": "5cdc7f0a-6977-4ecc-9617-c3b724841d45",
   "metadata": {},
   "outputs": [
    {
     "name": "stdout",
     "output_type": "stream",
     "text": [
      "Skalarprodukt: [ 3  0 -1] . [1 0 4] = -1\n"
     ]
    }
   ],
   "source": [
    "print(f'Skalarprodukt: {v1} . {v2} = {np.dot(v1,v2)}')"
   ]
  },
  {
   "cell_type": "markdown",
   "id": "f523436d-5818-432a-86e6-5c4f8c6c6d7e",
   "metadata": {},
   "source": [
    "Auf ähnliche Weise werden auch Matrizen und Vektoren sowie Matrizen untereinander multipliziert:\n"
   ]
  },
  {
   "cell_type": "code",
   "execution_count": 31,
   "id": "9efcf850-1bea-4e2b-b1c2-9b5370d8b043",
   "metadata": {},
   "outputs": [
    {
     "name": "stdout",
     "output_type": "stream",
     "text": [
      "[[1 2 3]\n",
      " [1 2 3]] [ 3  0 -1] = [13 13]\n"
     ]
    }
   ],
   "source": [
    "print(f'{m1} {v1} = {np.dot(m1,v2)}')"
   ]
  },
  {
   "cell_type": "code",
   "execution_count": 9,
   "id": "3c727688-95af-4875-99b7-a95fe66e38ea",
   "metadata": {},
   "outputs": [
    {
     "name": "stdout",
     "output_type": "stream",
     "text": [
      "[[1 2 3]\n",
      " [1 2 3]] [[1 2]\n",
      " [3 4]\n",
      " [5 6]] = [[22 28]\n",
      " [22 28]]\n"
     ]
    }
   ],
   "source": [
    "print(f'{m1} {m2} = {np.dot(m1,m2)}')"
   ]
  },
  {
   "cell_type": "markdown",
   "id": "7182ff46-8bd2-4e76-b060-be1fe3b2dc74",
   "metadata": {},
   "source": [
    "Mit diesen Operationen lassen sich alle mathematischen Operationen der __Linearen Algebra__ durchfühen."
   ]
  }
 ],
 "metadata": {
  "kernelspec": {
   "display_name": "Python 3 (ipykernel)",
   "language": "python",
   "name": "python3"
  },
  "language_info": {
   "codemirror_mode": {
    "name": "ipython",
    "version": 3
   },
   "file_extension": ".py",
   "mimetype": "text/x-python",
   "name": "python",
   "nbconvert_exporter": "python",
   "pygments_lexer": "ipython3",
   "version": "3.11.10"
  }
 },
 "nbformat": 4,
 "nbformat_minor": 5
}
