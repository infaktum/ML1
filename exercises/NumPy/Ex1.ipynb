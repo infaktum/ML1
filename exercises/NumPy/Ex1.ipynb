{
 "cells": [
  {
   "cell_type": "markdown",
   "id": "ecbf6e36-e25c-4b8d-b3a4-de925c5943ee",
   "metadata": {},
   "source": [
    "# NumPy Übungen I"
   ]
  },
  {
   "cell_type": "markdown",
   "id": "2bdd5f30-dc4c-4fa5-8faa-00063b8bca1b",
   "metadata": {},
   "source": [
    "NumPy bietet zahlreiche Methoden an, die die Arbeit mit Vektoren und Matrizen vereinfachen. Dies macht diese Bibliothek in der KI-Programmierung so wichtig. "
   ]
  },
  {
   "cell_type": "markdown",
   "id": "6387befb-82a3-4368-93c7-12758d01e899",
   "metadata": {},
   "source": [
    "#### Import der NumPy-Bibliothek:"
   ]
  },
  {
   "cell_type": "markdown",
   "id": "0f37054e-5210-4a42-ae15-10cd69fb6ba5",
   "metadata": {},
   "source": [
    "Importieren Sie die NumPy-Bibliothek unter dem Alias **np** (\"Standard\")"
   ]
  },
  {
   "cell_type": "code",
   "execution_count": null,
   "id": "043e3a1e-9d38-4eb9-bb77-a4f59379cf73",
   "metadata": {},
   "outputs": [],
   "source": []
  },
  {
   "cell_type": "markdown",
   "id": "28534966-8e44-4ba2-980e-c1fdc1498f99",
   "metadata": {},
   "source": [
    "#### Erstellen von NumPy-Arrays"
   ]
  },
  {
   "cell_type": "markdown",
   "id": "208ad74a-0909-4d3f-9f82-8c0753075ad9",
   "metadata": {
    "jp-MarkdownHeadingCollapsed": true
   },
   "source": [
    "Erstellen Sie ein eindimensionales Array **a** mit den Zahlen von 1 bis 10 und zeigen Sie es an:"
   ]
  },
  {
   "cell_type": "code",
   "execution_count": null,
   "id": "6445dff1-245e-4c0b-b318-8261198ac906",
   "metadata": {},
   "outputs": [],
   "source": []
  },
  {
   "cell_type": "markdown",
   "id": "0874a2c0-f81d-4538-bba0-457e0657dbad",
   "metadata": {},
   "source": [
    "Erstellen Sie ein zweidimensionales Array (Matrix) **m** der Größe 3x3 mit den Zahlen von 1 bis 9 und zeigen Sie es an:"
   ]
  },
  {
   "cell_type": "code",
   "execution_count": null,
   "id": "bfb67aa0-b852-44d0-a9c4-48eebec71775",
   "metadata": {},
   "outputs": [],
   "source": []
  },
  {
   "cell_type": "markdown",
   "id": "f7a45431-79fc-4afa-bc35-db0b6ee6a21a",
   "metadata": {},
   "source": [
    "Erstellen Sie mit den NumPy-Funktionen **zeros** und **ones** Arrays, die jeweils 10 Nullen bzw. Einsen enthalten:"
   ]
  },
  {
   "cell_type": "code",
   "execution_count": null,
   "id": "444d0a36-b82c-47ac-8dca-a6e9984edb92",
   "metadata": {},
   "outputs": [],
   "source": []
  },
  {
   "cell_type": "markdown",
   "id": "3aaa6091-5056-493a-9b26-cf114a9a3451",
   "metadata": {},
   "source": [
    "#### Zugriff auf Array-Elemente"
   ]
  },
  {
   "cell_type": "markdown",
   "id": "d03bece2-0bf7-48a5-897e-1c05951a383b",
   "metadata": {},
   "source": [
    "Greifen Sie auf das 5. Element des Arrays **a** zu und zeigen Se es an:"
   ]
  },
  {
   "cell_type": "code",
   "execution_count": null,
   "id": "f9c56974-632d-4a17-a73a-0b2ea8304756",
   "metadata": {},
   "outputs": [],
   "source": []
  },
  {
   "cell_type": "markdown",
   "id": "413290c5-3b86-4566-94ff-75d96234d64c",
   "metadata": {},
   "source": [
    "Greifen Sie auf das Element in der 2. Zeile und 3. Spalte der Matrix m aus Aufgabe 2.2 zu und zeigen Sie es an:"
   ]
  },
  {
   "cell_type": "code",
   "execution_count": null,
   "id": "9e003910-9a79-44bc-92fe-921a7709ad6b",
   "metadata": {},
   "outputs": [],
   "source": []
  },
  {
   "cell_type": "markdown",
   "id": "8c234d4d-bb6e-4d57-ad30-cf143f3b8c67",
   "metadata": {},
   "source": [
    "Greifen Sie auf die Elemente ab dem 5. Element des Arrays **a** und zeigen Sie sie an:"
   ]
  },
  {
   "cell_type": "markdown",
   "id": "80be8d28-14d5-4d39-8216-393b7211e841",
   "metadata": {},
   "source": [
    "#### Slicing"
   ]
  },
  {
   "cell_type": "code",
   "execution_count": null,
   "id": "9c0e4607-54ac-4915-bea9-218a6ce85561",
   "metadata": {},
   "outputs": [],
   "source": []
  },
  {
   "cell_type": "markdown",
   "id": "17e56371-f798-442f-a23e-801aeb138337",
   "metadata": {},
   "source": [
    "Greifen Sie auf die Elemente mit ungeradem Index des Arrays **a** und zeigen Sie sie an:"
   ]
  },
  {
   "cell_type": "code",
   "execution_count": null,
   "id": "86dcb786-f11a-4acb-8a97-0d7a7d26a08d",
   "metadata": {},
   "outputs": [],
   "source": []
  },
  {
   "cell_type": "markdown",
   "id": "51061f18-94e9-461b-80c7-bd7a583fdee6",
   "metadata": {},
   "source": [
    "Greifen Sie auf die drei letzten Elemente  des Arrays **a** und zeigen Sie sie an:"
   ]
  },
  {
   "cell_type": "code",
   "execution_count": null,
   "id": "2830e6a5-98ef-4586-b69e-2d247877c41a",
   "metadata": {},
   "outputs": [],
   "source": []
  },
  {
   "cell_type": "raw",
   "id": "630bbb3b-44a7-4142-a309-3715facfa3ff",
   "metadata": {},
   "source": [
    "Greifen Sie auf die mittlere Spalte der Matrix **m** zu und zeigen Sie sie an:"
   ]
  },
  {
   "cell_type": "code",
   "execution_count": null,
   "id": "e6ac4609-ac38-4907-b2fa-9b9e16380b37",
   "metadata": {},
   "outputs": [],
   "source": []
  }
 ],
 "metadata": {
  "kernelspec": {
   "display_name": "Python 3 (ipykernel)",
   "language": "python",
   "name": "python3"
  },
  "language_info": {
   "codemirror_mode": {
    "name": "ipython",
    "version": 3
   },
   "file_extension": ".py",
   "mimetype": "text/x-python",
   "name": "python",
   "nbconvert_exporter": "python",
   "pygments_lexer": "ipython3",
   "version": "3.11.10"
  }
 },
 "nbformat": 4,
 "nbformat_minor": 5
}
