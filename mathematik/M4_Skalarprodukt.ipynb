{
 "cells": [
  {
   "cell_type": "markdown",
   "id": "36cfb07b-2352-4299-9e18-e3535b118054",
   "metadata": {},
   "source": [
    "# Mathematik 4: Das Skalarprodukt"
   ]
  },
  {
   "cell_type": "markdown",
   "id": "ff7f773b-b7e3-4b98-bf81-536ccbfb4dd9",
   "metadata": {},
   "source": [
    "Auf der Seite zur Linearen Algebra haben wir das Skalarprodukt als eine der möglichen Multiplikationen zweier Vektoren kennengelernt. Sie ist aber mehr als eine reine (algebraische) Operation: Durch das Skalarprodukt erhalten die Vektoren eine **geometrische Struktur**. Mit dem Skalrprodukt ist es möglich, Längen, Winkel, Abstände u.ä. auch für Vektoren zu definieren.\n",
    "\n",
    "Dies können wir uns am Beispiel der Ortsvektoren klarmachen. Sehen wir uns zunächst den einfachen Vektor $\\vec{e_x} = \\begin{pmatrix} 1 \\\\ 0 \\end{pmatrix}$ an und bilden das Skalarprodukt $\\vec{e_x} \\cdot \\vec{e_x} = 1 + 0 = 1$. Auf der Skizze ist $\\vec{e_x}$ gerade der Pfeil zur 1 auf der $x$-Ache mit der Länge 1. Dasselbe gilt für den Vektor $\\vec{e_y}$, der zur 1 auf der $y$-Achse zeigt; auch seine Länge und sein Skalarprodukt mit sich selbst ist 1. Was ist mit dem Punkt mit den Koordinaten $(1,1)$. Der Pfeil, der zu ihm zeigt, ist der Vektor $\\vec{v} \\begin{pmatrix} 1 \\\\ 1 \\end{pmatrix}$. Seine Länge kennen wir aus dem Satz des Pythagoras: Sie beträgt $\\sqrt{2}$. Wie steht es mit dem Skalarprodukt? Es ist $\\vec{v} \\cdot \\vec{v} = 1 +1 = 2$, stimmt also bis auf die Wurzel mit der Länge überein.\n",
    "\n",
    "Wir definieren (ohne weitere Erläuterung) als **Länge** oder allgemeiner als **Betrag** eines Vektors: \n",
    "\n",
    "> $$|\\vec{v}| := \\sqrt{\\vec{v} \\cdot \\vec{v}}$$\n",
    "\n",
    "Wir können nun große von kleinen Vektoren unterscheiden, was für unsere Berechnungen wichtig sein wird. Einen Vektor mit Betrag 1 nennen wir **normiert**. \n",
    "\n",
    "Jetzt, wo wir die Länge eines Vektors kennen, könnenw Wir auch Winkel zwischen Vektoren definieren. Nehmen wir die beiden Vektoren $\\vec{v} = \\begin{pmatrix} 1 \\\\ 2 \\end{pmatrix}$ und $\\vec{w} = \\begin{pmatrix} 3 \\\\ 2 \\end{pmatrix}$. Bilden wir einmal das Skalarprodukt: $ \\vec{v} \\cdot \\vec{w} = \\begin{pmatrix} 1 \\\\ 2 \\end{pmatrix} \\cdot \\begin{pmatrix} 3 \\\\ 2 \\end{pmatrix} = 3 + 4 = 7$\n",
    "\n",
    "Es ist umso größer, je größer der Betrag der einzelnen Vektoren ist. Ein Winkel ist aber unabhängig von den Längen seiner Schenkel, daher teilen wir das Ergebnis durch das Produkt der beiden Beträge der Vektoren. Diese Zahl liegt immer zwischen -1 und 1, und wir definieren den Arcuscosinus als Winkel zwischen den Vektoren:\n",
    "\n",
    "> $$ < \\vec{v} , \\vec{w} > := acos \\frac{\\vec{v} \\cdot \\vec{w}} {|\\vec{v}| |\\vec{w}|} $$\n",
    "\n",
    "Das ist eine recht holprige Definition. Machen wir uns klar, was das für unsere beiden Vektoren $\\vec{e_x} = \\begin{pmatrix} 1 \\\\ 0 \\end{pmatrix}$ und $\\vec{e_y} = \\begin{pmatrix} 0 \\\\ 1 \\end{pmatrix}$ bedeutet, die ja normiert sind. Für ihr Vektorprodukt gilt $\\vec{e_x} \\cdot \\vec{e_y} = 0 + 0 = 0$. Der Arcuscosinus von 0 ist $90^o$, d.h. die beiden Vektoren stehen senkrecht aufeinander. Solche Vektoren nennt man **orthogonal**, und man interpretiert dies häufig, dass sie \"nicht viel miteinander zu tun haben\".\n",
    "\n",
    "In der Theorie der KNN spielt aber meist nur die Länge von Vektoren eine Rolle."
   ]
  },
  {
   "cell_type": "markdown",
   "id": "67d2ecb3-35bc-4ff1-ad38-5d6f9ad63ccb",
   "metadata": {},
   "source": [
    "### Programmierbeispiele"
   ]
  },
  {
   "cell_type": "markdown",
   "id": "d3900896-3ffd-48d3-8b41-5cac2211dd3c",
   "metadata": {},
   "source": [
    "Als Datenstrukturen für Vektoren und Matrizen bieten sich Arrays  bzw. Listenpassender Diemension an. Bei dern rechenoperationen führt dies dann zu den bekannten, tw. verschachtelten For-Schleifen, etwa in Java:\n",
    "<code>\n",
    "    for(i = 0 ; i < N ; i++){\n",
    "       summe[i] = v[i] + w[i];\n",
    "    }\n",
    "</code>\n",
    "    \n",
    "Da Python Listen \"von Natur aus\" unerstützt (und auch - im Gegensatz zu Java - Überladung von Operatoren), sind viele Operationen leichter zu implementieren. Noch einfacher wird alles durch den Einsatz von NumPy."
   ]
  },
  {
   "cell_type": "markdown",
   "id": "b81e867c-6a0b-4482-a336-f94c8c5ce209",
   "metadata": {},
   "source": [
    "#### Ohne NumPy"
   ]
  },
  {
   "cell_type": "code",
   "execution_count": 1,
   "id": "ad054766-36bc-4076-ad8f-23720b1de3eb",
   "metadata": {},
   "outputs": [],
   "source": [
    "def summe(v,w):\n",
    "    return [v+w for v,w in zip(v,w)]\n",
    "\n",
    "def produkt(k,v):\n",
    "    return [k * v for v in v]\n",
    "\n",
    "from functools import reduce\n",
    "\n",
    "def skalar_produkt(v,w):\n",
    "    return reduce((lambda x, y: x + y), [v*w for v,w in zip(v,w)])\n",
    "\n",
    "def produkt_matrix(m,v):\n",
    "    return [[m*v for m,v in zip(m,v)]  ]"
   ]
  },
  {
   "cell_type": "code",
   "execution_count": 2,
   "id": "478d7039-88ad-4481-be22-2e7f7f87471d",
   "metadata": {},
   "outputs": [
    {
     "name": "stdout",
     "output_type": "stream",
     "text": [
      "v = [1, 2], \n",
      "w = [3, 4],\n",
      "M = [[1, 2], [3, 4]]\n",
      "\n",
      "v + w = [4, 6]\n",
      "k v = [3, 6]\n",
      "v . w = 11\n",
      "M v = [[[1, 2], [3, 4, 3, 4]]]\n"
     ]
    }
   ],
   "source": [
    "k = 3\n",
    "v = [1,2]\n",
    "w = [3,4]\n",
    "m = [[1,2],[3,4]]\n",
    "\n",
    "print(f'v = {v}, \\nw = {w},\\nM = {m}\\n')\n",
    "\n",
    "print(f'v + w = {summe(v,w)}')\n",
    "print(f'k v = {produkt(k,v)}')\n",
    "print(f'v . w = {skalar_produkt(v,w)}')\n",
    "print(f'M v = {produkt_matrix(m,v)}')\n"
   ]
  },
  {
   "cell_type": "markdown",
   "id": "1d0483dc-4e21-46a4-860c-e1b6b03d55c8",
   "metadata": {},
   "source": [
    "### Mit NumPy\n",
    "\n",
    "Mit NumPy geht alles sehr viel schöner und vor allem schneller, was man erst bei sehr großen Datenmengen merkt. NumPy rechnet intern mit anderen (\"intelligenten\") Datenstrukturen, daher müssen alle Werte zuerst in ein internes Format umgewandelt werden, das **ndarray** (\"N-dimensionales Array\"). Danach sind all unsere Operatoren bereits vorhanden. Dank Operator Overloading brauchen wir keine Funktionen zu definieren, und numpy weiß aufgrund der Datenstrukturen zu entscheiden, dass kv das Produkt einer  Konstanten mit einem Vektor ist, und Mv das entsprechende Produkt mit einer Matrix.\n"
   ]
  },
  {
   "cell_type": "code",
   "execution_count": 7,
   "id": "fb6606f2-1717-4873-a277-1580ac6ccdc0",
   "metadata": {},
   "outputs": [],
   "source": [
    "import numpy as np"
   ]
  },
  {
   "cell_type": "code",
   "execution_count": 8,
   "id": "1972d0ea-35de-4f2c-8ce9-6daedfdc5f8d",
   "metadata": {},
   "outputs": [
    {
     "name": "stdout",
     "output_type": "stream",
     "text": [
      "v = [1 2], \n",
      "w = [3 4],\n",
      "M = [[1 2]\n",
      " [3 4]]\n",
      "\n",
      "v + w = [4 6]\n",
      "k v = [3 6]\n",
      "v . w = 11\n",
      "M v = [ 5 11]\n"
     ]
    }
   ],
   "source": [
    "k = 3\n",
    "v = np.array([1,2])\n",
    "w = np.array([3,4])\n",
    "m = np.array([[1,2],[3,4]])\n",
    "\n",
    "\n",
    "print(f'v = {v}, \\nw = {w},\\nM = {m}\\n')\n",
    "\n",
    "print(f'v + w = {v+w}')\n",
    "print(f'k v = {k*v}')\n",
    "print(f'v . w = {v @ w}')\n",
    "print(f'M v = {m @ v}')"
   ]
  },
  {
   "cell_type": "markdown",
   "id": "37435739-d308-4076-86c5-cf927c938732",
   "metadata": {},
   "source": [
    "Mit NumPy werden viele Aufgaben kinderleicht, und der Code ist wirklich einfach zu verstehen.\n",
    "\n",
    "Aber **Achtung**: Zu den einzelnen Operatoren gibt es auch andere Implementierungen, etwa **np.dot** für das Skalarprodukt, die deutlich schneller sind als die Operationen in der \"einfachen\" Schreibweise. Wir werden sie auch an passenden Stellen bevorzugt einsetzen."
   ]
  }
 ],
 "metadata": {
  "kernelspec": {
   "display_name": "Python 3 (ipykernel)",
   "language": "python",
   "name": "python3"
  },
  "language_info": {
   "codemirror_mode": {
    "name": "ipython",
    "version": 3
   },
   "file_extension": ".py",
   "mimetype": "text/x-python",
   "name": "python",
   "nbconvert_exporter": "python",
   "pygments_lexer": "ipython3",
   "version": "3.12.11"
  }
 },
 "nbformat": 4,
 "nbformat_minor": 5
}
