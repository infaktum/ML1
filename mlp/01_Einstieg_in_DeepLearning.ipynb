{
 "cells": [
  {
   "cell_type": "markdown",
   "id": "e34854f6-063e-468e-b516-47c2b9adb202",
   "metadata": {},
   "source": [
    "# Der Einstieg: Erkennung handgeschriebener Ziffern"
   ]
  },
  {
   "cell_type": "markdown",
   "id": "68af4982-2010-41ed-8a63-004e53902ff8",
   "metadata": {},
   "source": [
    "Um einen Eindruck von der Leistungsfähigkeit Neuronaler Netze zu bekommen, beginnen wir mit einem konkreten Beispiel, das sich mit \"herkömmlicher\" Programmierung, also der Implementierung eines Algorithmus, nur sehr schwer lösen lässt.\n",
    "\n",
    "Wir nehmen ein schon klassisches Beispiel, nämlich die Erkennung von handgeschriebenen Ziffern. Hiermit ist die automatische Verarbeitung vieler Vorgänge möglich, etwa die Auswertung von Formularen oder Sortierungsarbeiten, etwa bei Postleitzahlen. Für diese Aufgabe gibt es heute bereits hervorragende lösungen, und es ist etwa nicht mehr unbedingt notwendig, dass jede Ziffer in ein eigenes Kästchen geschrieben werden muss, wie dies früher der Fall war. Es ist aber als Lehrbeispiel hervorragend geeignet, und lässt sich mit den heutigen Möglichkeiten auf einfachen Rechnern lösen. \n",
    "\n",
    "Wir beschreiben zunächst das Problem und lösen es dann mit einer weit verbreiteten freien Software-Bibliothek. Danach werden wir Schritt für Schritt die Prinzipien hinter der Lösung vostellen und das Verfahren (ein Neuronales Nezwerk) selbst mit einfachsten Mitteln implementieren."
   ]
  },
  {
   "cell_type": "markdown",
   "id": "2a891078-ad50-4877-b3b5-7538e9d4df90",
   "metadata": {},
   "source": [
    "## Das konkrete Problem\n",
    "\n",
    "Wor wollen eine Software erstellen, die eingescannte handgeschriebene Ziffern erkennen kann, etwa von einem Formular. Zur Vereinfachung müssen die Ziffern innerhalb kleiner quadratischer Kästchen geschrieben werden. Der Scanner kann diese Kästchen ausblenden, so dass nur die etwa gleich großen Ziffern in einem vorgegebenen Raster übrigbleiben. Die Ziffern haben dann alle dieselbe Größe und Orientierung.\n",
    "\n",
    "### Musterdaten\n",
    "\n",
    "Wir verwenden als Muster Beispieldaten aus der Software-Bibliothek `Scikit-learn`. Dies ist eine quelloffene und freie Python-Bibliothek, die sich wie die meisten Pakete über den Installer __pip__ mittels \n",
    "\n",
    "__pip install scikit-learn__\n",
    "\n",
    "installieren lässt.\n",
    "\n",
    "`Scikit-learn` enthält nicht nur zahlreiche Implementierungen gängiger KI-Verfahren, sondern zu Übungs- und Demontrationszwecken auch Testdaten sowie Funktionen zur Erzeugung von Testdaten.\n",
    "\n",
    "Wir importieren jetzt die Beispiel-Daten. Sie liegen in der spezielllen Form eines `Bunch` vor."
   ]
  },
  {
   "cell_type": "code",
   "execution_count": 1,
   "id": "8279559c-4cbb-4677-9520-e047ad281760",
   "metadata": {},
   "outputs": [
    {
     "name": "stdout",
     "output_type": "stream",
     "text": [
      ".. _digits_dataset:\n",
      "\n",
      "Optical recognition of handwritten digits dataset\n",
      "--------------------------------------------------\n",
      "\n",
      "**Data Set Characteristics:**\n",
      "\n",
      "    :Number of Instances: 1797\n",
      "    :Number of Attributes: 64\n",
      "    :Attribute Information: 8x8 image of integer pixels in the range 0..16.\n",
      "    :Missing Attribute Values: None\n",
      "    :Creator: E. Alpaydin (alpaydin '@' boun.edu.tr)\n",
      "    :Date: July; 1998\n",
      "\n",
      "This is a copy of the test set of the UCI ML hand-written digits datasets\n",
      "https://archive.ics.uci.edu/ml/datasets/Optical+Recognition+of+Handwritten+Digits\n",
      "\n",
      "The data set contains images of hand-written digits: 10 classes where\n",
      "each class refers to a digit.\n",
      "\n",
      "Preprocessing programs made available by NIST were used to extract\n",
      "normalized bitmaps of handwritten digits from a preprinted form. From a\n",
      "total of 43 people, 30 contributed to the training set and different 13\n",
      "to the test set. 32x32 bitmaps are divided into nonoverlapping blocks of\n",
      "4x4 and the number of on pixels are counted in each block. This generates\n",
      "an input matrix of 8x8 where each element is an integer in the range\n",
      "0..16. This reduces dimensionality and gives invariance to small\n",
      "distortions.\n",
      "\n",
      "For info on NIST preprocessing routines, see M. D. Garris, J. L. Blue, G.\n",
      "T. Candela, D. L. Dimmick, J. Geist, P. J. Grother, S. A. Janet, and C.\n",
      "L. Wilson, NIST Form-Based Handprint Recognition System, NISTIR 5469,\n",
      "1994.\n",
      "\n",
      ".. topic:: References\n",
      "\n",
      "  - C. Kaynak (1995) Methods of Combining Multiple Classifiers and Their\n",
      "    Applications to Handwritten Digit Recognition, MSc Thesis, Institute of\n",
      "    Graduate Studies in Science and Engineering, Bogazici University.\n",
      "  - E. Alpaydin, C. Kaynak (1998) Cascading Classifiers, Kybernetika.\n",
      "  - Ken Tang and Ponnuthurai N. Suganthan and Xi Yao and A. Kai Qin.\n",
      "    Linear dimensionalityreduction using relevance weighted LDA. School of\n",
      "    Electrical and Electronic Engineering Nanyang Technological University.\n",
      "    2005.\n",
      "  - Claudio Gentile. A New Approximate Maximal Margin Classification\n",
      "    Algorithm. NIPS. 2000.\n",
      "\n"
     ]
    }
   ],
   "source": [
    "from sklearn.datasets import load_digits\n",
    "\n",
    "digits = load_digits()\n",
    "\n",
    "print(digits.DESCR)"
   ]
  },
  {
   "cell_type": "markdown",
   "id": "8d9870b9-a776-44e0-bf6e-c05b8f4a7365",
   "metadata": {},
   "source": [
    "Die Struktur __digits__ enthält verschiedene Arten von Datensätzen, die wir einfach herauszeiehen können:"
   ]
  },
  {
   "cell_type": "code",
   "execution_count": 2,
   "id": "44c6e9f4-c4f7-4619-a518-a6a9841b198d",
   "metadata": {},
   "outputs": [],
   "source": [
    "X, y, images = digits.data, digits.target, digits.images"
   ]
  },
  {
   "cell_type": "markdown",
   "id": "fe202f28-e6d0-4a95-bee3-30d2b72bc3e7",
   "metadata": {},
   "source": [
    "* __X__ enthält die Rohdaten der Bilder, bestehend aus je 64 Werten zwischen 0 und 255 (Die Grauwerte der 8x8-Bitmaps)\n",
    "* __y__ enthält zu jedem Datensatz aus X den entsprechenden Wert der abgebildeten Ziffer, also eine Zahl von 0 bis 9\n",
    "* __images__ enthält dieselben Daten wie X, allerdings als 8x8-Pixel-Struktur zur grafischen Darstellungen der Ziffern\n",
    "\n",
    "Die Funktion liefert etwa 1.800 Datensätze. Wir sehen uns die ersten Ziffern einmal an:"
   ]
  },
  {
   "cell_type": "code",
   "execution_count": 3,
   "id": "16dcb374-e28c-46c0-93c6-d55d762a325c",
   "metadata": {},
   "outputs": [
    {
     "name": "stdout",
     "output_type": "stream",
     "text": [
      "Anzahl Datensätze : 1797\n",
      "y: [0 1 2 3 4 5 6 7 8 9 0 1 2 3 4 5 6 7 8 9 0 1 2 3 4 5 6 7 8 9 0 9]\n"
     ]
    },
    {
     "data": {
      "image/png": "[encoded data removed]",
      "text/plain": [
       "<Figure size 640x480 with 32 Axes>"
      ]
     },
     "metadata": {},
     "output_type": "display_data"
    }
   ],
   "source": [
    "from dl1 import gallery\n",
    "\n",
    "print(f\"Anzahl Datensätze : {len(X)}\")\n",
    "rows, cols = 4, 8\n",
    "gallery(images,rows, cols,cmap='Blues') \n",
    "print(f\"y: {y[:rows * cols]}\")"
   ]
  },
  {
   "cell_type": "markdown",
   "id": "6c8d43a5-8c68-4325-bb88-f3752cb4c9c3",
   "metadata": {},
   "source": [
    "Die Variable __X__ enthält die Rohdaten dieser Bilder als Grauwerte zwischen 0 und 255. Die einzelnen Bilder sind 8 Pixel breit und 8 Pixel hoch, enthalten also je 64 Werte. Unsere Software soll in der Lage sein, bei Eingabe eines Arrays aus 64 Werten zwischen 0 und 255 zu entscheiden, welche Ziffer es darstellen soll."
   ]
  },
  {
   "cell_type": "markdown",
   "id": "0c17d083-b681-4540-85fb-ab3f031e83d4",
   "metadata": {},
   "source": [
    "### Mustererkennung und Klassifizierung\n",
    "\n",
    "Die Erkennung handgeschriebener Ziffern ist ein klassisches Problem in der Künstlichen Intelligenz und der __Mustererkennung__. Ziel ist es, ein System zu entwickeln, das anhand eines Bildes einer handgeschriebenen Ziffer (z. B. \"7\") die entsprechende Zahl (in diesem Fall \"7\") korrekt identifiziert. Dabei ist klar, dass es zahlreiche Probleme zu beachten gilt:\n",
    "\n",
    "* Variabilität der Handschrift: Menschen schreiben Ziffern unterschiedlich. Die Formen, Größen, Neigungen und Strichstärken variieren stark, je nach Person, Schreibstil und Kontext.\n",
    "* Rauschen und Störungen: Handgeschriebene Ziffern können durch ungleichmäßigen Untergrund, Flecken oder Unsauberkeiten im Schreibprozess beeinträchtigt sein.\n",
    "* Unterschiedliche Kontexte: Manche Ziffern können schwer zu unterscheiden sein (z. B. \"1\" und \"7\" oder \"0\" und \"6\"), abhängig von ihrer Darstellung.\n",
    "\n",
    "### \"Normale\" Programmierung\n",
    "\n",
    "Normale (deterministische) Programmierung basiert auf fest definierten Regeln und Entscheidungsbäumen. Bei der Erkennung handgeschriebener Ziffern ist es schwierig, solche Regeln zu formulieren, unter anderem aus folgenden Gründen:\n",
    "\n",
    "* Zu viele mögliche Variationen: Es ist nahezu unmöglich, alle möglichen Variationen von \"2\" oder \"8\" als Regeln in Code zu schreiben.\n",
    "* Fehlende Eindeutigkeit: Manche Ziffern sind in bestimmten Schreibstilen schwer voneinander zu unterscheiden. Ein Regelwerk müsste sehr komplex sein, um diese Unterscheidung zu treffen.\n",
    "* Unklare Grenzen: Oft sind Übergänge zwischen ähnlichen Ziffern (wie \"4\" und \"9\") fließend. Eine programmatische Beschreibung dieser Graubereiche wäre extrem aufwendig.\n",
    "* Anpassung an neue Daten: Handgeschriebene Ziffern variieren je nach Kultur oder Zeit, sodass neue Regeln ständig hinzugefügt werden müssten.\n",
    "\n",
    "__Aufgabe__: Überlegen Sie einmal 5 Minuten lang, wie Sie diese Aufgabe mit normaler Programmierung angehen würden. Haben Sie Ideen, wie Sie dem Computer _erklären_ können, eine 2 von einer 5 zu unterscheiden? Wie hoch würden Sie den Aufwand schätzen, einen Algorithmus zu entwickeln und zu implementieren?\n",
    "\n",
    "### Lösung mit Hilfe von Deep Learning\n",
    "\n",
    "Mit Methoden der KI, insbesondere mit neuronalen Netzen, können Systeme trainiert werden, solche Muster zu erkennen, ohne dass explizite Regeln programmiert werden müssen. Dazu wird ein Modell anhand vieler Beispiele trainiert (z. B. mit einem Datensatz wie __MNIST__, der Zehntausende handgeschriebene Ziffern enthält). Das System lernt dabei:\n",
    "\n",
    "* Merkmale und Muster zu erkennen: Ein neuronales Netz kann eigenständig lernen, dass eine \"7\" oft aus einer horizontalen und einer diagonalen Linie besteht.\n",
    "* Rauschen und Variabilität zu tolerieren: Durch das Training auf vielen verschiedenen Beispielen wird das Modell robust gegenüber Abweichungen.\n",
    "* Automatische Anpassung: KI-Modelle können an neue Daten angepasst und mit zusätzlichen Beispielen weitertrainiert werden.\n",
    "Diese Fähigkeiten machen KI wesentlich effektiver bei der Lösung dieses Problems als normale Programmierung.\n",
    "\n",
    "Wir werden die Aufgabe nun mit einer Standard-Bibliothek der KI-Entwicklung unter Python lösen."
   ]
  },
  {
   "cell_type": "markdown",
   "id": "bc875c6b-c29b-438c-bddb-077605a86d1e",
   "metadata": {},
   "source": [
    "## Die KI-Bibliothek Scientific Toolkit for Machine Learning\n",
    "\n",
    "Ein weit verbereitetes Software-Paket für KI in Python ist scikit-learn, das _Scientific Toolkit for Machine Learning_. Es stellt einfach zu nutzende Funktionen für maschinelles Lernen bereit, und beruht auf den bekannten, grundlegenden Bibliotheken __NumPy__, __SciPy__ und __Matplotlib__. Die Bibliothek wurde 2010 veröffentlicht, wird von einer aktiven Community gepflegt und ist zu einem Standardwerkzeug in der Data-Science-Welt geworden. Sie ist ein hervorragendes Werkzeug für Einsteiger und erfahrene Entwickler gleichermaßen."
   ]
  },
  {
   "cell_type": "markdown",
   "id": "a2ca534e-5323-41d9-976f-7006f0e5d8bc",
   "metadata": {},
   "source": [
    "## Das Multi-Layered Perceptron"
   ]
  },
  {
   "cell_type": "markdown",
   "id": "dd259b86-8aea-49cd-8a22-34dcd1821106",
   "metadata": {},
   "source": [
    "Eins der wichtigsten Werkzeuge in der KI ist das __Multi-Layered Perceptron__ (MLP), das bereits seit Jahrzehnten verwendet wird. In diesem Kursus werden wir es selbst implementieren und seine Wirkungsweise genau untersuchen. Hier Jetztt verwenden wir einfach die Implementierung aus scikit-learn:"
   ]
  },
  {
   "cell_type": "code",
   "execution_count": 4,
   "id": "ed690fc8-89a6-40df-a88e-7691dfdcadf1",
   "metadata": {},
   "outputs": [],
   "source": [
    "from sklearn.neural_network import MLPClassifier\n",
    "mlpc = MLPClassifier(max_iter=1000)"
   ]
  },
  {
   "cell_type": "markdown",
   "id": "ed133245-2bfd-4b7a-9c39-ae90343e9849",
   "metadata": {},
   "source": [
    "Hiermit haben wir eine Instanz eines MLPC erzeugt - das 'C' steht für _Classifier_. Die innere Struktur kennen wir noch nicht, aber das ist für die Verwendung auch gar nicht nötig. Wir übergeben nun die Rohdaten und die Labels unseres Handschriften-Datensatzes an das MLP, das eigenständig lernen soll, die entsprechenden Muster zu erkennen. \n",
    "\n",
    "Dazu zerlegen wir die vorhandenen Bilddaten in zwei Teile. Wir verwenden zwei Drittel der Daten, um das MLPC zu _trainieren_. Ein Drittel verwenden wir dann, um das Perzeptron hinterher zu testen: Kann es mit dem Erlernten auch Ziffern erkennen, die es noch nicht \"gesehen\" hat?"
   ]
  },
  {
   "cell_type": "code",
   "execution_count": 5,
   "id": "2302c61e-f3af-4040-9cf9-807a60b34941",
   "metadata": {},
   "outputs": [
    {
     "data": {
      "text/html": [
       "<style>#sk-container-id-1 {color: black;}#sk-container-id-1 pre{padding: 0;}#sk-container-id-1 div.sk-toggleable {background-color: white;}#sk-container-id-1 label.sk-toggleable__label {cursor: pointer;display: block;width: 100%;margin-bottom: 0;padding: 0.3em;box-sizing: border-box;text-align: center;}#sk-container-id-1 label.sk-toggleable__label-arrow:before {content: \"▸\";float: left;margin-right: 0.25em;color: #696969;}#sk-container-id-1 label.sk-toggleable__label-arrow:hover:before {color: black;}#sk-container-id-1 div.sk-estimator:hover label.sk-toggleable__label-arrow:before {color: black;}#sk-container-id-1 div.sk-toggleable__content {max-height: 0;max-width: 0;overflow: hidden;text-align: left;background-color: #f0f8ff;}#sk-container-id-1 div.sk-toggleable__content pre {margin: 0.2em;color: black;border-radius: 0.25em;background-color: #f0f8ff;}#sk-container-id-1 input.sk-toggleable__control:checked~div.sk-toggleable__content {max-height: 200px;max-width: 100%;overflow: auto;}#sk-container-id-1 input.sk-toggleable__control:checked~label.sk-toggleable__label-arrow:before {content: \"▾\";}#sk-container-id-1 div.sk-estimator input.sk-toggleable__control:checked~label.sk-toggleable__label {background-color: #d4ebff;}#sk-container-id-1 div.sk-label input.sk-toggleable__control:checked~label.sk-toggleable__label {background-color: #d4ebff;}#sk-container-id-1 input.sk-hidden--visually {border: 0;clip: rect(1px 1px 1px 1px);clip: rect(1px, 1px, 1px, 1px);height: 1px;margin: -1px;overflow: hidden;padding: 0;position: absolute;width: 1px;}#sk-container-id-1 div.sk-estimator {font-family: monospace;background-color: #f0f8ff;border: 1px dotted black;border-radius: 0.25em;box-sizing: border-box;margin-bottom: 0.5em;}#sk-container-id-1 div.sk-estimator:hover {background-color: #d4ebff;}#sk-container-id-1 div.sk-parallel-item::after {content: \"\";width: 100%;border-bottom: 1px solid gray;flex-grow: 1;}#sk-container-id-1 div.sk-label:hover label.sk-toggleable__label {background-color: #d4ebff;}#sk-container-id-1 div.sk-serial::before {content: \"\";position: absolute;border-left: 1px solid gray;box-sizing: border-box;top: 0;bottom: 0;left: 50%;z-index: 0;}#sk-container-id-1 div.sk-serial {display: flex;flex-direction: column;align-items: center;background-color: white;padding-right: 0.2em;padding-left: 0.2em;position: relative;}#sk-container-id-1 div.sk-item {position: relative;z-index: 1;}#sk-container-id-1 div.sk-parallel {display: flex;align-items: stretch;justify-content: center;background-color: white;position: relative;}#sk-container-id-1 div.sk-item::before, #sk-container-id-1 div.sk-parallel-item::before {content: \"\";position: absolute;border-left: 1px solid gray;box-sizing: border-box;top: 0;bottom: 0;left: 50%;z-index: -1;}#sk-container-id-1 div.sk-parallel-item {display: flex;flex-direction: column;z-index: 1;position: relative;background-color: white;}#sk-container-id-1 div.sk-parallel-item:first-child::after {align-self: flex-end;width: 50%;}#sk-container-id-1 div.sk-parallel-item:last-child::after {align-self: flex-start;width: 50%;}#sk-container-id-1 div.sk-parallel-item:only-child::after {width: 0;}#sk-container-id-1 div.sk-dashed-wrapped {border: 1px dashed gray;margin: 0 0.4em 0.5em 0.4em;box-sizing: border-box;padding-bottom: 0.4em;background-color: white;}#sk-container-id-1 div.sk-label label {font-family: monospace;font-weight: bold;display: inline-block;line-height: 1.2em;}#sk-container-id-1 div.sk-label-container {text-align: center;}#sk-container-id-1 div.sk-container {/* jupyter's `normalize.less` sets `[hidden] { display: none; }` but bootstrap.min.css set `[hidden] { display: none !important; }` so we also need the `!important` here to be able to override the default hidden behavior on the sphinx rendered scikit-learn.org. See: https://github.com/scikit-learn/scikit-learn/issues/21755 */display: inline-block !important;position: relative;}#sk-container-id-1 div.sk-text-repr-fallback {display: none;}</style><div id=\"sk-container-id-1\" class=\"sk-top-container\"><div class=\"sk-text-repr-fallback\"><pre>MLPClassifier(max_iter=1000)</pre><b>In a Jupyter environment, please rerun this cell to show the HTML representation or trust the notebook. <br />On GitHub, the HTML representation is unable to render, please try loading this page with nbviewer.org.</b></div><div class=\"sk-container\" hidden><div class=\"sk-item\"><div class=\"sk-estimator sk-toggleable\"><input class=\"sk-toggleable__control sk-hidden--visually\" id=\"sk-estimator-id-1\" type=\"checkbox\" checked><label for=\"sk-estimator-id-1\" class=\"sk-toggleable__label sk-toggleable__label-arrow\">MLPClassifier</label><div class=\"sk-toggleable__content\"><pre>MLPClassifier(max_iter=1000)</pre></div></div></div></div></div>"
      ],
      "text/plain": [
       "MLPClassifier(max_iter=1000)"
      ]
     },
     "execution_count": 5,
     "metadata": {},
     "output_type": "execute_result"
    }
   ],
   "source": [
    "sep = int(0.8 * len(X))\n",
    "X_train, X_test, y_train, y_test = X[:sep], X[sep:], y[:sep], y[sep:]\n",
    "\n",
    "mlpc.fit(X_train,y_train)"
   ]
  },
  {
   "cell_type": "markdown",
   "id": "1dd7364a-80fa-4e25-a33b-42ea9a590d36",
   "metadata": {},
   "source": [
    "### Test des MLPC"
   ]
  },
  {
   "cell_type": "markdown",
   "id": "49e25485-ac6e-4c3e-a73a-a9a4a3440e0b",
   "metadata": {},
   "source": [
    "Das war es! Das MLPC hat die übergebenen Daten verwendet, um seine internen Parameter (welche das sind, sehen wir später) anzupassen (engl. _to fit_), um handgeschriebene Ziffern zu erkennen.\n",
    "\n",
    "Probieren wir es einmal mit den ersten Ziffern der Tedaten aus. Dazu verwenden wir die Funktion __predict__ des MLPC, der wie die Testdaten __X_test__ übergeben, und vergleichen das Ergenbis mit den erwarteten Werten __y_test__:"
   ]
  },
  {
   "cell_type": "code",
   "execution_count": 6,
   "id": "32a75786-3b8b-47d3-82bd-3df4eb115d5b",
   "metadata": {},
   "outputs": [
    {
     "name": "stdout",
     "output_type": "stream",
     "text": [
      "Erwartet: \t[2 3 4 5 6 7 8 9 0 9 5 5 6 5 0 9 8 9 8 4]\n",
      "Tatsächlich:  \t[2 3 4 5 6 7 8 9 0 9 5 5 6 5 0 9 8 3 8 4]\n"
     ]
    }
   ],
   "source": [
    "n = 20\n",
    "print(f'Erwartet: \\t{y_test[:n]}\\nTatsächlich:  \\t{mlpc.predict(X_test[:n])}')"
   ]
  },
  {
   "cell_type": "markdown",
   "id": "2d819e9c-a666-4e70-aee4-c2ef4c676096",
   "metadata": {},
   "source": [
    "Die meisten Werte sind korrekt, vielleicht (mit etwa Glück) sogar alle. \n",
    "\n",
    "Mit der eingebauten Funktion __score__ lässt sich der Prozentsatz der korrekt erkannten Ziffern bestimmen:"
   ]
  },
  {
   "cell_type": "code",
   "execution_count": 7,
   "id": "72940281-611a-4392-9674-25e6c6677d77",
   "metadata": {},
   "outputs": [
    {
     "name": "stdout",
     "output_type": "stream",
     "text": [
      "Score: 92.5% \n"
     ]
    }
   ],
   "source": [
    "print(f'Score: {mlpc.score(X_test,y_test) :0.1%} ')"
   ]
  },
  {
   "cell_type": "markdown",
   "id": "562c74ef-9616-4b13-a68d-f8e6c09728c0",
   "metadata": {},
   "source": [
    "Nach wenigen Sekunden ist das Netzwerk i.d.R. in der Lage, über 90 % der Ziffern korrekt zu erkennen.\n",
    "\n",
    "Wir können uns die Ziffern, die nicht erkannt worden sind, auch ansehen. Sind sie vielleicht schwer zu erkennen\"?"
   ]
  },
  {
   "cell_type": "code",
   "execution_count": 8,
   "id": "a6a46964-e350-4cab-b890-c0ed78df1ead",
   "metadata": {},
   "outputs": [
    {
     "name": "stdout",
     "output_type": "stream",
     "text": [
      "[9 1 1 8 6 7 8 8 9 8 9 3 3 3 3 4 4 7 9 4 9 3 3 3 3 3 3]\n"
     ]
    },
    {
     "data": {
      "image/png": "[encoded data removed]",
      "text/plain": [
       "<Figure size 640x480 with 24 Axes>"
      ]
     },
     "metadata": {},
     "output_type": "display_data"
    }
   ],
   "source": [
    "idx = mlpc.predict(X) != y\n",
    "print(y[idx])\n",
    "gallery(images[idx],4,6,cmap='Reds')  "
   ]
  },
  {
   "cell_type": "code",
   "execution_count": null,
   "id": "d478b2fd-476b-4cdb-a562-79fd4153c5be",
   "metadata": {},
   "outputs": [],
   "source": []
  }
 ],
 "metadata": {
  "kernelspec": {
   "display_name": "Python 3 (ipykernel)",
   "language": "python",
   "name": "python3"
  },
  "language_info": {
   "codemirror_mode": {
    "name": "ipython",
    "version": 3
   },
   "file_extension": ".py",
   "mimetype": "text/x-python",
   "name": "python",
   "nbconvert_exporter": "python",
   "pygments_lexer": "ipython3",
   "version": "3.10.13"
  }
 },
 "nbformat": 4,
 "nbformat_minor": 5
}
