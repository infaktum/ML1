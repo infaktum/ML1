{
 "cells": [
  {
   "cell_type": "markdown",
   "metadata": {},
   "source": [
    "# Das Perzeptron"
   ]
  },
  {
   "cell_type": "markdown",
   "metadata": {},
   "source": [
    "Mit der Erkennung handgeschriebener Ziffern haben wir bereits ene erste nicht-triviale Aufgabe mit Hilfe von Verfahren der Künstlichen Intelligenz gelöst. Mit Hilfe des Software-pakets scikit-learn war die buchstäblich ein Einzeiler: Mit dem einfachen Aufruf __perceptron.fit(X,y)__ haben wir die gesamte Arbeit erledigt. Das neuronale Netz, das hinter dem Perzeptron steckt, hat in Sekundenbruchteilen seine inneren parameter an die übergebenen Trainsdaten angepasst. Danach konnten wir mit __perceptron.predict(x)__ einzelne Pixel-Grafiken übergeben und erhielten mit etwa 90 % Wahrscheinlichkeit (ermittelt durch __perception.score(X_test, y_test)__) einen korrekten Wert. Dies mag nicht viel erscheinen; 100 % wären uns natürlich lieber, aber das ist eigentlich unmöglich - selbst ein Mensch wird einen kleinen Teil der Zeichen falsch interpretieren, z. B. bei einer teilweisen undeutlichen Handschrift. Es gibt aber wesentlich bessere Verfahren, bei denen der Fehlerprozentsatz viel niedriger ist. \n",
    "\n",
    "Die Bibliothek scikit-learn enthält zahlreiche Implementierungen gängiger Verfahren der KI, deren Wirkungsweise uns beim Aufruf verborgen bleieben. Das __Perzeptron__ ist für uns augenblicklich nur eine _Black Box_. Wir werden einen Blick in diese Black Box werfen und danach mit einefachen Mitteln ein Perzeptron aufbauen, dass unsere Aufgabe der Handschrifterkennung mit etwa 95 % Trefferquote lösen wird.\n",
    "\n",
    "Wir beginnen mit der einfachsten Form des Perzeptrons, das bereits in den 1950er jahren entwickelt wurde."
   ]
  },
  {
   "cell_type": "markdown",
   "metadata": {},
   "source": [
    "## Das einschichtige Perzeptron"
   ]
  },
  {
   "cell_type": "markdown",
   "metadata": {},
   "source": [
    "Die Idee der Neuronalen Netze in der Computerwissenschaft ist schon recht alt.  Sie ist eine Vereinfachung der \n",
    "\n",
    "### Wirkungsweise natürlicher Neuronen\n",
    "\n",
    "Die Neuronen des menschlichen Gehirns sind hochgradig vernetzt; jedes der etwa 100 Milliarden Neuronen ist mit Tausenden anderer Neuronen verbunden und tauscht elektrische Signale aus. Diese Signale erreichen das Neuron über die _Synapsen_ und werden im Körper des Neurons akkumuliert; sobald ein Schwellenwert überschritten wird, entlädt sich das Neuron über sein _Axon_ und erzeugt daduch einen  elektrischen Impuls, der über die _Dendriten_, in die sich das Axon aufteilt, andere neuronen erreicht. Diese Funktionsweise ist recht einfach; trotzdem sind durch die gewaltige Zahl der Neuronen und die starke Vernetzung komplexe Operationen möglich, obwohl jedes Neuon nur über sehr beschränkte \"Rechenleistung\" verfügt.\n",
    "\n",
    "### Das einfachste Perzeptron\n",
    "\n",
    "Um die Wirkungsweise zu verstehen, untersuchen wir das einfachste Neuron, das man sich vorstellen kann. Damit gelangt man zum __Perzeptron__:\n",
    "Das einfachste Perzeptron besteht aus einem Neuron mit zwei Eingängen (Denditen/Synapsen) und einem Ausgang (Axon). Je nach Eingabesignalen soll das Neuron nun 0 oder 1 als Ausgangssignal liefern, nach folgendem Algorithmus:\n",
    "\n",
    "1. Bilde eine _gewichtete Summe_ aus den beiden Eingabesignalen\n",
    "2. Liegt die Summe über einem _Schwellenwert_, so liefere den Wert 1 als Ausgangsignal; ansonsten eine 0\n",
    "\n",
    "Nennen wir die beiden Eingabesignale $x_1$ und $x_2$. Für die Summenbildung in 1. benötigen wir als Parameter die beiden  __Gewichte__ $w_1$ und $w_2$. Die gewichtete Summe ist dann $w_1 x_1 + w_2 x_2$. Liegt diese Summe in 2. über dem __Schwellenwert__ $s$, so liefert der Ausgang den Wert 1, ansonsten die 0. Man sagt auch: *Das Neuron feuert*, sobald der Schwellenwert überschritten ist. Damit ergibt sich für den __Output__ $o$  die"
   ]
  },
  {
   "cell_type": "markdown",
   "metadata": {},
   "source": [
    "### Perzeptron-Regel\n",
    "$$\n",
    "o(x_1,x_2) = \\left\\{\n",
    "\\begin{array}{ll}\n",
    "1 & \\text{für}\\; w_1 x_1 + w_2 x_2 > s \\\\\n",
    "0 & \\text{für}\\;w_1 x_1 + w_2 x_2 \\leq s \\\\\n",
    "\\end{array}\n",
    "\\right. \n",
    "$$"
   ]
  },
  {
   "cell_type": "markdown",
   "metadata": {},
   "source": [
    "### Schwellenwert und Bias"
   ]
  },
  {
   "cell_type": "markdown",
   "metadata": {},
   "source": [
    "Statt eines Schwellenwerts kann man auch einen __Bias__ $b$ einführen, der durch $b := -s$ definiert wird. Offensichtlich ist dann\n",
    "\n",
    "$$ w_1 x_1 + w_2 x_2 > s  \\Leftrightarrow w_1 x_1 + w_2 x_2 + b > 0 $$\n",
    "\n",
    "Erst durch den Bias wird es möglich, dass das Perzeptron auch dann eine 1 liefert, wenn an beiden Eingängen eine 0 anliegt: Man arbeitet dann mit einem positiven Bias. \n",
    "\n",
    "Wir können also die Perzeptron-Regel formulieren als\n",
    "\n",
    "#### Perzeptron-Regel (mit Bias)\n",
    "\n",
    "$$\n",
    "o(x_1, x_2) = \\left\\{\n",
    "\\begin{array}{ll}\n",
    "1 & w_1 x_1 + w_2 x_2 + b> 0 \\\\\n",
    "0 & w_1 x_1 + w_2 x_2 +b\\leq 0 \\\\\n",
    "\\end{array}\n",
    "\\right. \n",
    "$$\n",
    "\n",
    "Den Bias kann man sich als immer vorhandenes Eingangssignal vorstellen (_Grundrauschen_), das durch ein fiktives drites Eingangsneuron erzeugt wird. Der Bias ist nun neben den Gewichten der dritte Parameter.\n",
    "\n"
   ]
  },
  {
   "attachments": {
    "f1aafba2-858e-4773-b29c-6b06b72eb88b.png": {
     "image/png": "[encoded data removed]"
    }
   },
   "cell_type": "markdown",
   "metadata": {},
   "source": [
    "![Perzeptron1.png](attachment:f1aafba2-858e-4773-b29c-6b06b72eb88b.png)"
   ]
  },
  {
   "cell_type": "markdown",
   "metadata": {},
   "source": [
    "### Implementierung in Python\n",
    "\n",
    "Das einfache Perzeptron besteht aus den drei Werten für die beiden Gewichte und den Bias. Implementieren wir einmal das Perzeptron als Klasse in Python:"
   ]
  },
  {
   "cell_type": "code",
   "execution_count": 1,
   "metadata": {},
   "outputs": [],
   "source": [
    "class Perzeptron:\n",
    "    def __init__(self,w1,w2,b):\n",
    "        self.w1 = w1\n",
    "        self.w2 = w2\n",
    "        self.b = b\n",
    "\n",
    "    def output(self,x1, x2):\n",
    "        return 1 if self.w1 * x1 + self.w2 * x2 + self.b > 0 else 0"
   ]
  },
  {
   "cell_type": "markdown",
   "metadata": {},
   "source": [
    "Wählen wir einmal als Eingabedaten die folgenden Werte, die die Eckpunkte eines Quadrats definieren:"
   ]
  },
  {
   "cell_type": "code",
   "execution_count": 2,
   "metadata": {},
   "outputs": [],
   "source": [
    "X = [[0,0],[0,1],[1,0],[1,1]]"
   ]
  },
  {
   "cell_type": "markdown",
   "metadata": {},
   "source": [
    "Wir erstellen eine kleine Funktion, um ein Perzeptron mit den Eingabedaten zu füttern und das Ergebnis anzeigen zu lassen:"
   ]
  },
  {
   "cell_type": "code",
   "execution_count": 3,
   "metadata": {},
   "outputs": [],
   "source": [
    "def test(perzeptron, input):\n",
    "    for inp in input:\n",
    "        print(f'{inp} -> {perzeptron.output(*inp)}')"
   ]
  },
  {
   "cell_type": "markdown",
   "metadata": {},
   "source": [
    "Wir testen nun unser Perzeptron an einem einfachen Beispiel. Dabei setzen wir als Gewichte an den beiden Eingängen jeweils eine 1 und den Bias auf 0:"
   ]
  },
  {
   "cell_type": "code",
   "execution_count": 4,
   "metadata": {},
   "outputs": [
    {
     "name": "stdout",
     "output_type": "stream",
     "text": [
      "[0, 0] -> 0\n",
      "[0, 1] -> 1\n",
      "[1, 0] -> 1\n",
      "[1, 1] -> 1\n"
     ]
    }
   ],
   "source": [
    "p = Perzeptron(1,1,0)\n",
    "test(p,X)"
   ]
  },
  {
   "cell_type": "markdown",
   "metadata": {},
   "source": [
    "Im Beispiel des Perzeptrons mit den Werten $w_1=w_2 =1, b=0$ erhalten wir als Output genau dann eine 1, wenn mindestens ein Input-Signal gleich 1 ist. Das ist genau die Definition der ODER-Verknüfung.\n",
    "\n",
    "Das Perzeptron kann als logisches Gatter gedacht werden, mit dem logische Verknüpfungen wie UND und ODER realisiert werden können. Dazu werden die entsprechenden Werte an an die Eingabe-Neuronen $x_1,x_2$ angelegt und der y-Ausgang verarbeitet. "
   ]
  },
  {
   "cell_type": "markdown",
   "metadata": {},
   "source": [
    "### Das Perzeptron lernt..."
   ]
  },
  {
   "cell_type": "markdown",
   "metadata": {},
   "source": [
    "Der Berechnungs-Algorithmus des Perzeptron ist denkbar einfach; trotzdem können wir damit Eingabewerte klassifizieren, wenn Gewichte und Bisas richtig gewählt werden. Aber wie erreichen wir es, dass das Perzeptron diese Werte selbständig bestimmt?\n",
    "\n",
    "Wir _trainieren_ das Perzeptron wie folgt: Wir legen Testeingabedaten an die Eingabeneuronen an. Entspricht die Ausgabe dem erwarteten Ergebnis, so bleiben die Gewichte und der Bias unverändert. Bei einem abweichenden Ergebnis werden die Gewichte nach oben bzw. nach unten wie folgt korrigiert:\n",
    "\n",
    "#### Der Lern-Algorithmus\n",
    "\n",
    "$$\n",
    "\\begin{equation}\n",
    "\\begin{split}\n",
    "w_{1,2} &\\rightarrow w_{1,2}, b \\rightarrow  b\\;\\;\\text{(falls Output wie erwartet)} \\\\ \n",
    "w_{1,2} &\\rightarrow  w_{1,2} + x_{1,2},  b \\rightarrow  b + \\alpha \\;\\;\\text{(falls 1 erwartet, aber Output 0)}\\\\\n",
    "w_{1,2} &\\rightarrow  w_{1,2} - x_{1,2}, b \\rightarrow  b - \\alpha \\;\\;\\text{(falls 0 erwartet, aber Output 1)}\\\\\n",
    "\\end{split}\n",
    "\\end{equation}\n",
    "$$\n",
    "\n",
    "\n",
    "Hierbei sind $x_k, y$ die Testdaten und $\\alpha \\ll 1$ eine Lernrate. Ist $o$ der Output des Perzeptrons, so lässt sich dies vereinfachen zu\n",
    "\n",
    "$$\n",
    "\\begin{equation}\n",
    "\\begin{split}\n",
    "w_{1,2} &\\rightarrow w_{1,2} +  (y - o) x_{1,2}\\\\\n",
    "b &\\rightarrow b +  (y -o )\n",
    "\\end{split}\n",
    "\\end{equation}\n",
    "$$\n",
    "da $y - o =0\\;\\; \\text{oder} \\pm 1$ ist."
   ]
  },
  {
   "cell_type": "markdown",
   "metadata": {
    "tags": []
   },
   "source": [
    "### Implementierung der Lernregel\n",
    "\n",
    "Wir erweitern unsere Klasse um die beschriebene Lernregel:"
   ]
  },
  {
   "cell_type": "code",
   "execution_count": 5,
   "metadata": {},
   "outputs": [],
   "source": [
    "class Perzeptron:\n",
    "    def __init__(self):\n",
    "        self.w1 = 0\n",
    "        self.w2 = 0\n",
    "        self.b = 0\n",
    "\n",
    "    def output(self,x1, x2):\n",
    "        return 1 if self.w1 * x1 + self.w2 * x2 + self.b > 0 else 0\n",
    "\n",
    "    def lernschritt(self, x, y):\n",
    "        x1, x2 = x\n",
    "        o = self.output(x1, x2)  \n",
    "        self.w1 += (y - o) * x1\n",
    "        self.w2 += (y - o) * x2        \n",
    "        self.b  += (y - o) * 1\n",
    "    \n",
    "    def train(self, X, Y, alpha=1, maxiter=100):\n",
    "        for _ in range(maxiter):\n",
    "            for x, y in zip(X,Y):\n",
    "                self.lernschritt(x, y)\n"
   ]
  },
  {
   "cell_type": "markdown",
   "metadata": {},
   "source": [
    "### Training und Test\n",
    "\n",
    "Wir testen unser erweitertes, selbstlernendes Perzeptron mit Hilfe einer kleinen Funktion:"
   ]
  },
  {
   "cell_type": "code",
   "execution_count": 6,
   "metadata": {},
   "outputs": [],
   "source": [
    "def train_und_test(name,X, Y):\n",
    "    p = Perzeptron()\n",
    "    p.train(X,Y)\n",
    "    print(f'{name}: ')\n",
    "    print(f'Gewichte= {p.w1}, {p.w2}, Bias = {p.b}\\n')\n",
    "    for x, y in zip(X, Y):\n",
    "        o = p.output(x[0],x[1])\n",
    "        check = '\\u2713' if o == y else '\\u21af'\n",
    "        print(f'{x[0]},{x[1]} -> {y}, Output: {o}   {check}')\n",
    "    print('\\n')"
   ]
  },
  {
   "cell_type": "markdown",
   "metadata": {
    "tags": []
   },
   "source": [
    "Als Testdaten verwenden wir wieder die vier Eckpunkte des Quadrats und wählen als Ausgabewerte die logischen Verknüfungen UND, NICHT-UND, ODER und XODER dar."
   ]
  },
  {
   "cell_type": "code",
   "execution_count": 7,
   "metadata": {},
   "outputs": [
    {
     "name": "stdout",
     "output_type": "stream",
     "text": [
      "UND-Verknüpfung: \n",
      "Gewichte= 2, 1, Bias = -2\n",
      "\n",
      "0,0 -> 0, Output: 0   ✓\n",
      "0,1 -> 0, Output: 0   ✓\n",
      "1,0 -> 0, Output: 0   ✓\n",
      "1,1 -> 1, Output: 1   ✓\n",
      "\n",
      "\n",
      "NICHT-UND-Verknüpfung: \n",
      "Gewichte= -2, -1, Bias = 3\n",
      "\n",
      "0,0 -> 1, Output: 1   ✓\n",
      "0,1 -> 1, Output: 1   ✓\n",
      "1,0 -> 1, Output: 1   ✓\n",
      "1,1 -> 0, Output: 0   ✓\n",
      "\n",
      "\n",
      "ODER-Verknüpfung: \n",
      "Gewichte= 1, 1, Bias = 0\n",
      "\n",
      "0,0 -> 0, Output: 0   ✓\n",
      "0,1 -> 1, Output: 1   ✓\n",
      "1,0 -> 1, Output: 1   ✓\n",
      "1,1 -> 1, Output: 1   ✓\n",
      "\n",
      "\n",
      "XODER-Verknüpfung: \n",
      "Gewichte= -1, 0, Bias = 1\n",
      "\n",
      "0,0 -> 0, Output: 1   ↯\n",
      "0,1 -> 1, Output: 1   ✓\n",
      "1,0 -> 1, Output: 0   ↯\n",
      "1,1 -> 0, Output: 0   ✓\n",
      "\n",
      "\n"
     ]
    }
   ],
   "source": [
    "X = [[0,0],[0,1],[1,0],[1,1]]\n",
    "\n",
    "Y_und   = [0, 0, 0, 1]\n",
    "Y_nund  = [1, 1, 1, 0]\n",
    "Y_oder  = [0, 1, 1, 1]\n",
    "Y_xoder = [0, 1, 1, 0]\n",
    "\n",
    "train_und_test('UND-Verknüpfung',X,Y_und)\n",
    "train_und_test('NICHT-UND-Verknüpfung',X,Y_nund)\n",
    "train_und_test('ODER-Verknüpfung',X,Y_oder)\n",
    "train_und_test('XODER-Verknüpfung',X,Y_xoder)"
   ]
  },
  {
   "cell_type": "markdown",
   "metadata": {},
   "source": [
    "Die ersten drei Verknüpfungen werden ´korrekt erlernt, mit den angezeigten Gewicheten und Bias. Bei der XODER-Verknüpfung gibt es jedoch kein korrektes Ergebnis. Eine Analyse zeigt, dass das einfache zweischichtige Perzeptron diese Aufgabe grundsätzlich nicht lösen kann. Wir werden dies gleich genauer untersuchen."
   ]
  },
  {
   "cell_type": "markdown",
   "metadata": {},
   "source": [
    "### Zur Geschichte des Verfahrens"
   ]
  },
  {
   "cell_type": "markdown",
   "metadata": {},
   "source": [
    "* Die Perzeptron-Regel wurde bereits Ende der 1940er Jahre aufgestellt, nach dem Vorbild natürlicher neuronaler Netze. Sie zeigt prinzipiell, dass aus einem sehr einfache Rechenverfahren - Berechnung einer gewichteten Summe  und Vergleich mit einem Schwellenwert - eine logische Schaltung aufgebaut werden kann, die durch hochgradige Vernetzung auch komplexeste Rechenvorgänge ermöglicht.\n",
    "\n",
    "* Die Lernregel wurde einige jahre später aufgestellt. Auch sie orientiert sich an biologischen Vorgängen.\n",
    "\n",
    "* Das XOR-Problem zusammen mit weiteren Schwierigkeiten nach der ersten Euphorie in den 1960er  zu einem starken Nachlassen des Interesses an der Erforschung künstlicher Intelligenz, was als erster **KI-Winter** bezeichnet wird.\n",
    "\n",
    "* Die Lösung des **XOR-Problems** liegt in der Verwendung weiterer Schichten von Neuronen und nicht-linearer Funktionen, und sie führte zur Entwicklung der heute verwendeten Künstlichen Neuronalen Netze."
   ]
  },
  {
   "cell_type": "markdown",
   "metadata": {},
   "source": [
    "# Zusammenfassung"
   ]
  },
  {
   "cell_type": "markdown",
   "metadata": {},
   "source": [
    "### Links"
   ]
  },
  {
   "cell_type": "markdown",
   "metadata": {},
   "source": [
    "[1] [Das Perzeptron bei Wikipedia](https://de.wikipedia.org/wiki/Perzeptron)"
   ]
  }
 ],
 "metadata": {
  "kernelspec": {
   "display_name": "Python 3 (ipykernel)",
   "language": "python",
   "name": "python3"
  },
  "language_info": {
   "codemirror_mode": {
    "name": "ipython",
    "version": 3
   },
   "file_extension": ".py",
   "mimetype": "text/x-python",
   "name": "python",
   "nbconvert_exporter": "python",
   "pygments_lexer": "ipython3",
   "version": "3.10.13"
  }
 },
 "nbformat": 4,
 "nbformat_minor": 4
}
