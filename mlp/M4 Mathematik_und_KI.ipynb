{
 "cells": [
  {
   "cell_type": "markdown",
   "id": "5400fb7d-f1d3-41ad-9e6a-d66ee482d84a",
   "metadata": {},
   "source": [
    "# Mathematik und Künstliche Intelligenz"
   ]
  },
  {
   "cell_type": "markdown",
   "id": "6eeb5fd1-7bb9-481c-b0c5-d2d7004ccc93",
   "metadata": {},
   "source": [
    "Wir haben jetzt viel Zeit mit mathematischen und recht abstrakten Begriffen verbracht. Was hat dies mit Künstlicher Intelligenz zu tun?\n",
    "\n",
    "Kehren wir einmal zurück zur Demonstration von scikit-learn, bei der aus Bildern handgeschriebene Zahlen die dargestellte Ziffer bestimmt werden sollte. Es handelt sich hierbei um eine Klassifizierungaufgabe: Die Daten sind Bitmaps der handgeschriebenen Zahlen, die in zehn Klassen aufzuteilen sind. Diese Klassifizierung ist für Menschen i.a. recht einfach, aber es wird auch Bilder geben, die nicht so ganz eindeutig sind, wenn etwa die Handschrift sehr schlecht oder das Bild verrauscht / verschmutzt ist. In diesem Fall ist die Identifizierung eher unsicher, und man schwankt zwischen zwei oder mehr Zahlen. \n",
    "\n",
    "Formuliert man dieses Problem um, um es mathematisch / computertechnisch anzugehen, so ist ein Verfahren / Programm gesucht, das für Bilder, die aus 100 Pixeln bestehen (wenn wir eine Auflösung von 10 x 10 Pixeln haben), eine _Wahrscheinlichkeit_ bestimmt, dass das jeweilige Bild einer der 10 Klassen \"0\",...,\"9\" angehört. Liegt die Wahrscheinlichkeit für eine Ziffer nahe bei 100 % oder ist sie zumindest sehr viel größer als für allen anderen Klassen, so entscheiden wir uns für diese Klasse. Genau geschieht, wenn wir die Funktion __predict__ aufrufen.\n",
    "\n",
    "Stellen wir uns die Bilder als Punkte in einem 100-dimensionalen Raum vor, dessen Koordinaten jeweils einem einzelnen Pixel entspricht, und die Ziffern \"0\" - \"9\" als die Koordinaten eines zehndimensionalen Raumes, so soll unser Verfahren __alle__ Punkte des 100-dimensionalen Raums auf jeweils einen Punkt im zehndimensionalen Raum abbilden. Die Wahrscheinlichkeit für eine Ziffer wird nun durch das Skalarprodukt bestimmt. Ist etwa das Skalarprodukt des Ergebnisvektor mit dem Vektor \"4\" gleich 0.9, so ist die Wahrscheinlichkeit für die 4 nun 90 %. Die Wahrscheinlichkeit / das Skalarprodukt gibt also an, _wie ähnlich_ die handgeschriebene Ziffer der 4 ist.\n",
    "\n",
    "Ist aber etwa das Ergebnis für zwei Ziffern, z.B. \"5\" und \"6\", etwa jeweils 0.4, so könnte diese handgeschriebenen Zahl genau so gut ein 5 wie eine 6 sein.\n",
    "\n",
    "Ist ein zehndimensionaler Raum nicht mehr anschaulich? Aufzeichnen kann man ihn nicht, aber er \"funktioniert\" genauso wie unser zweidimensionaler Raum, den wir uns aufzeichnen können. Die Mathematik und der Python-Code sind sogar identisch. Weitere Beispiele für abstrakte Räume sind:\n",
    "\n",
    "* Die Blutwerte einer medizinischen Untersuchung im Ursprungsraum und mögliche Diagnosen / Krankheiten im Ergebnisraum\n",
    "\n",
    "* Eine soziologische Untersuchung, die Größen wie Alter, Geschlecht, Bildungsabschluss und Einkommen erfasst. Die Werte müssen entsprechend numerisch codiert werden.\n",
    "\n",
    "\n"
   ]
  },
  {
   "cell_type": "code",
   "execution_count": null,
   "id": "0bebe25e-b0f8-4d77-b419-a8abf55aff9c",
   "metadata": {},
   "outputs": [],
   "source": []
  },
  {
   "cell_type": "markdown",
   "id": "f8b5ad51-e74f-4fd8-9249-0657c74e4460",
   "metadata": {},
   "source": [
    "## Ein Rezept für Deep Learning"
   ]
  },
  {
   "cell_type": "code",
   "execution_count": null,
   "id": "3e5dab62-2029-4e84-a137-df3a4b16bb60",
   "metadata": {},
   "outputs": [],
   "source": []
  },
  {
   "cell_type": "markdown",
   "id": "9251b2f8-8673-4243-a778-828f00e1d457",
   "metadata": {},
   "source": [
    "### Zubereitung"
   ]
  },
  {
   "cell_type": "markdown",
   "id": "4f1337ed-edd0-4cec-a3e8-3f1b3e0a1594",
   "metadata": {},
   "source": [
    "Die wichtigsten Zutaten sind:\n",
    "\n",
    "1. Daten\n",
    "2. Daten\n",
    "3. Daten\n",
    "4. Ein geeignetes Neuronales Netz, z.B. ein Multi-layered Perceptron\n",
    "\n",
    "\n",
    "\n"
   ]
  },
  {
   "cell_type": "code",
   "execution_count": null,
   "id": "b8d67485-b5f0-493f-bd74-e8fdf23a4d46",
   "metadata": {},
   "outputs": [],
   "source": []
  }
 ],
 "metadata": {
  "kernelspec": {
   "display_name": "Python 3 (ipykernel)",
   "language": "python",
   "name": "python3"
  },
  "language_info": {
   "codemirror_mode": {
    "name": "ipython",
    "version": 3
   },
   "file_extension": ".py",
   "mimetype": "text/x-python",
   "name": "python",
   "nbconvert_exporter": "python",
   "pygments_lexer": "ipython3",
   "version": "3.10.13"
  }
 },
 "nbformat": 4,
 "nbformat_minor": 5
}
