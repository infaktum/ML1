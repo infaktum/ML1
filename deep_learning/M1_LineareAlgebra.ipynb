{
 "cells": [
  {
   "cell_type": "markdown",
   "id": "9b304aff-bcc0-4491-8a07-ddd03f9ab562",
   "metadata": {},
   "source": [
    "# Lineare Algebra: Vektoren und Skalarprodukte"
   ]
  },
  {
   "cell_type": "markdown",
   "id": "3591ebf0-93bd-4a7a-b3c5-d6f34432778c",
   "metadata": {},
   "source": [
    "Die __Lineare Algebra__ ist ein Teilgebiet der Mathematik, das sich mit Vektoren, Vektorräumen und linearen Abbildungen befasst. Sie untersucht Strukturen, die durch lineare Gleichungen, Matrizen und Transformationen beschrieben werden können.\n",
    "\n",
    "Auch wenn man allzu tief nicht in diese Welt eintauchen möchte: Die kompakte und einheitliche Schreibweise sowie die eindeutigen Begriffsbildungen sind für das Verständnis nicht nur Künstlicher Neuronaler Netze hilfreich. Der praktische Umgang mit diesen Strukturen und den Operationen darauf sind der Schlüssel zum Deep Learning."
   ]
  },
  {
   "cell_type": "markdown",
   "id": "060b1231-782d-4dc5-9d66-b5a97113cae2",
   "metadata": {
    "tags": []
   },
   "source": [
    "## Skalare und Vektoren"
   ]
  },
  {
   "cell_type": "markdown",
   "id": "4943470f-2ca0-4e23-8905-d29cd5497a9b",
   "metadata": {},
   "source": [
    "Ein **Skalar** ist in der Mathematik einfach eine reelle (oder auch eine komplexe) Zahl; man verwendet den Begriff meist, um eine **skalare Größe** von einem Vektor zu unterscheiden.\n",
    "\n",
    "Ein __Vektor__ ist in der Mathematik ein eher abstraktes Ding. Für unsere Zwecke reicht es, sich einen Vektor als etwas vorzustellen, dass mehrere numerische Werte zu einem Objekt zusammenfasst. Diese Werte können etwa einen Punkt im uns umgebenden Raum bezeichnen (die Werte sind dann die Koordinaten des Punktes). Der Vektor kann aber auch in einem abstrakteren Raum liegen, der andere Eigenschaften beschreibt. Diese Daten können etwa bei einer medizinischen Untersuchung erfasst worden sein: Alter, Gewicht und Geschlecht der untersuchten Person; Blutdruck, Cholesterin- und andere Blutwerte usw. Entsprechend codiert ergeben diese Werte dann auch eine Art Vektor, der in einem ganz anderen Raum liegt.\n",
    "\n",
    "Die einzelnen Zahlen, aus den der Vektor gebildet wird, nennt man die __Komponenten__ des Vektors, und die Anzahl der Komponenten in einem Vektor wird die __Dimenson__ genannt. Die Gesamtheit aller Vektoren bildet eine Menge, die __Vektorraum__ genannt wird. Die Dimension dieser Räume kann sehr groß werden, und solche Räume entziehen sich unserer Vorstellungskraft. Mit Hilfe der Linearen Algebra können wir trotzdem mit ihnen arbeiten."
   ]
  },
  {
   "cell_type": "markdown",
   "id": "78cd69f2-af54-461b-813d-09f5aee4eaf0",
   "metadata": {},
   "source": [
    "## Grafische Darstellung\n",
    "\n",
    "Einfach in der Darstellung sind zweidimensionale Vektoren, denn diese kann man leicht auf einem Blatt Papier skizzieren. Üblicherweise weren sie durch Pfeile dargestellt, wobei die Position in x- und y-Richtung der jeweiligen Komponente entspricht. Wir zeichnen einmal die Vektoren $v_1 = (1,1)$ in blau, $v_2 = (2,-1)$ in rot und $v_3 = (-1,-0.5)$ in gelb.   Hierbei ist zu beachten, dass die beiden blauen Pfeile für denselben Vektor stehen. Wir haben $v_1$ nur zweimal an verschiedenen Positionen gezeichnet.\n",
    "\n",
    "Wie man sieht, haben in dieser Darstellung Vektoren auch eine Länge und Richtung, durch die sie ausgezeichnet sind. Zwei Vektoren mit derselben Länge und Richtung sind identisch!"
   ]
  },
  {
   "cell_type": "code",
   "execution_count": 17,
   "id": "4a51c223-f42c-4d97-9b8b-fc2ea34f9900",
   "metadata": {
    "jupyter": {
     "source_hidden": true
    }
   },
   "outputs": [],
   "source": [
    "import numpy as np\n",
    "import matplotlib.pyplot as plt"
   ]
  },
  {
   "cell_type": "code",
   "execution_count": 42,
   "id": "b60bfd46-44cb-4d0c-90cd-622f781da73f",
   "metadata": {
    "jupyter": {
     "source_hidden": true
    }
   },
   "outputs": [
    {
     "data": {
      "image/png": "[encoded data removed]",
      "text/plain": [
       "<Figure size 300x300 with 1 Axes>"
      ]
     },
     "metadata": {},
     "output_type": "display_data"
    }
   ],
   "source": [
    "def draw_vector(v, o = (0,0), c = 'black'):\n",
    "    plt.arrow(o[0],o[1],v[0],v[1], head_width= 0.1, head_length= 0.1, fc=c, ec=c) \n",
    "\n",
    "plt.figure(figsize=(3,3))\n",
    "ax = plt.subplot(111)\n",
    "ax.axis([-3,3,-3,3])\n",
    "plt.grid(True)\n",
    "v1 = (1,1)\n",
    "v2 = (2,-1)\n",
    "v3 = (-1,-0.5)\n",
    "draw_vector(v1,c='b');\n",
    "draw_vector(v1,o=(-2,1),c='b');\n",
    "draw_vector(v2,o = (-1,1),c='r');\n",
    "draw_vector(v3,o = (-1,-1),c='y');"
   ]
  },
  {
   "cell_type": "markdown",
   "id": "085a55a1-69e4-4d26-8541-08aaf4e853f0",
   "metadata": {},
   "source": [
    "## Die algebraische Struktur: Rechnen mit Vektoren"
   ]
  },
  {
   "cell_type": "markdown",
   "id": "d6203e07-5a60-4f83-b4dc-a5b75f379d02",
   "metadata": {},
   "source": [
    "Vektoren sind mehr als nur die Zusammenfassung von Zahlen zu einer Liste. Entscheidend ist, dass man mit ihnen rechnen kann:\n",
    "\n",
    "### Die Addition\n",
    "\n",
    "Zwei Ortsvektoren $\\vec{v} = \\begin{pmatrix} v_1 \\\\ v_2 \\end{pmatrix}$ und $\\vec{w} = \\begin{pmatrix} w_1 \\\\ w_2 \\end{pmatrix}$ werden addiert, indem man einfach die Komponenten addiert:  $\\vec{v} + \\vec{w} = \\begin{pmatrix} v_1 + w_1 \\\\ v_2 + w_2\\end{pmatrix}$.\n",
    "\n",
    "### Die Multiplikation mit einem Skalar\n",
    "\n",
    "Einen Ortsvektor $\\vec{v} = \\begin{pmatrix} v_1 \\\\ v_2 \\end{pmatrix}$ kann man mit einer Zahl $k$ multiplizieren, indem man jede Komponente mit dieser Zahl multipliziert: $k \\vec{v} = \\begin{pmatrix} k v_1 \\\\ k v_2 \\end{pmatrix}$\n",
    "\n",
    "\n",
    "\n",
    "\n",
    "Mir der Vektoraddition und der Multiplikation mit Skalaren erhalten Vektorräume eine albraische Struktur. Im Fall der \"Pfeile im N-dimensionalen Raum\" machrt dies sofort Sinn: Die Addition zweier Vektoren kann man durch Aneinanderhängen zweier Pfeile darstellen; die Multiplikation mit einem Skalar durch Streckung oder Stauchung (oder bei einem negativen Skalar durch Umdrehen des Pfeils). \n",
    "\n",
    "### Multiplikation zweier Vektoren(?)\n",
    "\n",
    "Man könnte nun analog zur Addition zweier Vektoren eine Multiplikation einführen, bei der die Komponenten zweier Vektoren multiplizert werden. Diese macht mathematisch aber gar keinen Sinn.\n",
    "\n",
    "Es gibt aber mehrere Möglichkeiten, eine Multiplikation zweier Vektoren zu definieren. Diese tragen aber nicht zur algebraischen Struktur der Vektorräume bei. Stattdessen wird durch das __Skalarprodukt__ eine _geometrische Struktur_ erzeugt."
   ]
  },
  {
   "cell_type": "markdown",
   "id": "37f18894-1a88-4484-86a2-ddcc1874b97d",
   "metadata": {},
   "source": [
    "## Die geometrische Struktur: Das Skalarprodukt"
   ]
  },
  {
   "cell_type": "markdown",
   "id": "36db15e5-d8be-4a61-bbde-d2d79babb06f",
   "metadata": {},
   "source": [
    "Durch das Skalarprodukt erhalten die Vektorräume eineneben der algebraischen Struktur noch eine weitere, eine geometrische Struktur, die für die KI extrem wichtig ist. Es ist für zwei Vektoren $v$ und $w$ wie folgt definiert:\n",
    "\n",
    "$$v \\cdot w := \\sum_k v_k w_k $$\n",
    "\n",
    "Es werden also zunächt die jeweilige Komponenten der Vektoren mitwinander multipliziert und danach alle Produkte aufsummiert. Das Ergebnis ist eine reelle Zahl, also ein Skalar, wodurch dieses Produkt seinen Namen hat. Mamn schreibt dieses Produkt mit einem Punkt zwischen den beiden Vektoren; daher heißt dieses Produkt auch __Punktprodukt__ (_dot product_).\n",
    "\n",
    "Seien zum Beispiel $v = \\begin{pmatrix} 1 \\\\ 2 \\end{pmatrix} $ und $w = \\begin{pmatrix} 3 \\\\ 2 \\end{pmatrix}$. Dann ist $v \\cdot w = 1*3 + 2*2 = 3 + 4 = 7$.\n",
    "\n",
    "Offenbar ist das Skalarprodukt umso größer, je größer die Komponenten der Vektoren sind. In der grafischen Darstellung sind die Pfeile entsprechend länger. Tatsächlich kann man mit dem Skalarprodukt die __Länge eines Vektors__ (such __Betrag__ genannt) definieren, und zwar durch $$|v| := \\sqrt{v \\cdot v} = \\sqrt{\\sum_k v_k^2}$$\n",
    "\n",
    "Diese Definition macht in unserem dreidimensionalen Raum Sinn und entspricht unserer Vorstellung einer Längenmessung (dies beruht letztendlich auf dem _Satz von Pythagoras_). Wir können nun Längen messen, und damit auch Entfernungen. Was ist die Entfernung (der Abstand) zweier Vektoren $v$ und $w$? Er beträgt $|v - w|$.\n",
    "\n",
    "Aber das Skalarprodukt leistet noch mehr. Man kann zeigen, dass \n",
    "$$ v \\cdot w = |v| |w| \\cos \\alpha$$\n",
    "ist, wenn $\\alpha$ der Winkel zwischen den beiden Vektoren ist. Und sind beide Vektoren __normiert__ (d.h. ist ihre Länge gleich 1), so ist\n",
    "\n",
    "$$\\alpha := \\text{acos}\\; v\\cdot w$$\n",
    "\n",
    "eine Definition für den Winkel zwischen zwei Vektoren.\n",
    "\n",
    "#### Das folgende gilt für normierte Vektoren:\n",
    "\n",
    "* Ist das Skalarprodukt zwischen zwei Vektoren gleich 1, so handelt es sich um denselben Vektor: $ v \\cdot w = 1 \\rightarrow v = w$\n",
    "\n",
    "* Ist das Skalarprodukt zwischen zwei Vektoren gleich -1, so handelt es sich um den gespiegelten Vektor: $ v \\cdot w = -1 \\rightarrow v = -w$*\n",
    "* Ist das Skalarprodukt zwischen zwei Vektoren gleich 0, so heißen die Vektoren __orthogonal__. In einem gewissen Sinn haben die Vektoren \"nichts gemeinsam\"\n",
    "* Die Größe des Skalarprodukts bestimmt in einem gewissen Sinne, \"wieviel v in w steckt\".\n"
   ]
  },
  {
   "cell_type": "markdown",
   "id": "1ddbdf18-23e8-4b27-a10a-2c22075e5615",
   "metadata": {},
   "source": [
    "Natürlich kann man das Spiel weiter treiben und nach den zweidimsionalen Matrizen Zahlenschemata mit noch mehr Dimensionen betrachten. Jenseits der Matrizen spricht man ganz allgemein von **Tensoren**. Dabei sind Skalare, Vektoren und Matrizen ebenso Tensoren, mit der Dimension 0, 1 bzw. 2. Dabei spricht man bei Tensoren eher von **Stufen** als von Dimensionen. Jenseits der Matrizen lassen sich Tensoren nicht mehr so schön hinschreiben, aber in Computerprogrammen ist es egal, wie viele Indizes man verwendet. Ein Tensor 3. Stufe ist also eine Menge an Zahlen, die strukturiert in der Form $T = (t_{ijk})$ geschrieben werden können.\n",
    "\n",
    "Tensoren werden wir in der Einführung zu KNN nicht besprechen. Sie spielen aber in der Programmierung eine wichtige Rolle, und  Googles KI-Paket heißt nach diesen Objekten **Tensorflow** (auch Facebooks Torch basiert auf Tensoren.)"
   ]
  },
  {
   "cell_type": "markdown",
   "id": "7c900451-1b7e-4507-a2b7-785bb997c92f",
   "metadata": {},
   "source": [
    "## Vektorrechnung mit Python"
   ]
  },
  {
   "cell_type": "markdown",
   "id": "b2dc8447-7800-44fa-9ad6-1ea417c9bc75",
   "metadata": {},
   "source": [
    "Alle beschriebenen Operationen lassen sich mit Schleifen programmieren. Das macht in Python aber niemand. Das Python-Paket __NumPy__ hat für _alle_ Vektoroperationen intuitiv nutzbare und optimierte Methoden. Dazu müssen aber alle Datenstrukturen (Vektoren) als Numpy-__ndarrays__ definiert werden. \"ndarray\" steht für _N-dimensionales Array_ und ist eine speicheroptimierte Datenstruktur, die normalen Listen in Python ähneln.\n",
    "\n",
    "Addition und Multiplikation sehen dann so aus:"
   ]
  },
  {
   "cell_type": "code",
   "execution_count": 2,
   "id": "fb6606f2-1717-4873-a277-1580ac6ccdc0",
   "metadata": {},
   "outputs": [],
   "source": [
    "import numpy as np"
   ]
  },
  {
   "cell_type": "code",
   "execution_count": 3,
   "id": "1972d0ea-35de-4f2c-8ce9-6daedfdc5f8d",
   "metadata": {},
   "outputs": [
    {
     "name": "stdout",
     "output_type": "stream",
     "text": [
      "v = [1 2], w = [3 4]\n",
      "v + w = [4 6]\n",
      "k x v = [3 6]\n"
     ]
    }
   ],
   "source": [
    "k = 3\n",
    "v = np.array([1,2])\n",
    "w = np.array([3,4])\n",
    "\n",
    "print(f'v = {v}, w = {w}')\n",
    "print(f'v + w = {v+w}')\n",
    "print(f'k x v = {k*v}')\n"
   ]
  },
  {
   "cell_type": "markdown",
   "id": "36c7ab6a-91cd-4c5d-9c04-233e0d3ea06e",
   "metadata": {},
   "source": [
    "Und auch das Punktprodukt ist einfach zu berechnen:"
   ]
  },
  {
   "cell_type": "code",
   "execution_count": 7,
   "id": "de1836f6-a069-48c7-a063-3f674a40bf36",
   "metadata": {},
   "outputs": [
    {
     "name": "stdout",
     "output_type": "stream",
     "text": [
      "np.dot(v,w) = 11\n",
      "v @ w = 11\n",
      "|v| = 2.2361\n",
      "v normiert = [0.4472136  0.89442719]\n"
     ]
    }
   ],
   "source": [
    "print(f'np.dot(v,w) = {np.dot(v,w)}')\n",
    "print(f'v @ w = {v @ w}')\n",
    "print(f'|v| = {np.linalg.norm(v):0.4f}')\n",
    "print(f'v normiert = {v / np.linalg.norm(v)}')"
   ]
  },
  {
   "cell_type": "code",
   "execution_count": null,
   "id": "d711f022-525f-4ff6-93a7-ec1ab27a8934",
   "metadata": {},
   "outputs": [],
   "source": []
  }
 ],
 "metadata": {
  "kernelspec": {
   "display_name": "Python 3 (ipykernel)",
   "language": "python",
   "name": "python3"
  },
  "language_info": {
   "codemirror_mode": {
    "name": "ipython",
    "version": 3
   },
   "file_extension": ".py",
   "mimetype": "text/x-python",
   "name": "python",
   "nbconvert_exporter": "python",
   "pygments_lexer": "ipython3",
   "version": "3.10.13"
  }
 },
 "nbformat": 4,
 "nbformat_minor": 5
}
