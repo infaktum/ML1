{
 "cells": [
  {
   "cell_type": "markdown",
   "id": "36b00e0d-aec7-4fd7-836b-12ac8386efa7",
   "metadata": {},
   "source": [
    "# Mittlere Fehlerquadratsumme (MSE)"
   ]
  },
  {
   "cell_type": "markdown",
   "id": "810b89d5-fad7-4bbe-8116-18f31902f133",
   "metadata": {},
   "source": [
    "Die Mean Squared Error (MSE)-Verlustfunktion ist eine der am häufigsten verwendeten Verlustfunktionen im Bereich des maschinellen Lernens und der Künstlichen Intelligenz, insbesondere für regressive Probleme (also Vorhersagen von kontinuierlichen Werten)."
   ]
  },
  {
   "cell_type": "markdown",
   "id": "efcb0457-fbb4-4023-8b34-25379ee5e65f",
   "metadata": {},
   "source": [
    "### Mathematische Definition der MSE"
   ]
  },
  {
   "cell_type": "markdown",
   "id": "d72216ad-ceb0-441e-bb2b-2783d14def0e",
   "metadata": {},
   "source": [
    "Die Mean Squared Error (MSE) misst den Durchschnitt der quadrierten Differenzen zwischen den vorhergesagten Werten $\\hat{y}_k$  und den tatsächlichen Werten $y_k$:\n",
    "\n",
    "$$ \\text{MSE}(y_k,\\hat{y}_k) := \\frac{1}{N} \\sum_{k=1}^N (y_k - \\hat{y}_k)^2$$\n",
    " \n",
    "wobei:\n",
    "\n",
    "* $y_k$: wahrer Wert (_ground truth_)\n",
    "* $\\hat{y}_k$: vorhergesagter Wert\n",
    "* $N$: Anzahl der Datenpunkte\n"
   ]
  },
  {
   "cell_type": "markdown",
   "id": "ebc356c6-3fd2-445f-b975-a96384a16e31",
   "metadata": {},
   "source": [
    "### Eigenschaften der MSE"
   ]
  },
  {
   "cell_type": "markdown",
   "id": "ffa8ea50-640d-4c1a-b011-8a25aa1ddcdb",
   "metadata": {},
   "source": [
    "* Strafung großer Fehler: Durch das Quadrieren wachsen größere Fehler überproportional, wodurch starke Abweichungen stärker bestraft werden.\n",
    "* Die MSE ist glatt und differenzierbar und eignet sich gut für Optimierung durch Gradientenabstieg.\n",
    "* Empfindlich gegenüber Ausreißern: Einzelne große Fehler beeinflussen den MSE stark, da sie quadriert werden."
   ]
  },
  {
   "cell_type": "markdown",
   "id": "0316a811-2a5c-4019-9938-07c9389a8aad",
   "metadata": {},
   "source": [
    "### Vergleich mit anderen Verlustfunktionen"
   ]
  },
  {
   "cell_type": "markdown",
   "id": "2c5a6b6c-d40d-439f-834a-c9474c282d59",
   "metadata": {},
   "source": [
    "#### Mean Absolute Error (MAE): \n",
    "\n",
    "MAE verwendet den absoulten fehler $|y_k - \\hat{y}_k|$  statt $(y_k - \\hat{y}_k)^2$ und istb weniger empfindlich gegenüber Ausreißern\n",
    "\n",
    "#### Huber Loss\n",
    "\n",
    "Diese Kombination von MAE und MSE versucht, die Nachteile der beiden Funtkionen zu minimieren"
   ]
  },
  {
   "cell_type": "markdown",
   "id": "5ad0b866-e0ce-430e-840f-dd45f2bacece",
   "metadata": {},
   "source": [
    "### Einsatz der MSE"
   ]
  },
  {
   "cell_type": "markdown",
   "id": "e5b6625f-0863-4276-9c5f-bf2da8d5ceab",
   "metadata": {},
   "source": [
    "MSE wird oft bei linearen Regressionen und neuronalen Netzen für Regression verwendet. In neuronalen Netzen wird der MSE als Kostenfunktion für das Training genutzt, z. B. bei Feedforward-Netzwerken oder Convolutional Neural Networks (CNNs) für Regressionsaufgaben."
   ]
  },
  {
   "cell_type": "markdown",
   "id": "94d70dbd-2909-43aa-b00e-89e20fad6353",
   "metadata": {},
   "source": [
    "### Links "
   ]
  },
  {
   "cell_type": "markdown",
   "id": "5baef059-a041-4b63-a392-0794655698f3",
   "metadata": {},
   "source": [
    "https://de.wikipedia.org/wiki/Mittlere_quadratische_Abweichung"
   ]
  }
 ],
 "metadata": {
  "kernelspec": {
   "display_name": "Python 3 (ipykernel)",
   "language": "python",
   "name": "python3"
  },
  "language_info": {
   "codemirror_mode": {
    "name": "ipython",
    "version": 3
   },
   "file_extension": ".py",
   "mimetype": "text/x-python",
   "name": "python",
   "nbconvert_exporter": "python",
   "pygments_lexer": "ipython3",
   "version": "3.12.11"
  }
 },
 "nbformat": 4,
 "nbformat_minor": 5
}
