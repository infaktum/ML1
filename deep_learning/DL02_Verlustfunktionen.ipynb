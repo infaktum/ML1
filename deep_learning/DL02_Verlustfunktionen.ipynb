{
 "cells": [
  {
   "cell_type": "markdown",
   "id": "b14cef94-0aed-45db-952e-d60c10ea10ff",
   "metadata": {},
   "source": [
    "# Verlustfunktionen"
   ]
  },
  {
   "cell_type": "markdown",
   "id": "58c3a953-8e1d-4b06-9946-ab2acf3c755c",
   "metadata": {},
   "source": [
    "In der Künstlichen Intelligenz  gibt es verschiedene __Verlustfunktionen__ (_Loss Functions_), die je nach Problemstellung eingesetzt werden. Sie messen, wie gut oder schlecht ein Modell ist, indem sie die Differenz zwischen den vorhergesagten und den tatsächlichen Werten berechnen."
   ]
  },
  {
   "cell_type": "markdown",
   "id": "82faee92-2552-4f5b-a75f-de76ab59c971",
   "metadata": {},
   "source": [
    "### Verlustfuntktionen für Regression (Vorhersage kontinuierlicher Werte)"
   ]
  },
  {
   "cell_type": "code",
   "execution_count": null,
   "id": "46ae804c-877b-4166-b91b-9994a80aa4e2",
   "metadata": {},
   "outputs": [],
   "source": []
  },
  {
   "cell_type": "markdown",
   "id": "8f118017-56fa-4d5b-bb1e-aa37df4aea75",
   "metadata": {},
   "source": [
    "### Verlustfuntktionen für Klassifikation (Vorhersage von Kategorien)"
   ]
  },
  {
   "cell_type": "markdown",
   "id": "7eddad3d-eb0a-401b-be7b-203ba369532e",
   "metadata": {},
   "source": [
    "### Welche Verlustfunktion für welche Aufgabe?"
   ]
  },
  {
   "cell_type": "markdown",
   "id": "0cdb9b83-ed62-45c7-bd16-0ec33cf39676",
   "metadata": {},
   "source": [
    "Problemtyp | Empfohlene Verlustfunktion\n",
    "-------- | -------- \n",
    "Regression   | Mittlere Fehlersummen\n",
    "Binäre Klassifikation   | Binäre Kreuzentropie (BCE)\n",
    "Mehrklassige Klassifikation | Kreuzentropie\n",
    "Unüberwachtes Lernen (VAEs, Bayes) |  KL-Divergenz\n",
    "Support Vector Machines (SVMs) |  \tHinge Loss\n",
    "Ähnlichkeitslernen\n",
    "(Siamese Networks, Gesichtserkennung) | \tTriplet Loss\n"
   ]
  },
  {
   "cell_type": "code",
   "execution_count": null,
   "id": "4fc848b2-da62-4da4-a869-3e44accc28db",
   "metadata": {},
   "outputs": [],
   "source": []
  }
 ],
 "metadata": {
  "kernelspec": {
   "display_name": "Python 3 (ipykernel)",
   "language": "python",
   "name": "python3"
  },
  "language_info": {
   "codemirror_mode": {
    "name": "ipython",
    "version": 3
   },
   "file_extension": ".py",
   "mimetype": "text/x-python",
   "name": "python",
   "nbconvert_exporter": "python",
   "pygments_lexer": "ipython3",
   "version": "3.12.11"
  }
 },
 "nbformat": 4,
 "nbformat_minor": 5
}
