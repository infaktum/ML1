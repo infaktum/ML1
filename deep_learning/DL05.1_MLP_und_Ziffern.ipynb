{
 "cells": [
  {
   "cell_type": "markdown",
   "id": "e912d571-398d-4bc6-ab40-2f3184f7067a",
   "metadata": {},
   "source": [
    "# Das Multi-Layered Perceptron (MLP)"
   ]
  },
  {
   "cell_type": "markdown",
   "id": "26ef8941-822c-477d-ae33-62c841057c08",
   "metadata": {},
   "source": [
    "Wir haben nun alle Zutaten zusammen, um ein eigenes MLP zu programmieren. Dies sind:\n",
    "\n",
    "* der __Perzeptron-Algorithmus__ zur Berechnung eines Ergebnisvektors aus einem Eingabevektor, der die Wahrscheinlichkeiten angibt, dass die Eingaben zu eine bestimmten Klasse gehören\n",
    "* der __Backpropagation-Algorithmus__ zur Bestimmung der Gewichte aus Trainingsdaten. Diese Gewichte gehören zu einem Minimum der __Kostenfunktion__.\n",
    "\n",
    "Bevor wir mit der Entwicklung beginnen, besorgen wir uns geeignete Testdaten."
   ]
  },
  {
   "cell_type": "markdown",
   "id": "4f835ecc-4a9c-4851-81c6-d46fae0bfcfd",
   "metadata": {},
   "source": [
    "## Die Testdaten\n",
    "\n",
    "Zum Testen unserer Entwicklung verwenden wir wieder die Daten aus unserem ersten Beispiel: die handgeschriebenen Ziffern aus den Testdaten von `Scikit-learn`:"
   ]
  },
  {
   "cell_type": "code",
   "execution_count": 1,
   "id": "0db2fb26-a262-4648-9a88-2109427a1879",
   "metadata": {},
   "outputs": [],
   "source": [
    "import numpy as np\n",
    "from sklearn.datasets import load_digits\n",
    "\n",
    "digits = load_digits()\n",
    "X, y, images = digits.data, digits.target, digits.images"
   ]
  },
  {
   "cell_type": "code",
   "execution_count": 2,
   "id": "16dad002-edf4-426b-9814-eb09f188cb97",
   "metadata": {},
   "outputs": [
    {
     "name": "stdout",
     "output_type": "stream",
     "text": [
      "Anzahl Datensätze : 1797\n"
     ]
    },
    {
     "data": {
      "image/png": "[encoded data removed]",
      "text/plain": [
       "<Figure size 640x480 with 32 Axes>"
      ]
     },
     "metadata": {},
     "output_type": "display_data"
    }
   ],
   "source": [
    "from dl1 import gallery\n",
    "\n",
    "print(f\"Anzahl Datensätze : {len(X)}\")\n",
    "rows, cols = 4, 8\n",
    "gallery(images,rows, cols,cmap='Blues')\n"
   ]
  },
  {
   "cell_type": "markdown",
   "id": "7f01a8c2-6dbc-4c92-9c51-634ac6082578",
   "metadata": {},
   "source": [
    "### Skalierung und Zerlegung der Datensätze in Trainings- und Testdaten\n",
    "\n",
    "Die Bilddaten sind __X__ bestehen aus numerischen eindimensionalen Listen mit jeweils 8 x 8 = 64 Grauwerten zwischen 0 und 255. \n",
    "\n",
    "Wir brauchen für unsere Rechnungen Werte zwischen 0 und 1. Wir skalieren die Werte auf den Bereich zwischen 0 und 1:"
   ]
  },
  {
   "cell_type": "code",
   "execution_count": 3,
   "id": "31e3f920-5fdd-4f7c-a98a-21cafdbef302",
   "metadata": {},
   "outputs": [],
   "source": [
    "X = X / 255."
   ]
  },
  {
   "cell_type": "markdown",
   "id": "0e46b5aa-afaa-41ce-8101-33f446ce5d51",
   "metadata": {},
   "source": [
    "Jetzt teilen wir die Daten in einen größeren Teil für das Training und einen kleineren Teil für die Tests auf:"
   ]
  },
  {
   "cell_type": "code",
   "execution_count": 4,
   "id": "59986ac4-6cb8-4223-97b0-21aebb3defe7",
   "metadata": {},
   "outputs": [],
   "source": [
    "train_size = int(0.8 * len(X))\n",
    "\n",
    "X_train, X_test, y_train, y_test = X[:train_size], X[train_size:], y[:train_size], y[train_size:]"
   ]
  },
  {
   "cell_type": "markdown",
   "id": "8433dca6-996f-4631-b874-d3840cbe0871",
   "metadata": {},
   "source": [
    "## Das MLP\n",
    "\n",
    "Wir schreiben zunächst einmal den Code für ein Neuronales Netz auf, dass noch keine Trainingsfunktion besitzt. Die Gewichte werden zufällig erzeugt; ansonsten ist bereits die komplette Funktionalität vorhanden, d.h. aus einem Eingabevektor wird ein Ausgabevektor erzeugt, dessen größter Wert die Ziffer bestimmt. Das ist unsere Funktion __predict__. \n",
    "\n",
    "Außerdem implementieren wir eine Funktion __score__, die bei Eingabe eines Satzes von Testdaten den Anteil der richtigen Treffer berechnet. Das ganze Objekt nennen wir einfach ein \"__ProtoMLP__\".\n",
    "\n",
    "Wir fügen bereits jetzt in der `init`-Methode ein Array namens `targets` hinzu. Wir werden diese später in der Traings-Routine verwenden. Sie enthält für jeden Index $k$ einen Vektor, der die Form (0,..., 0, 1, 0,..., 0), mit einer 1 an der $k$. Stelle hat. "
   ]
  },
  {
   "cell_type": "code",
   "execution_count": 5,
   "id": "b723ffcb-aeba-42fe-ad50-59cbe09e77b6",
   "metadata": {},
   "outputs": [],
   "source": [
    "import numpy as np\n",
    "\n",
    "class ProtoMLP:\n",
    "    def __init__(self, n_input, n_hidden, n_output):\n",
    "\n",
    "        self.wih = 2 * np.random.rand(n_hidden, n_input)  - 1\n",
    "        self.who = 2 * np.random.rand(n_output, n_hidden) - 1\n",
    "\n",
    "        self.transfer = lambda x: 1 / (1 + np.exp(-x))\n",
    "        self.targets = [np.array([int(a == b) for a in range(n_output)], ndmin = 2) for b in range(n_output)]\n",
    "\n",
    "    def predict(self, x):\n",
    "        return np.argmax(self.forward(x.T)[0])\n",
    "\n",
    "    def forward(self, x):\n",
    "        #x = np.array(x, ndmin = 2).T\n",
    "\n",
    "        hidden_input = np.dot(self.wih, x)\n",
    "        hidden_output = self.transfer(hidden_input)\n",
    "\n",
    "        final_input = np.dot(self.who, hidden_output)\n",
    "        final_output = self.transfer(final_input)\n",
    "\n",
    "        return final_output, hidden_output\n",
    "\n",
    "    def score(self, test_x, test_y):\n",
    "        falsch = []\n",
    "        for n, (x, y) in enumerate(zip(test_x, test_y)):\n",
    "            p = self.predict(x)\n",
    "            if p != y:\n",
    "                falsch.append(n)\n",
    "        result = 1. - (len(falsch) / len(test_x))\n",
    "\n",
    "        return result, falsch\n"
   ]
  },
  {
   "cell_type": "markdown",
   "id": "824b20f8-a7df-4f38-a2e6-b788eeaee575",
   "metadata": {},
   "source": [
    "### Aufbau des Netzwerks\n",
    "\n",
    "Ein- und Ausgabeschicht sind durch das Problem definiert:\n",
    "\n",
    "* 8 x 8 = 64 Neuronen in der __Eingabeschicht__\n",
    "* 10 Neuronen in der __Ausgabeschicht__, eines für jede Ziffer von 0 bis 9\n",
    "\n",
    "Bei der verborgenen Schicht sind wir frei, und hier beginnt die Arbeit des Data Scientists. Es gibt viele Möglichkeiten zum Experimentieren. Wir setzen die Anzahl der Neuronen auf 24, was einen guten Mittelwert ergibt.\n",
    "\n",
    "* 24 Neuronen in der __verborgenen Schicht__\n",
    "\n",
    "Wir erwarten, dass das \"ProtoMLP\" eine Trefferquote von etwa 10 % erzielt, was einem zufälligen Raten entspricht. Es ist eben noch kein _Wissen_ vorhanden. Probieren wir es aus, indem wir der`score`-Funktion die Testdaten übergeben:"
   ]
  },
  {
   "cell_type": "code",
   "execution_count": 6,
   "id": "20e982fa-773a-4cdf-a817-c2508f3123a5",
   "metadata": {},
   "outputs": [
    {
     "name": "stdout",
     "output_type": "stream",
     "text": [
      "Trefferquote: 9.72%\n"
     ]
    }
   ],
   "source": [
    "p_mlp = ProtoMLP(8 * 8, 24, 10) \n",
    "\n",
    "score, _ = p_mlp.score(X_test,y_test)\n",
    "print(f'Trefferquote: {score:.2%}')"
   ]
  },
  {
   "cell_type": "markdown",
   "id": "4eac3531-ceee-4cfa-9d41-4e01c4ba81d8",
   "metadata": {},
   "source": [
    "## Das lernende MLP\n",
    "\n",
    "Jetzt fehlt uns zu unserem MLP nur noch die Funktion `fit`, die die Gewichte basierend auf den Trainingsdaten anpasst. Wir müssen dazu aus den vorgegebenen Werten für __y__, die die Ziffern 0 - 9 bestimmen, entsprechende 10-dimensionale Vektoren verwenden, die am Index y eine 1 und ansonsten eine 0 haben. Das sind genau die Tagert-Vektoren, die wir im `ProtoMLP` bereits definiert haben."
   ]
  },
  {
   "cell_type": "code",
   "execution_count": 7,
   "id": "bf44db97-3abe-44d4-bfca-86b77d9fdb1d",
   "metadata": {},
   "outputs": [],
   "source": [
    "#from tqdm import tqdm\n",
    "\n",
    "class MLP(ProtoMLP):\n",
    "    \n",
    "    def fit(self, train_x, train_y, lr = 0.1, epochs = 1):\n",
    "        #for e in  tqdm(range(epochs)):\n",
    "        for e in range(epochs):            \n",
    "            for x, y in zip(train_x, train_y):\n",
    "                self.backpropagation(x, self.targets[y], lr)\n",
    "\n",
    "    def backpropagation(self, x, target, lr: float = 0.1):\n",
    "        x = np.transpose(np.array(x, ndmin = 2))\n",
    "        t = np.transpose(np.array(target, ndmin = 2))\n",
    "\n",
    "        final_output, hidden_output = self.forward(x)\n",
    "        output_error = t - final_output\n",
    "        hidden_error = np.dot(self.who.T, output_error)\n",
    "\n",
    "        self.who += lr * np.dot((output_error * final_output * (1.0 - final_output)), np.transpose(hidden_output))\n",
    "        self.wih += lr * np.dot((hidden_error * hidden_output * (1.0 - hidden_output)), np.transpose(x))            \n"
   ]
  },
  {
   "cell_type": "markdown",
   "id": "bffc8eb9-2654-49e4-98b6-308bbf79e160",
   "metadata": {},
   "source": [
    "## Training und Test des MLP\n",
    "\n",
    "Wir initialisieren das MLP wie zuvor mit den Anzahl der Neuronen der drei Schichten. Wir passen danach die Gewichte mit `fit` an und übergeben dabei die Trainings-Daten. Für den `score` verwenden wir die Test-Daten:"
   ]
  },
  {
   "cell_type": "code",
   "execution_count": 8,
   "id": "750de451-ad89-4b29-865f-46fb7b360652",
   "metadata": {},
   "outputs": [],
   "source": [
    "mlp = MLP(8 * 8, 24, 10) \n",
    "\n",
    "mlp.fit(X_train, y_train, epochs = 100)"
   ]
  },
  {
   "cell_type": "code",
   "execution_count": 9,
   "id": "d00e6108-f3f4-40d0-964c-b6d217960822",
   "metadata": {},
   "outputs": [
    {
     "name": "stdout",
     "output_type": "stream",
     "text": [
      "Trefferquote: 88.61%\n"
     ]
    }
   ],
   "source": [
    "score, falsch = mlp.score(X_test,y_test)\n",
    "print(f'Trefferquote: {score:.2%}')"
   ]
  },
  {
   "cell_type": "markdown",
   "id": "2c52c95d-240e-45c9-873c-c01097af74ad",
   "metadata": {},
   "source": [
    "Das sieht schon besser aus...\n",
    "\n",
    "### Bewertung des Ergebnisses\n",
    "\n",
    "In der Regel liegt die Trefferquote des trainierten MLP bei __90 %__! Allerdings haben wir auch 100 Durchläufe verwendet.\n",
    "\n",
    "Dieses Ergebnis ist wirklich verblüffend und beeindruckend, wenn man den geringen Aufwand bei der Erstellung des \"Programms\" (die Trainingsfunktion hat weniger als 10 Zeilen) und die kurze Zeitspanne des Trainings bedenkt - nur wenige Sekunden.\n",
    "\n",
    "Wie sehen die falsche bewerteten Ziffern aus? Die Indizes dieser Ziffern in den testdaten finden wir im array `falsch`:\n"
   ]
  },
  {
   "cell_type": "code",
   "execution_count": 10,
   "id": "5d08d71e-8fc3-479f-be50-bc734d08e182",
   "metadata": {},
   "outputs": [
    {
     "data": {
      "image/png": "[encoded data removed]",
      "text/plain": [
       "<Figure size 640x480 with 32 Axes>"
      ]
     },
     "metadata": {},
     "output_type": "display_data"
    }
   ],
   "source": [
    "f_img = [X_test[k].reshape(8,8) for k in falsch]\n",
    "\n",
    "rows, cols = 4, 8\n",
    "gallery(f_img,rows, cols,cmap='Reds')"
   ]
  },
  {
   "cell_type": "markdown",
   "id": "b2122a8d-4f36-4608-b916-c6ac0704eb0d",
   "metadata": {},
   "source": [
    "## Wie falsch sind die falschen Ergebnisse?\n",
    "\n",
    "Mit Hilfe eines Balkendiagramms lassen sich die Werte an den zehn Output-Neuronen gut darstellen. Die Funktion `predict` wählt das Neuron mit dem größten Wert (= Wahrscheinlichkeit = Ähnlichkeit) aus. Sieht man sich einige Wert an, so erkennt man, dass die Entscheidung bei den falschen Werten meist recht knapp ausgefallen ist:"
   ]
  },
  {
   "cell_type": "code",
   "execution_count": 11,
   "id": "bb060c3a-7cbf-4343-a032-f16766093920",
   "metadata": {},
   "outputs": [
    {
     "data": {
      "image/png": "[encoded data removed]",
      "text/plain": [
       "<Figure size 640x480 with 1 Axes>"
      ]
     },
     "metadata": {},
     "output_type": "display_data"
    }
   ],
   "source": [
    "import matplotlib.pyplot as plt\n",
    "\n",
    "X_falsch = X_test[falsch]\n",
    "res = mlp.forward(X_falsch[7])[0]\n",
    "plt.bar(list(range(10)),res);"
   ]
  },
  {
   "cell_type": "code",
   "execution_count": null,
   "id": "b7e73bdb-3201-4f99-903e-cd6b01c04117",
   "metadata": {},
   "outputs": [],
   "source": []
  }
 ],
 "metadata": {
  "kernelspec": {
   "display_name": "Python 3 (ipykernel)",
   "language": "python",
   "name": "python3"
  },
  "language_info": {
   "codemirror_mode": {
    "name": "ipython",
    "version": 3
   },
   "file_extension": ".py",
   "mimetype": "text/x-python",
   "name": "python",
   "nbconvert_exporter": "python",
   "pygments_lexer": "ipython3",
   "version": "3.12.11"
  }
 },
 "nbformat": 4,
 "nbformat_minor": 5
}
